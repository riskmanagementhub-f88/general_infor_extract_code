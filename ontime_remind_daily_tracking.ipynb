{
 "cells": [
  {
   "cell_type": "code",
   "execution_count": 1,
   "metadata": {},
   "outputs": [],
   "source": [
    "# Import dictionary\n",
    "import pandas as pd\n",
    "import pypyodbc as py\n",
    "import xlsxwriter\n",
    "import gspread\n",
    "import gspread_dataframe as gd\n",
    "from gspread_dataframe import get_as_dataframe, set_with_dataframe\n",
    "from oauth2client.service_account import ServiceAccountCredentials # Đọc dữ liệu từ googlesheets\n",
    "from df2gspread import df2gspread as d2g # Ghi dữ liệu lên googlesheets\n",
    "from pprint import pprint\n",
    "from googleapiclient import discovery\n",
    "import pypyodbc #connect với sql server\n",
    "import numpy as np #Tính toán 😊,-,*,/)\n",
    "import sqlalchemy #query trực tiếp\n",
    "import urllib #connect url\n",
    "import time #\n",
    "import datetime as dt\n",
    "from datetime import timedelta, datetime\n",
    "import pymssql\n",
    "import calendar\n",
    "from google.oauth2 import service_account\n",
    "import pygsheets"
   ]
  },
  {
   "cell_type": "code",
   "execution_count": 2,
   "metadata": {},
   "outputs": [
    {
     "name": "stdout",
     "output_type": "stream",
     "text": [
      "Connected to SQL server: DWH\n"
     ]
    }
   ],
   "source": [
    "# Connect to DB\n",
    "db = py.connect(\"Driver={ODBC Driver 17 for SQL Server};\"\n",
    "                        \"Server=103.69.193.246;\"\n",
    "                        \"Database=dwh;\"\n",
    "                \n",
    "                        \"uid=dwh_qtrr;pwd=DWH@qtrr\")\n",
    "print('Connected to SQL server: DWH')"
   ]
  },
  {
   "cell_type": "code",
   "execution_count": 3,
   "metadata": {},
   "outputs": [],
   "source": [
    "# Thư viện tương tác với googlesheets\n",
    "import pygsheets\n",
    "import json\n",
    "from google.oauth2 import service_account\n",
    "\n",
    "\n",
    "\n",
    "# open key to get data from GGsheets\n",
    "with open(r'D:\\F88\\Python code\\Immediate_warning\\service_account.json') as source:\n",
    "    info = json.load(source)\n",
    "credentials = service_account.Credentials.from_service_account_info(info)\n",
    "\n",
    "client = pygsheets.authorize(service_account_file=r'D:\\F88\\Python code\\Immediate_warning\\service_account.json')\n",
    "\n",
    "# collecting shop information from business department\n",
    "shop_id='1OCzHxTE7Er8_W1-IT92rTOCISAlufFOjcwtw2eIX0tU'\n",
    "shop_wb=client.open_by_key(shop_id)\n",
    "shop_data=shop_wb.worksheet_by_title('Everything').get_as_df()\n",
    "\n",
    "# another way to get data from GGsheet\n",
    "scope = [\"https://spreadsheets.google.com/feeds\",'https://www.googleapis.com/auth/spreadsheets',\"https://www.googleapis.com/auth/drive.file\",\"https://www.googleapis.com/auth/drive\"]\n",
    "credentials = ServiceAccountCredentials.from_json_keyfile_name(r'D:\\F88\\Python code\\Immediate_warning\\service_account.json', scope)\n",
    "gc = gspread.authorize(credentials)\n",
    "\n",
    "#Function chuyển sheet thành Data Frame\n",
    "def to_dataframe(wb_name,sheet_name,data_row,col):\n",
    "    a=wb_name.worksheet(sheet_name).get_all_values()\n",
    "    return pd.DataFrame(data=a[data_row:],columns=a[col])\n",
    "\n",
    "#Funtion update data vào sheet wb_name:tên wb,target_sheet: tên sheet cần update; data:dữ liệu muốn update\n",
    "def update_data(wb_name,target_sheet,data):\n",
    "    existing =to_dataframe(wb_name,target_sheet,1,0)\n",
    "    updated = existing.append(data)\n",
    "    gd.set_with_dataframe(wb_name.worksheet(target_sheet),updated)\n",
    "\n",
    "# Function ghi đè dữ liệu lên gg sheet\n",
    "def write_data(wb_name,ws_name,ws_range,data):\n",
    "    wb_name.values_clear(ws_range)\n",
    "    sheet=wb_name.worksheet(ws_name)\n",
    "    set_with_dataframe(sheet,data)\n",
    "    print('Đã ghi dữ liệu lên sheet '+ ws_name)\n",
    "\n",
    "# get shop information from marketing\n",
    "# Lấy ID shopdetail\n",
    "shop_detail_id='1ZTQE_pfBCAUr-0GSMPJBqtCyZVxX4hdiPuT_RDrdjeQ'\n",
    "shop_detail_wb=gc.open_by_key(shop_detail_id)\n",
    "shop_data_sub=to_dataframe(shop_detail_wb,'shop_detail',1,0)"
   ]
  },
  {
   "cell_type": "code",
   "execution_count": 4,
   "metadata": {},
   "outputs": [],
   "source": [
    "# shop_data.to_excel('shop_data.xlsx', index = False)"
   ]
  },
  {
   "cell_type": "code",
   "execution_count": 5,
   "metadata": {},
   "outputs": [],
   "source": [
    "#  Check date = today() - 1\n",
    "check_date= (dt.date.today()+dt.timedelta(days=-1)).strftime('%Y-%m-%d')\n",
    "# shop active on Pos\n",
    "shop_detail_pos = pd.read_sql_query(\"\"\"Declare @check_date date = '\"\"\"+check_date+\"\"\"'\n",
    "select  sd2.code, sd2.name\n",
    "from (select distinct(sd.shopcode) shop_code\n",
    "from (SELECT case when code = 'SGN0120' then 'SGN0147'\n",
    "when code = 'SG2046' then 'SGN0126'\n",
    "when code = 'SGN0107' then 'SG2014'\n",
    "else code end shopcode\n",
    "  FROM [dwh].[dbo].[ShopDetail]\n",
    "  where code not in ('TEST','HS', 'F88LUX','HNLTK','HNIXLN01','SGNXLN01','HNBM1','HOISO')) sd\n",
    "  left join (select shopcode, max(fromdate) max_cre\n",
    "\tfrom pawn group by shopcode) pa on pa.shopcode = sd.shopcode\n",
    "\twhere pa.max_cre >= dateadd(d, -15, @check_date)) main\n",
    "left join [dwh].[dbo].[ShopDetail] sd2 on main.shop_code = sd2.code\"\"\", db)\n",
    "\n",
    "# select field from shop infor of business department\n",
    "shop_data = shop_data[['Tên PGD', 'Mã PGD', 'Phường/Xã', 'Quận/Huyện',\n",
    "       'Tỉnh/TP', 'Vĩ độ', 'Kinh độ','Shop ID','Vùng/Miền','Thời gian KT', 'Vùng']]\n",
    "shop_data.rename(columns={'Tỉnh/TP':'Tỉnh/ Thành phố'}, inplace=True)\n",
    "\n",
    "# Adding conditions to shop information\n",
    "shop_data = shop_data.merge(shop_detail_pos, left_on='Mã PGD', right_on='code', how = 'left')\n",
    "shop_data = shop_data[shop_data['name'].isnull() == False]\n",
    "\n",
    "shop_data_sub = shop_data_sub[['Mã PGD', 'GĐM', 'TPK', 'QLKV']]\n",
    "\n",
    "shop_data = shop_data.merge(shop_data_sub, on = 'Mã PGD', how = 'left')\n",
    "\n",
    "# Get writeoff list\n",
    "writeoff_id = '15r30_u_xE0iUexkUgsbZqcZTy0htmSflCp-uty_1hWA'\n",
    "writeoff_wb = client.open_by_key(writeoff_id)\n",
    "write_off_list=writeoff_wb.worksheet_by_title('list').get_as_df()\n",
    "\n",
    "write_off_list = write_off_list[['write_off_period', 'codeno', 'amount']]\n",
    "write_off_list.columns = ['write_off_period', 'pawn_code', 'amount']"
   ]
  },
  {
   "cell_type": "markdown",
   "metadata": {},
   "source": [
    "ONTIME RATE"
   ]
  },
  {
   "cell_type": "code",
   "execution_count": 6,
   "metadata": {},
   "outputs": [],
   "source": [
    "# Car Title\n",
    "def ontime_dkot(fromdate, todate, n_days_after):\n",
    "    monthly_ontime_str = \"\"\"Declare @schedule_from date ='\"\"\"+fromdate+\"\"\"'\n",
    "Declare @schedule_to date ='\"\"\"+todate+\"\"\"'\n",
    "select 'monthly_org_paid' title_type, *,case when (pmt_stt like N'overdue' and dpd_\"\"\"+n_days_after+\"\"\"_day_after is not null and dpd_\"\"\"+n_days_after+\"\"\"_day_after>0) then N'still_over_due'\n",
    "when pmt_stt like N'overdue' and (dpd_\"\"\"+n_days_after+\"\"\"_day_after is null or dpd_\"\"\"+n_days_after+\"\"\"_day_after=0) and t_\"\"\"+n_days_after+\"\"\"_day_after<getdate() then N'paid_after_\"\"\"+n_days_after+\"\"\"_day'\n",
    "when pmt_stt like N'overdue' and t_\"\"\"+n_days_after+\"\"\"_day_after>=getdate() then N'out_of_range'\n",
    "else N'ontime' end as stt_after_\"\"\"+n_days_after+\"\"\"_day,\n",
    "case when PackageCode like '%VAY_NHANH%' then N'Vay nhanh' \n",
    "else N'Vay thường' end as package_type\n",
    " from (\n",
    "select  pd.pawnid,po.tuoino dpd_yesterday,po2.TuoiNo dpd_\"\"\"+n_days_after+\"\"\"_day_after,pa.PackageCode,pa.shopname, pa.shopcode,areaid,\n",
    "pd.scheduletodate,\n",
    "dateadd(day,\"\"\"+n_days_after+\"\"\",pd.ScheduleToDate) t_\"\"\"+n_days_after+\"\"\"_day_after,pd.acc_sum,pd.paydate,\n",
    "pd.acc_prin_payment,paidmoney,pa.status,pa.CodeNo,pa.FromDate,pa.ToDate,pa.closedate,liquid_dt, pa.cus_type,  \n",
    "case  when (pd.paydate<=ScheduleToDate  and acc_prin_payment>=(acc_sum-1000)) or CloseDate<=ScheduleToDate \n",
    "then N'ontime' else N'overdue' end as pmt_stt,\n",
    "case when pa.frequency <= 30 then N'1. Kỳ hạn 1 tháng'\n",
    "  when pa.frequency <= 90 then N'2. Kỳ hạn 3 tháng'\n",
    "  when pa.frequency <= 180 then N'3. Kỳ hạn 6 tháng'\n",
    "  when pa.frequency <= 270 then N'4. Kỳ hạn 9 tháng'\n",
    "  when pa.frequency <= 360 then N'5. Kỳ hạn 12 tháng'\n",
    "  else N'6. >12 tháng' end package_time_range,\n",
    "  case when (pa.LoanMoneyOrg - pa.[InsurranceMoney]) <= 50000000 then '0. <=50tr'\n",
    "when (pa.LoanMoneyOrg - pa.[InsurranceMoney]) <= 100000000 then '2. 100-200tr'\n",
    "when pa.PackageCode is not null and  (pa.LoanMoneyOrg - pa.[InsurranceMoney]) > 200000000 then N'4. >200tr'\n",
    "when pa.PackageCode is null and  (pa.LoanMoneyOrg - pa.[InsurranceMoney]) <= 300000000 then '3. 200-300tr'\n",
    "else N'4. >300tr' end \"package_money_range\",(pa.LoanMoneyOrg - pa.[InsurranceMoney]) net_disbur, loanmoneyorg\n",
    "from pawnoverduedetail pd  \n",
    "left join pawnoverdue po on (po.pawnid=pd.pawnid and po.created=dateadd(day,-1,pd.scheduletodate))\n",
    "left join pawnoverdue po2 on (po2.pawnid=pd.pawnid and po2.created=dateadd(day,\"\"\"+n_days_after+\"\"\",pd.scheduletodate))\n",
    "left join  (select pa1.*,shop.name shopname,shop.areaid,\n",
    "case when Lag (Pawnid) over (PARTITION BY customerid, [CategoryCode] ORDER BY fromdate asc) is null then N'Khách mới' else N'Khách cũ' end \"cus_type\" from Pawn pa1 \n",
    "left join ShopDetail shop on pa1.shopcode=shop.code )pa on pa.pawnid=pd.pawnid \n",
    "left join w_pawn_liquid_sale_f li on li.pawn_wid=pd.pawnid  \n",
    " where ((closedate is null and liquid_dt is null) or(ScheduleToDate<=CloseDate) or (scheduletodate<=liquid_dt)) \n",
    " and pa.STATUS not in (15,11,140) and pa.CategoryCode like N'%15%'\n",
    "  and InterestMoney like N'%goc%' and pd.scheduletodate<@schedule_to and pd.scheduletodate>=@schedule_from) tab\n",
    "  where dpd_yesterday<=10\n",
    "  order by pawnid,scheduletodate\"\"\"\n",
    "    eop_ontime_str= \"\"\"Declare @schedule_from date ='\"\"\"+fromdate+\"\"\"'\n",
    "Declare @schedule_to date ='\"\"\"+todate+\"\"\"'\n",
    "select 'eop_org_paid' title_type, *,case when (pmt_stt like N'overdue' and dpd_\"\"\"+n_days_after+\"\"\"_day_after is not null and dpd_\"\"\"+n_days_after+\"\"\"_day_after>0) then N'still_over_due'\n",
    "when pmt_stt like N'overdue' and (dpd_\"\"\"+n_days_after+\"\"\"_day_after is null or dpd_\"\"\"+n_days_after+\"\"\"_day_after=0) and t_\"\"\"+n_days_after+\"\"\"_day_after<getdate() then N'paid_after_\"\"\"+n_days_after+\"\"\"_day'\n",
    "when pmt_stt like N'overdue' and t_\"\"\"+n_days_after+\"\"\"_day_after>=getdate() then N'out_of_range'\n",
    "else N'ontime' end as stt_after_\"\"\"+n_days_after+\"\"\"_day,\n",
    "case when PackageCode like '%VAY_NHANH%' then N'Vay nhanh' else N'Vay thường' end as package_type\n",
    " from (\n",
    "select  ROW_NUMBER() over (partition by pd.pawnid order by moneyinterest) as row_num,pd.pawnid,po.tuoino dpd_yesterday,\n",
    "po2.TuoiNo dpd_\"\"\"+n_days_after+\"\"\"_day_after,pa.PackageCode,pa.shopname,pa.shopcode,areaid,pd.scheduletodate,dateadd(day,\"\"\"+n_days_after+\"\"\",pd.ScheduleToDate) t_\"\"\"+n_days_after+\"\"\"_day_after\n",
    ",pd.acc_sum,pd.paydate,\n",
    "pd.acc_prin_payment,paidmoney,pa.status,pa.CodeNo,pa.FromDate,pa.ToDate,pa.closedate,liquid_dt, pa.cus_type,  \n",
    "case  when (pd.paydate<=ScheduleToDate  and acc_prin_payment>=(acc_sum-1000)) or CloseDate<=ScheduleToDate \n",
    "then N'ontime' else N'overdue' end as pmt_stt,\n",
    "case when pa.frequency <= 30 then N'1. Kỳ hạn 1 tháng'\n",
    "  when pa.frequency <= 90 then N'2. Kỳ hạn 3 tháng'\n",
    "  when pa.frequency <= 180 then N'3. Kỳ hạn 6 tháng'\n",
    "  when pa.frequency <= 270 then N'4. Kỳ hạn 9 tháng'\n",
    "  when pa.frequency <= 360 then N'5. Kỳ hạn 12 tháng'\n",
    "  else N'6. >12 tháng' end package_time_range,\n",
    "  case when (pa.LoanMoneyOrg - pa.[InsurranceMoney]) <= 50000000 then '0. <=50tr'\n",
    "when (pa.LoanMoneyOrg - pa.[InsurranceMoney]) <= 100000000 then '2. 100-200tr'\n",
    "when pa.PackageCode is not null and  (pa.LoanMoneyOrg - pa.[InsurranceMoney]) > 200000000 then N'4. >200tr'\n",
    "when pa.PackageCode is null and  (pa.LoanMoneyOrg - pa.[InsurranceMoney]) <= 300000000 then '3. 200-300tr'\n",
    "else N'4. >300tr' end \"package_money_range\", (pa.LoanMoneyOrg - pa.[InsurranceMoney]) net_disbur, loanmoneyorg\n",
    "from pawncaroverdue pd  \n",
    "left join pawnoverdue po on (po.pawnid=pd.pawnid and po.created=dateadd(day,-1,pd.scheduletodate))\n",
    "left join pawnoverdue po2 on (po2.pawnid=pd.pawnid and po2.created=dateadd(day,\"\"\"+n_days_after+\"\"\",pd.scheduletodate))\n",
    "left join  (select pa1.*,shop.name shopname,shop.areaid,\n",
    "case when Lag (Pawnid) over (PARTITION BY customerid, [CategoryCode] ORDER BY fromdate asc) is null then N'Khách mới' else N'Khách cũ' end \"cus_type\"\n",
    "from Pawn pa1 \n",
    "left join ShopDetail shop on pa1.shopcode=shop.code )pa on pa.pawnid=pd.pawnid \n",
    "left join w_pawn_liquid_sale_f li on li.pawn_wid=pd.pawnid  \n",
    " where ((closedate is null and liquid_dt is null) or(ScheduleToDate<=CloseDate) or (scheduletodate<=liquid_dt)) \n",
    " and pa.STATUS not in (15,11,140) and pa.CategoryCode like N'%15%'\n",
    "  and pd.scheduletodate<=@schedule_to and pd.scheduletodate>=@schedule_from) tab\n",
    "  where dpd_yesterday<=10 and row_num=1\n",
    "  order by pawnid,scheduletodate\"\"\"\n",
    "    monthly_ontime = pd.read_sql_query(monthly_ontime_str,db)\n",
    "    eop_ontime = pd.read_sql_query(eop_ontime_str,db)\n",
    "    ontime_data = pd.concat([monthly_ontime, eop_ontime], ignore_index=True)\n",
    "    ontime_data = ontime_data.merge(write_off_list, left_on = 'codeno', right_on = 'pawn_code',how = 'left')\n",
    "    ontime_data = ontime_data[ontime_data['pawn_code'].isnull()==True]\n",
    "    column_name='stt_after_'+n_days_after+'_day'\n",
    "    colmn_name_2='paid_after_'+n_days_after+'_day'\n",
    "    ontime_data=pd.merge(ontime_data,shop_data, left_on='shopcode',right_on='Mã PGD',how='left')\n",
    "    ontime_data = ontime_data[ontime_data['Vùng/Miền'].isnull() == False]\n",
    "    ontime_data['khu_vuc'] = np.where(ontime_data['Tỉnh/ Thành phố'] == 'Hà Nội', 'Hà Nội', np.where(ontime_data['Tỉnh/ Thành phố'] == 'TP. Hồ Chí Minh', 'TP. Hồ Chí Minh',np.where((ontime_data['Tỉnh/ Thành phố'] != 'Hà Nội') & (ontime_data['Vùng/Miền'] == 'Miền Bắc'), 'Tỉnh MB', np.where((ontime_data['Tỉnh/ Thành phố'] != 'TP. Hồ Chí Minh') & (ontime_data['Vùng/Miền'] == 'Miền Nam'), 'Tỉnh MN', 'Miền Trung'))))\n",
    "    ontime_data.insert(0,'categoryname','Đăng ký Ô tô')\n",
    "    ontime_data['brr_ym'] = [i.strftime(\"%Y%m\") for i in ontime_data['fromdate']]\n",
    "    return ontime_data"
   ]
  },
  {
   "cell_type": "code",
   "execution_count": 7,
   "metadata": {},
   "outputs": [],
   "source": [
    "#  Ontime Motor Title\n",
    "def ontime_dkxm(fromdate,todate,n_days_after_num):\n",
    "    n_days_after=n_days_after_num\n",
    "    ontime_dkxm_str = \"\"\"Declare @schedule_from date ='\"\"\"+fromdate+\"\"\"'\n",
    "Declare @schedule_to date ='\"\"\"+todate+\"\"\"'\n",
    "select 'motor_title' title_type,*,case when (pmt_stt like N'overdue' and dpd_\"\"\"+n_days_after+\"\"\"_day_after is not null and dpd_\"\"\"+n_days_after+\"\"\"_day_after>0) then N'still_over_due'\n",
    "when pmt_stt like N'overdue' and (dpd_\"\"\"+n_days_after+\"\"\"_day_after is null or dpd_\"\"\"+n_days_after+\"\"\"_day_after=0) and t_\"\"\"+n_days_after+\"\"\"_day_after<getdate() then N'paid_after_\"\"\"+n_days_after+\"\"\"_day'\n",
    "when pmt_stt like N'overdue' and t_\"\"\"+n_days_after+\"\"\"_day_after>=getdate() then N'out_of_range'\n",
    "else N'ontime' end as stt_after_\"\"\"+n_days_after+\"\"\"_day,case when PackageCode like '%VAY_NHANH%' then N'Vay nhanh' else N'Vay thường' end as package_type\n",
    " from (\n",
    "select  pd.pawnid,po.tuoino dpd_yesterday,po2.TuoiNo dpd_\"\"\"+n_days_after+\"\"\"_day_after,pa.PackageCode, pa.shopname,pa.shopcode,\n",
    "areaid,pd.scheduletodate,\n",
    "dateadd(day,\"\"\"+n_days_after_num+\"\"\",pd.ScheduleToDate) t_\"\"\"+n_days_after+\"\"\"_day_after,pd.principalmoney,pd.acc_sum,pd.paydate,\n",
    "pd.acc_prin_payment,paidmoney,pa.status,pa.CodeNo,pa.FromDate,pa.ToDate,pa.closedate,liquid_dt,  pa.cus_type,\n",
    "case  when (pd.paydate<=ScheduleToDate  and acc_prin_payment>=(acc_sum-1000)) or CloseDate<=ScheduleToDate \n",
    "then N'ontime' else N'overdue' end as pmt_stt,\n",
    "case when pa.frequency <= 30 then N'1. Kỳ hạn 1 tháng'\n",
    "  when pa.frequency <= 90 then N'2. Kỳ hạn 3 tháng'\n",
    "  when pa.frequency <= 180 then N'3. Kỳ hạn 6 tháng'\n",
    "  when pa.frequency <= 270 then N'4. Kỳ hạn 9 tháng'\n",
    "  when pa.frequency <= 360 then N'5. Kỳ hạn 12 tháng'\n",
    "  else N'6. >12 tháng' end package_time_range,\n",
    "  case when (pa.LoanMoneyOrg - pa.[InsurranceMoney]) <= 3000000 then '0. <=3tr'\n",
    "\t\twhen (pa.LoanMoneyOrg - pa.[InsurranceMoney]) <= 10000000 then '1. 3-10tr'\n",
    "\t\twhen (pa.LoanMoneyOrg - pa.[InsurranceMoney]) <= 15000000 then '2. 10-15tr'\n",
    "\t\twhen (pa.LoanMoneyOrg - pa.[InsurranceMoney]) <= 25000000 then '3. 15-25tr'\n",
    "\t\telse '4. >25tr' end \"package_money_range\", (pa.LoanMoneyOrg - pa.[InsurranceMoney]) net_disbur, loanmoneyorg\n",
    "from pawnoverduedetail pd  \n",
    "left join pawnoverdue po on (po.pawnid=pd.pawnid and po.created=dateadd(day,-1,pd.scheduletodate))\n",
    "left join pawnoverdue po2 on (po2.pawnid=pd.pawnid and po2.created=dateadd(day,\"\"\"+n_days_after_num+\"\"\",pd.scheduletodate))\n",
    "left join  (select pa1.*,shop.name shopname,shop.areaid,\n",
    "case when Lag (pa1.Pawnid) over (PARTITION BY pa1.customerid, \n",
    "pa1.[CategoryCode] ORDER BY pa1.fromdate asc) is null then N'Khách mới' else N'Khách cũ' end \"cus_type\" \n",
    "from Pawn pa1 \n",
    "left join ShopDetail shop on pa1.shopcode=shop.code )pa on pa.pawnid=pd.pawnid \n",
    "left join w_pawn_liquid_sale_f li on li.pawn_wid=pd.pawnid  \n",
    " where ((closedate is null and liquid_dt is null) or(ScheduleToDate<=CloseDate) or (scheduletodate<=liquid_dt)) \n",
    " and pa.STATUS not in (15,11,140) and pa.CategoryCode like N'%17%'\n",
    "  and InterestMoney like N'%goc%' and pd.scheduletodate<=@schedule_to and pd.scheduletodate>=@schedule_from) tab\n",
    "  where dpd_yesterday<=10\n",
    "  order by pawnid,scheduletodate\"\"\"\n",
    "#     return ontime_dkxm_str\n",
    "    ontime_data=pd.read_sql_query(ontime_dkxm_str,db)\n",
    "    ontime_data = ontime_data.merge(write_off_list, left_on = 'codeno', right_on = 'pawn_code',how = 'left')\n",
    "    ontime_data = ontime_data[ontime_data['pawn_code'].isnull()==True]\n",
    "    column_name='stt_after_'+n_days_after+'_day'\n",
    "    colmn_name_2='paid_after_'+n_days_after+'_day'\n",
    "    ontime_data=pd.merge(ontime_data,shop_data,left_on='shopcode',right_on='Mã PGD',how='left')\n",
    "    ontime_data = ontime_data[ontime_data['Vùng/Miền'].isnull() == False]\n",
    "    ontime_data['khu_vuc'] = np.where(ontime_data['Tỉnh/ Thành phố'] == 'Hà Nội', 'Hà Nội', np.where(ontime_data['Tỉnh/ Thành phố'] == 'TP. Hồ Chí Minh', 'TP. Hồ Chí Minh',np.where((ontime_data['Tỉnh/ Thành phố'] != 'Hà Nội') & (ontime_data['Vùng/Miền'] == 'Miền Bắc'), 'Tỉnh MB', np.where((ontime_data['Tỉnh/ Thành phố'] != 'TP. Hồ Chí Minh') & (ontime_data['Vùng/Miền'] == 'Miền Nam'), 'Tỉnh MN','Miền Trung'))))\n",
    "    ontime_data.insert(0,'categoryname','Đăng ký xe máy')\n",
    "    ontime_data['brr_ym'] = [i.strftime(\"%Y%m\") for i in ontime_data['fromdate']]\n",
    "    #     ontime_pivot=pd.pivot_table(ontime_data,ikto máy')=['areaid','shopname', 'Miền', 'Tỉnh/ Thành phố','package_type'],columns=column_name,values='pawnid',aggfunc='count',margins=True).reset_index()\n",
    "#     ontime_pivot.insert(0,'categoryname','Đăng ký xe máy')\n",
    "#     ontime_pivot['ontime_rate']=ontime_pivot.ontime/ontime_pivot.All\n",
    "#     ontime_pivot['paid_when_dpd_less_than_'+n_days_after_num+'_rate']=(ontime_pivot.ontime+ontime_pivot[colmn_name_2])/ontime_pivot.All\n",
    "#     ontime_pivot.to_excel(r'D:\\F88\\Python code\\ontime_dkot\\ontime_dkxm_'+fromdate+\"_\"+todate+'.xlsx', index=False)\n",
    "    \n",
    "#     ontime_data['todate_ym'] = datetime.strptime(ontime['todate'], '%Y-%m-%d').strftime('%Y%m')\n",
    "#     ontime_data['fromdate_ym'] = datetime.strptime(ontime['fromdate'], '%Y-%m-%d').strftime('%Y%m')\n",
    "    return ontime_data"
   ]
  },
  {
   "cell_type": "code",
   "execution_count": 8,
   "metadata": {},
   "outputs": [],
   "source": [
    "#  Starting day in time range\n",
    "n_days_after = '3'\n",
    "cb_day= dt.date.today()+dt.timedelta(days=-1)\n",
    "\n",
    "# Time range\n",
    "# compare time range\n",
    "compare_range=6\n",
    "date_list = []\n",
    "ob_list = []\n",
    "cb_list=[]\n",
    "for i in range (1,compare_range):\n",
    "    last_day=calendar.monthrange(cb_day.year,cb_day.month-i)[1]\n",
    "    last_day_2=calendar.monthrange(cb_day.year,cb_day.month-i+1)[1]\n",
    "    ob_day = dt.datetime(cb_day.year,cb_day.month-i,last_day)+ dt.timedelta(days = 1)\n",
    "    ob_day = ob_day.strftime(\"%Y-%m-%d\")\n",
    "    cb_day_2=dt.datetime(cb_day.year,cb_day.month-i+1,min(last_day_2,cb_day.day)).strftime(\"%Y-%m-%d\")\n",
    "    ob_list.append(ob_day)\n",
    "    cb_list.append(cb_day_2)                     \n",
    "ext_date_dict = dict(zip(ob_list, cb_list))\n",
    "for i in ext_date_dict.items():\n",
    "    i = i + (n_days_after,)\n",
    "    date_list.append(i)"
   ]
  },
  {
   "cell_type": "code",
   "execution_count": 9,
   "metadata": {},
   "outputs": [
    {
     "data": {
      "text/plain": [
       "[('2020-12-01', '2020-12-28', '3'),\n",
       " ('2020-11-01', '2020-11-28', '3'),\n",
       " ('2020-10-01', '2020-10-28', '3'),\n",
       " ('2020-09-01', '2020-09-28', '3'),\n",
       " ('2020-08-01', '2020-08-28', '3')]"
      ]
     },
     "execution_count": 9,
     "metadata": {},
     "output_type": "execute_result"
    }
   ],
   "source": [
    "date_list"
   ]
  },
  {
   "cell_type": "code",
   "execution_count": 10,
   "metadata": {},
   "outputs": [
    {
     "name": "stderr",
     "output_type": "stream",
     "text": [
      "D:\\Anaconda3\\lib\\site-packages\\ipykernel_launcher.py:81: FutureWarning: Sorting because non-concatenation axis is not aligned. A future version\n",
      "of pandas will change to not sort by default.\n",
      "\n",
      "To accept the future behavior, pass 'sort=False'.\n",
      "\n",
      "To retain the current behavior and silence the warning, pass 'sort=True'.\n",
      "\n"
     ]
    }
   ],
   "source": [
    "# raw data thiss month (m)\n",
    "ontime_dkot_this_month = ontime_dkot(date_list[0][0],date_list[0][1],n_days_after)\n",
    "ontime_dkxm_this_month = ontime_dkxm(date_list[0][0],date_list[0][1],n_days_after)"
   ]
  },
  {
   "cell_type": "code",
   "execution_count": 11,
   "metadata": {},
   "outputs": [
    {
     "name": "stderr",
     "output_type": "stream",
     "text": [
      "D:\\Anaconda3\\lib\\site-packages\\ipykernel_launcher.py:81: FutureWarning: Sorting because non-concatenation axis is not aligned. A future version\n",
      "of pandas will change to not sort by default.\n",
      "\n",
      "To accept the future behavior, pass 'sort=False'.\n",
      "\n",
      "To retain the current behavior and silence the warning, pass 'sort=True'.\n",
      "\n"
     ]
    }
   ],
   "source": [
    "# raw data last month (m-1)\n",
    "ontime_dkot_last_month = ontime_dkot(date_list[1][0],date_list[1][1],n_days_after)\n",
    "ontime_dkxm_last_month = ontime_dkxm(date_list[1][0],date_list[1][1],n_days_after)"
   ]
  },
  {
   "cell_type": "code",
   "execution_count": 12,
   "metadata": {},
   "outputs": [
    {
     "name": "stderr",
     "output_type": "stream",
     "text": [
      "D:\\Anaconda3\\lib\\site-packages\\pandas\\core\\frame.py:6211: FutureWarning: Sorting because non-concatenation axis is not aligned. A future version\n",
      "of pandas will change to not sort by default.\n",
      "\n",
      "To accept the future behavior, pass 'sort=False'.\n",
      "\n",
      "To retain the current behavior and silence the warning, pass 'sort=True'.\n",
      "\n",
      "  sort=sort)\n"
     ]
    }
   ],
   "source": [
    "# Bảng tổng hợp data raw của DKXM\n",
    "ontime_spdk = ontime_dkot_this_month.append( ontime_dkxm_this_month, ignore_index = True)\n",
    "ontime_spdk = ontime_spdk.fillna(0)\n",
    "ontime_spdk_last_month = ontime_dkot_last_month.append( ontime_dkxm_last_month, ignore_index = True)\n",
    "ontime_spdk_last_month = ontime_spdk_last_month.fillna(0)"
   ]
  },
  {
   "cell_type": "code",
   "execution_count": 13,
   "metadata": {},
   "outputs": [],
   "source": [
    "#  categoryname, package_type, area\n",
    "ontime_overview_1 = ontime_spdk.pivot_table(columns=['categoryname', 'package_type','Vùng/Miền'], index ='pmt_stt', values ='pawnid',aggfunc ='nunique').reset_index()\n",
    "ontime_overview_2 = ontime_spdk.pivot_table(columns=['categoryname', 'package_type','Vùng/Miền'], index ='stt_after_3_day', values ='pawnid', aggfunc ='nunique').reset_index()\n",
    "ontime_overview_1_last_month = ontime_spdk_last_month.pivot_table(columns=['categoryname', 'package_type','Vùng/Miền'], index ='pmt_stt', values ='pawnid',aggfunc ='nunique').reset_index()\n",
    "ontime_overview_2_last_month = ontime_spdk_last_month.pivot_table(columns=['categoryname', 'package_type','Vùng/Miền'], index ='stt_after_3_day', values ='pawnid', aggfunc ='nunique').reset_index()"
   ]
  },
  {
   "cell_type": "code",
   "execution_count": 14,
   "metadata": {},
   "outputs": [],
   "source": [
    "ontime_overview_1 = ontime_overview_1.fillna(0)\n",
    "ontime_overview_2 = ontime_overview_2.fillna(0)\n",
    "ontime_overview_1_last_month = ontime_overview_1_last_month.fillna(0)\n",
    "ontime_overview_2_last_month = ontime_overview_2_last_month.fillna(0)"
   ]
  },
  {
   "cell_type": "code",
   "execution_count": 15,
   "metadata": {},
   "outputs": [],
   "source": [
    "# category, area\n",
    "ontime_khuvuc_1 = ontime_spdk.pivot_table(columns='khu_vuc', index = ['categoryname','pmt_stt'], values='pawnid', aggfunc='nunique').reset_index()\n",
    "ontime_khuvuc_2 = ontime_spdk.pivot_table(columns='khu_vuc', index = ['categoryname','stt_after_3_day'], values='pawnid', aggfunc='nunique').reset_index()\n",
    "ontime_khuvuc_1_last_month = ontime_spdk_last_month.pivot_table(columns='khu_vuc', index = ['categoryname','pmt_stt'], values='pawnid', aggfunc='nunique').reset_index()\n",
    "ontime_khuvuc_2_last_month = ontime_spdk_last_month.pivot_table(columns='khu_vuc', index = ['categoryname','stt_after_3_day'], values='pawnid', aggfunc='nunique').reset_index()"
   ]
  },
  {
   "cell_type": "code",
   "execution_count": 16,
   "metadata": {},
   "outputs": [],
   "source": [
    "ontime_khuvuc_1 = ontime_khuvuc_1[['categoryname','pmt_stt','Hà Nội','Tỉnh MB','TP. Hồ Chí Minh','Tỉnh MN','Miền Trung']]\n",
    "ontime_khuvuc_2 = ontime_khuvuc_2[['categoryname','stt_after_3_day','Hà Nội','Tỉnh MB','TP. Hồ Chí Minh','Tỉnh MN','Miền Trung']]\n",
    "ontime_khuvuc_1_last_month = ontime_khuvuc_1_last_month[['categoryname','pmt_stt','Hà Nội','Tỉnh MB','TP. Hồ Chí Minh','Tỉnh MN','Miền Trung']]\n",
    "ontime_khuvuc_2_last_month = ontime_khuvuc_2_last_month[['categoryname','stt_after_3_day','Hà Nội','Tỉnh MB','TP. Hồ Chí Minh','Tỉnh MN','Miền Trung']]\n",
    "ontime_khuvuc_1 = ontime_khuvuc_1.fillna(0)\n",
    "ontime_khuvuc_2 = ontime_khuvuc_2.fillna(0)\n",
    "ontime_khuvuc_1_last_month = ontime_khuvuc_1_last_month.fillna(0)\n",
    "ontime_khuvuc_2_last_month = ontime_khuvuc_2_last_month.fillna(0)"
   ]
  },
  {
   "cell_type": "code",
   "execution_count": 17,
   "metadata": {},
   "outputs": [],
   "source": [
    "# area, category, package\n",
    "ontime_khuvuc_package_1 = ontime_spdk.pivot_table(columns='khu_vuc', index = ['categoryname', 'package_type','pmt_stt'], values='pawnid', aggfunc='nunique').reset_index()\n",
    "ontime_khuvuc_package_2 = ontime_spdk.pivot_table(columns='khu_vuc', index = ['categoryname', 'package_type','stt_after_3_day'], values='pawnid', aggfunc='nunique').reset_index()\n",
    "ontime_khuvuc_package_1_last_month = ontime_spdk_last_month.pivot_table(columns='khu_vuc', index = ['categoryname', 'package_type','pmt_stt'], values='pawnid', aggfunc='nunique').reset_index()\n",
    "ontime_khuvuc_package_2_last_month = ontime_spdk_last_month.pivot_table(columns='khu_vuc', index = ['categoryname', 'package_type','stt_after_3_day'], values='pawnid', aggfunc='nunique').reset_index()"
   ]
  },
  {
   "cell_type": "code",
   "execution_count": 18,
   "metadata": {},
   "outputs": [],
   "source": [
    "ontime_khuvuc_package_1 = ontime_khuvuc_package_1[['categoryname', 'package_type', 'pmt_stt', 'Hà Nội','Tỉnh MB','TP. Hồ Chí Minh','Tỉnh MN','Miền Trung']]\n",
    "ontime_khuvuc_package_2 = ontime_khuvuc_package_2[['categoryname', 'package_type', 'stt_after_3_day', 'Hà Nội','Tỉnh MB','TP. Hồ Chí Minh','Tỉnh MN','Miền Trung']]\n",
    "ontime_khuvuc_package_1_last_month = ontime_khuvuc_package_1_last_month[['categoryname', 'package_type', 'pmt_stt', 'Hà Nội','Tỉnh MB','TP. Hồ Chí Minh','Tỉnh MN','Miền Trung']]\n",
    "ontime_khuvuc_package_2_last_month = ontime_khuvuc_package_2_last_month[['categoryname', 'package_type', 'stt_after_3_day', 'Hà Nội','Tỉnh MB','TP. Hồ Chí Minh','Tỉnh MN','Miền Trung']]"
   ]
  },
  {
   "cell_type": "code",
   "execution_count": 19,
   "metadata": {},
   "outputs": [],
   "source": [
    "# shop, category\n",
    "ontime_pgd = ontime_spdk.pivot_table(index=['categoryname','khu_vuc','shopname'], columns='stt_after_3_day', values='pawnid', aggfunc='nunique').reset_index()\n",
    "ontime_pgd_last_month = ontime_spdk_last_month.pivot_table(index=['categoryname','khu_vuc','shopname'], columns='stt_after_3_day', values='pawnid', aggfunc='nunique').reset_index()\n",
    "ontime_pgd = ontime_pgd.fillna(0)\n",
    "ontime_pgd_last_month = ontime_pgd_last_month.fillna(0)"
   ]
  },
  {
   "cell_type": "code",
   "execution_count": 20,
   "metadata": {},
   "outputs": [],
   "source": [
    "# ontime_pgd['All']=ontime_pgd['ontime']+ontime_pgd['paid_after_3_day']\n",
    "# ontime_pgd['ontime_rate'] = ontime_pgd['ontime']/ontime_pgd['All']\n",
    "# ontime_pgd['pmt_after_3days'] = (ontime_pgd['ontime']+ontime_pgd['paid_after_3_day'])/ontime_pgd['All']\n",
    "# ontime_pgd = ontime_pgd.sort_values(by=['ontime_rate'])\n",
    "# ontime_pgd_last_month['All']=ontime_pgd_last_month['ontime']+ontime_pgd_last_month['paid_after_3_day']+ontime_pgd_last_month['still_over_due']\n",
    "# ontime_pgd_last_month['ontime_rate'] = ontime_pgd_last_month['ontime']/ontime_pgd_last_month['All']\n",
    "# ontime_pgd_last_month['pmt_after_3days'] = (ontime_pgd_last_month['ontime']+ontime_pgd_last_month['paid_after_3_day'])/ontime_pgd_last_month['All']\n",
    "# ontime_pgd_last_month = ontime_pgd_last_month.sort_values(by=['ontime_rate'])"
   ]
  },
  {
   "cell_type": "code",
   "execution_count": 21,
   "metadata": {},
   "outputs": [
    {
     "data": {
      "text/html": [
       "<div>\n",
       "<style scoped>\n",
       "    .dataframe tbody tr th:only-of-type {\n",
       "        vertical-align: middle;\n",
       "    }\n",
       "\n",
       "    .dataframe tbody tr th {\n",
       "        vertical-align: top;\n",
       "    }\n",
       "\n",
       "    .dataframe thead th {\n",
       "        text-align: right;\n",
       "    }\n",
       "</style>\n",
       "<table border=\"1\" class=\"dataframe\">\n",
       "  <thead>\n",
       "    <tr style=\"text-align: right;\">\n",
       "      <th>stt_after_3_day</th>\n",
       "      <th>categoryname</th>\n",
       "      <th>khu_vuc</th>\n",
       "      <th>shopname</th>\n",
       "      <th>ontime</th>\n",
       "      <th>out_of_range</th>\n",
       "      <th>paid_after_3_day</th>\n",
       "      <th>still_over_due</th>\n",
       "    </tr>\n",
       "  </thead>\n",
       "  <tbody>\n",
       "    <tr>\n",
       "      <th>0</th>\n",
       "      <td>Đăng ký xe máy</td>\n",
       "      <td>Hà Nội</td>\n",
       "      <td>F88 - 505 Ngọc Hồi</td>\n",
       "      <td>97.0</td>\n",
       "      <td>3.0</td>\n",
       "      <td>23.0</td>\n",
       "      <td>22.0</td>\n",
       "    </tr>\n",
       "    <tr>\n",
       "      <th>1</th>\n",
       "      <td>Đăng ký xe máy</td>\n",
       "      <td>Hà Nội</td>\n",
       "      <td>F88 - 59 Ngô Gia Tự</td>\n",
       "      <td>270.0</td>\n",
       "      <td>4.0</td>\n",
       "      <td>56.0</td>\n",
       "      <td>50.0</td>\n",
       "    </tr>\n",
       "    <tr>\n",
       "      <th>2</th>\n",
       "      <td>Đăng ký xe máy</td>\n",
       "      <td>Hà Nội</td>\n",
       "      <td>F88 01 Cầu Tó</td>\n",
       "      <td>185.0</td>\n",
       "      <td>4.0</td>\n",
       "      <td>41.0</td>\n",
       "      <td>34.0</td>\n",
       "    </tr>\n",
       "    <tr>\n",
       "      <th>3</th>\n",
       "      <td>Đăng ký xe máy</td>\n",
       "      <td>Hà Nội</td>\n",
       "      <td>F88 01 Đại Từ</td>\n",
       "      <td>153.0</td>\n",
       "      <td>3.0</td>\n",
       "      <td>28.0</td>\n",
       "      <td>12.0</td>\n",
       "    </tr>\n",
       "    <tr>\n",
       "      <th>4</th>\n",
       "      <td>Đăng ký xe máy</td>\n",
       "      <td>Hà Nội</td>\n",
       "      <td>F88 01 Đội Cấn</td>\n",
       "      <td>153.0</td>\n",
       "      <td>2.0</td>\n",
       "      <td>30.0</td>\n",
       "      <td>7.0</td>\n",
       "    </tr>\n",
       "  </tbody>\n",
       "</table>\n",
       "</div>"
      ],
      "text/plain": [
       "stt_after_3_day    categoryname khu_vuc             shopname  ontime  \\\n",
       "0                Đăng ký xe máy  Hà Nội   F88 - 505 Ngọc Hồi    97.0   \n",
       "1                Đăng ký xe máy  Hà Nội  F88 - 59 Ngô Gia Tự   270.0   \n",
       "2                Đăng ký xe máy  Hà Nội        F88 01 Cầu Tó   185.0   \n",
       "3                Đăng ký xe máy  Hà Nội        F88 01 Đại Từ   153.0   \n",
       "4                Đăng ký xe máy  Hà Nội       F88 01 Đội Cấn   153.0   \n",
       "\n",
       "stt_after_3_day  out_of_range  paid_after_3_day  still_over_due  \n",
       "0                         3.0              23.0            22.0  \n",
       "1                         4.0              56.0            50.0  \n",
       "2                         4.0              41.0            34.0  \n",
       "3                         3.0              28.0            12.0  \n",
       "4                         2.0              30.0             7.0  "
      ]
     },
     "execution_count": 21,
     "metadata": {},
     "output_type": "execute_result"
    }
   ],
   "source": [
    "ontime_pgd.head(5)"
   ]
  },
  {
   "cell_type": "code",
   "execution_count": 22,
   "metadata": {},
   "outputs": [],
   "source": [
    "ontime_pgd['All']=ontime_pgd['ontime']+ontime_pgd['paid_after_3_day']+ontime_pgd['still_over_due']\n",
    "ontime_pgd['ontime_rate'] = ontime_pgd['ontime']/ontime_pgd['All']\n",
    "ontime_pgd['pmt_after_3days'] = (ontime_pgd['ontime']+ontime_pgd['paid_after_3_day'])/ontime_pgd['All']\n",
    "ontime_pgd = ontime_pgd.sort_values(by=['ontime_rate'])\n",
    "ontime_pgd_last_month['All']=ontime_pgd_last_month['ontime']+ontime_pgd_last_month['paid_after_3_day']+ontime_pgd_last_month['still_over_due']\n",
    "ontime_pgd_last_month['ontime_rate'] = ontime_pgd_last_month['ontime']/ontime_pgd_last_month['All']\n",
    "ontime_pgd_last_month['pmt_after_3days'] = (ontime_pgd_last_month['ontime']+ontime_pgd_last_month['paid_after_3_day'])/ontime_pgd_last_month['All']\n",
    "ontime_pgd_last_month = ontime_pgd_last_month.sort_values(by=['ontime_rate'])"
   ]
  },
  {
   "cell_type": "code",
   "execution_count": 23,
   "metadata": {},
   "outputs": [],
   "source": [
    "ontime_pgd_motor_title = ontime_pgd[ontime_pgd['categoryname'] == 'Đăng ký xe máy'] \n",
    "ontime_pgd_motor_title_last_month = ontime_pgd_last_month[ontime_pgd_last_month['categoryname'] == 'Đăng ký xe máy'] \n",
    "ontime_pgd_car_title = ontime_pgd[ontime_pgd['categoryname'] == 'Đăng ký Ô tô'] \n",
    "ontime_pgd_car_title_last_month = ontime_pgd_last_month[ontime_pgd_last_month['categoryname'] == 'Đăng ký Ô tô'] "
   ]
  },
  {
   "cell_type": "code",
   "execution_count": 24,
   "metadata": {},
   "outputs": [
    {
     "data": {
      "text/html": [
       "<div>\n",
       "<style scoped>\n",
       "    .dataframe tbody tr th:only-of-type {\n",
       "        vertical-align: middle;\n",
       "    }\n",
       "\n",
       "    .dataframe tbody tr th {\n",
       "        vertical-align: top;\n",
       "    }\n",
       "\n",
       "    .dataframe thead th {\n",
       "        text-align: right;\n",
       "    }\n",
       "</style>\n",
       "<table border=\"1\" class=\"dataframe\">\n",
       "  <thead>\n",
       "    <tr style=\"text-align: right;\">\n",
       "      <th>stt_after_3_day</th>\n",
       "      <th>categoryname</th>\n",
       "      <th>khu_vuc</th>\n",
       "      <th>shopname</th>\n",
       "      <th>ontime</th>\n",
       "      <th>out_of_range</th>\n",
       "      <th>paid_after_3_day</th>\n",
       "      <th>still_over_due</th>\n",
       "      <th>All</th>\n",
       "      <th>ontime_rate</th>\n",
       "      <th>pmt_after_3days</th>\n",
       "    </tr>\n",
       "  </thead>\n",
       "  <tbody>\n",
       "    <tr>\n",
       "      <th>160</th>\n",
       "      <td>Đăng ký xe máy</td>\n",
       "      <td>Tỉnh MB</td>\n",
       "      <td>QNH0206.81 Vĩnh Thông</td>\n",
       "      <td>57.0</td>\n",
       "      <td>3.0</td>\n",
       "      <td>26.0</td>\n",
       "      <td>17.0</td>\n",
       "      <td>100.0</td>\n",
       "      <td>0.570000</td>\n",
       "      <td>0.830000</td>\n",
       "    </tr>\n",
       "    <tr>\n",
       "      <th>159</th>\n",
       "      <td>Đăng ký xe máy</td>\n",
       "      <td>Tỉnh MB</td>\n",
       "      <td>QNH0192.670 Hạ Long</td>\n",
       "      <td>51.0</td>\n",
       "      <td>0.0</td>\n",
       "      <td>19.0</td>\n",
       "      <td>14.0</td>\n",
       "      <td>84.0</td>\n",
       "      <td>0.607143</td>\n",
       "      <td>0.833333</td>\n",
       "    </tr>\n",
       "    <tr>\n",
       "      <th>136</th>\n",
       "      <td>Đăng ký xe máy</td>\n",
       "      <td>Tỉnh MB</td>\n",
       "      <td>F88 BN - 216 Ngô Gia Tự</td>\n",
       "      <td>168.0</td>\n",
       "      <td>5.0</td>\n",
       "      <td>52.0</td>\n",
       "      <td>54.0</td>\n",
       "      <td>274.0</td>\n",
       "      <td>0.613139</td>\n",
       "      <td>0.802920</td>\n",
       "    </tr>\n",
       "    <tr>\n",
       "      <th>168</th>\n",
       "      <td>Đăng ký xe máy</td>\n",
       "      <td>Tỉnh MB</td>\n",
       "      <td>THA0187.342 Nguyễn Trãi</td>\n",
       "      <td>87.0</td>\n",
       "      <td>1.0</td>\n",
       "      <td>29.0</td>\n",
       "      <td>21.0</td>\n",
       "      <td>137.0</td>\n",
       "      <td>0.635036</td>\n",
       "      <td>0.846715</td>\n",
       "    </tr>\n",
       "    <tr>\n",
       "      <th>45</th>\n",
       "      <td>Đăng ký xe máy</td>\n",
       "      <td>Hà Nội</td>\n",
       "      <td>HNI0134.112 Phố Ga</td>\n",
       "      <td>68.0</td>\n",
       "      <td>4.0</td>\n",
       "      <td>27.0</td>\n",
       "      <td>12.0</td>\n",
       "      <td>107.0</td>\n",
       "      <td>0.635514</td>\n",
       "      <td>0.887850</td>\n",
       "    </tr>\n",
       "    <tr>\n",
       "      <th>134</th>\n",
       "      <td>Đăng ký xe máy</td>\n",
       "      <td>Tỉnh MB</td>\n",
       "      <td>BNH0235.Ngã Tư Đông Côi</td>\n",
       "      <td>51.0</td>\n",
       "      <td>0.0</td>\n",
       "      <td>20.0</td>\n",
       "      <td>9.0</td>\n",
       "      <td>80.0</td>\n",
       "      <td>0.637500</td>\n",
       "      <td>0.887500</td>\n",
       "    </tr>\n",
       "    <tr>\n",
       "      <th>175</th>\n",
       "      <td>Đăng ký xe máy</td>\n",
       "      <td>Tỉnh MB</td>\n",
       "      <td>TNN0200.100 Trường Chinh</td>\n",
       "      <td>116.0</td>\n",
       "      <td>7.0</td>\n",
       "      <td>44.0</td>\n",
       "      <td>21.0</td>\n",
       "      <td>181.0</td>\n",
       "      <td>0.640884</td>\n",
       "      <td>0.883978</td>\n",
       "    </tr>\n",
       "    <tr>\n",
       "      <th>139</th>\n",
       "      <td>Đăng ký xe máy</td>\n",
       "      <td>Tỉnh MB</td>\n",
       "      <td>F88 TH - 01 Ngô Quyền</td>\n",
       "      <td>185.0</td>\n",
       "      <td>9.0</td>\n",
       "      <td>61.0</td>\n",
       "      <td>40.0</td>\n",
       "      <td>286.0</td>\n",
       "      <td>0.646853</td>\n",
       "      <td>0.860140</td>\n",
       "    </tr>\n",
       "    <tr>\n",
       "      <th>140</th>\n",
       "      <td>Đăng ký xe máy</td>\n",
       "      <td>Tỉnh MB</td>\n",
       "      <td>F88 TH - 349 Trần Phú</td>\n",
       "      <td>179.0</td>\n",
       "      <td>9.0</td>\n",
       "      <td>56.0</td>\n",
       "      <td>41.0</td>\n",
       "      <td>276.0</td>\n",
       "      <td>0.648551</td>\n",
       "      <td>0.851449</td>\n",
       "    </tr>\n",
       "    <tr>\n",
       "      <th>132</th>\n",
       "      <td>Đăng ký xe máy</td>\n",
       "      <td>Tỉnh MB</td>\n",
       "      <td>BNH0182.01 Khu 1, Thị trấn Phố Mới</td>\n",
       "      <td>132.0</td>\n",
       "      <td>6.0</td>\n",
       "      <td>37.0</td>\n",
       "      <td>34.0</td>\n",
       "      <td>203.0</td>\n",
       "      <td>0.650246</td>\n",
       "      <td>0.832512</td>\n",
       "    </tr>\n",
       "    <tr>\n",
       "      <th>137</th>\n",
       "      <td>Đăng ký xe máy</td>\n",
       "      <td>Tỉnh MB</td>\n",
       "      <td>F88 HP - 116F Lương Khánh Thiện</td>\n",
       "      <td>164.0</td>\n",
       "      <td>11.0</td>\n",
       "      <td>44.0</td>\n",
       "      <td>43.0</td>\n",
       "      <td>251.0</td>\n",
       "      <td>0.653386</td>\n",
       "      <td>0.828685</td>\n",
       "    </tr>\n",
       "    <tr>\n",
       "      <th>166</th>\n",
       "      <td>Đăng ký xe máy</td>\n",
       "      <td>Tỉnh MB</td>\n",
       "      <td>THA0138.01 Trần Phú</td>\n",
       "      <td>116.0</td>\n",
       "      <td>4.0</td>\n",
       "      <td>43.0</td>\n",
       "      <td>17.0</td>\n",
       "      <td>176.0</td>\n",
       "      <td>0.659091</td>\n",
       "      <td>0.903409</td>\n",
       "    </tr>\n",
       "    <tr>\n",
       "      <th>47</th>\n",
       "      <td>Đăng ký xe máy</td>\n",
       "      <td>Hà Nội</td>\n",
       "      <td>HNI0239.15 Tổ 2 Thị Trấn Xuân Mai</td>\n",
       "      <td>43.0</td>\n",
       "      <td>3.0</td>\n",
       "      <td>17.0</td>\n",
       "      <td>5.0</td>\n",
       "      <td>65.0</td>\n",
       "      <td>0.661538</td>\n",
       "      <td>0.923077</td>\n",
       "    </tr>\n",
       "    <tr>\n",
       "      <th>157</th>\n",
       "      <td>Đăng ký xe máy</td>\n",
       "      <td>Tỉnh MB</td>\n",
       "      <td>NDH0150.01 Trường Chinh</td>\n",
       "      <td>194.0</td>\n",
       "      <td>6.0</td>\n",
       "      <td>52.0</td>\n",
       "      <td>47.0</td>\n",
       "      <td>293.0</td>\n",
       "      <td>0.662116</td>\n",
       "      <td>0.839590</td>\n",
       "    </tr>\n",
       "    <tr>\n",
       "      <th>172</th>\n",
       "      <td>Đăng ký xe máy</td>\n",
       "      <td>Tỉnh MB</td>\n",
       "      <td>TNN0131.377 Hoàng Văn Thụ</td>\n",
       "      <td>122.0</td>\n",
       "      <td>3.0</td>\n",
       "      <td>36.0</td>\n",
       "      <td>25.0</td>\n",
       "      <td>183.0</td>\n",
       "      <td>0.666667</td>\n",
       "      <td>0.863388</td>\n",
       "    </tr>\n",
       "    <tr>\n",
       "      <th>34</th>\n",
       "      <td>Đăng ký xe máy</td>\n",
       "      <td>Hà Nội</td>\n",
       "      <td>F88 747 Hoàng Hoa Thám</td>\n",
       "      <td>109.0</td>\n",
       "      <td>4.0</td>\n",
       "      <td>34.0</td>\n",
       "      <td>20.0</td>\n",
       "      <td>163.0</td>\n",
       "      <td>0.668712</td>\n",
       "      <td>0.877301</td>\n",
       "    </tr>\n",
       "    <tr>\n",
       "      <th>169</th>\n",
       "      <td>Đăng ký xe máy</td>\n",
       "      <td>Tỉnh MB</td>\n",
       "      <td>THA0214.429 Đường 10/6</td>\n",
       "      <td>69.0</td>\n",
       "      <td>3.0</td>\n",
       "      <td>18.0</td>\n",
       "      <td>16.0</td>\n",
       "      <td>103.0</td>\n",
       "      <td>0.669903</td>\n",
       "      <td>0.844660</td>\n",
       "    </tr>\n",
       "    <tr>\n",
       "      <th>228</th>\n",
       "      <td>Đăng ký xe máy</td>\n",
       "      <td>Tỉnh MN</td>\n",
       "      <td>LDG0237.84 Thống Nhất</td>\n",
       "      <td>41.0</td>\n",
       "      <td>0.0</td>\n",
       "      <td>11.0</td>\n",
       "      <td>9.0</td>\n",
       "      <td>61.0</td>\n",
       "      <td>0.672131</td>\n",
       "      <td>0.852459</td>\n",
       "    </tr>\n",
       "    <tr>\n",
       "      <th>130</th>\n",
       "      <td>Đăng ký xe máy</td>\n",
       "      <td>Tỉnh MB</td>\n",
       "      <td>BNH0146.147 Nguyễn Văn Cừ</td>\n",
       "      <td>121.0</td>\n",
       "      <td>4.0</td>\n",
       "      <td>31.0</td>\n",
       "      <td>28.0</td>\n",
       "      <td>180.0</td>\n",
       "      <td>0.672222</td>\n",
       "      <td>0.844444</td>\n",
       "    </tr>\n",
       "    <tr>\n",
       "      <th>145</th>\n",
       "      <td>Đăng ký xe máy</td>\n",
       "      <td>Tỉnh MB</td>\n",
       "      <td>HPG0161.416 Ngô Gia Tự</td>\n",
       "      <td>78.0</td>\n",
       "      <td>3.0</td>\n",
       "      <td>23.0</td>\n",
       "      <td>15.0</td>\n",
       "      <td>116.0</td>\n",
       "      <td>0.672414</td>\n",
       "      <td>0.870690</td>\n",
       "    </tr>\n",
       "    <tr>\n",
       "      <th>146</th>\n",
       "      <td>Đăng ký xe máy</td>\n",
       "      <td>Tỉnh MB</td>\n",
       "      <td>HPG0201.57 Đường Mới</td>\n",
       "      <td>76.0</td>\n",
       "      <td>4.0</td>\n",
       "      <td>22.0</td>\n",
       "      <td>15.0</td>\n",
       "      <td>113.0</td>\n",
       "      <td>0.672566</td>\n",
       "      <td>0.867257</td>\n",
       "    </tr>\n",
       "    <tr>\n",
       "      <th>171</th>\n",
       "      <td>Đăng ký xe máy</td>\n",
       "      <td>Tỉnh MB</td>\n",
       "      <td>TNN0130.229B Đường Cách Mạng Tháng 8</td>\n",
       "      <td>152.0</td>\n",
       "      <td>15.0</td>\n",
       "      <td>41.0</td>\n",
       "      <td>33.0</td>\n",
       "      <td>226.0</td>\n",
       "      <td>0.672566</td>\n",
       "      <td>0.853982</td>\n",
       "    </tr>\n",
       "    <tr>\n",
       "      <th>151</th>\n",
       "      <td>Đăng ký xe máy</td>\n",
       "      <td>Tỉnh MB</td>\n",
       "      <td>NAN0170.22 Nguyễn Văn Cừ</td>\n",
       "      <td>102.0</td>\n",
       "      <td>5.0</td>\n",
       "      <td>30.0</td>\n",
       "      <td>18.0</td>\n",
       "      <td>150.0</td>\n",
       "      <td>0.680000</td>\n",
       "      <td>0.880000</td>\n",
       "    </tr>\n",
       "    <tr>\n",
       "      <th>0</th>\n",
       "      <td>Đăng ký xe máy</td>\n",
       "      <td>Hà Nội</td>\n",
       "      <td>F88 - 505 Ngọc Hồi</td>\n",
       "      <td>97.0</td>\n",
       "      <td>3.0</td>\n",
       "      <td>23.0</td>\n",
       "      <td>22.0</td>\n",
       "      <td>142.0</td>\n",
       "      <td>0.683099</td>\n",
       "      <td>0.845070</td>\n",
       "    </tr>\n",
       "    <tr>\n",
       "      <th>158</th>\n",
       "      <td>Đăng ký xe máy</td>\n",
       "      <td>Tỉnh MB</td>\n",
       "      <td>QNH0163.18 Trần Hưng Đạo</td>\n",
       "      <td>97.0</td>\n",
       "      <td>1.0</td>\n",
       "      <td>30.0</td>\n",
       "      <td>15.0</td>\n",
       "      <td>142.0</td>\n",
       "      <td>0.683099</td>\n",
       "      <td>0.894366</td>\n",
       "    </tr>\n",
       "    <tr>\n",
       "      <th>16</th>\n",
       "      <td>Đăng ký xe máy</td>\n",
       "      <td>Hà Nội</td>\n",
       "      <td>F88 2A Nguyễn Khánh Toàn</td>\n",
       "      <td>148.0</td>\n",
       "      <td>2.0</td>\n",
       "      <td>42.0</td>\n",
       "      <td>26.0</td>\n",
       "      <td>216.0</td>\n",
       "      <td>0.685185</td>\n",
       "      <td>0.879630</td>\n",
       "    </tr>\n",
       "    <tr>\n",
       "      <th>217</th>\n",
       "      <td>Đăng ký xe máy</td>\n",
       "      <td>Tỉnh MN</td>\n",
       "      <td>DNI0232.01/T Phúc Nhạc 2</td>\n",
       "      <td>51.0</td>\n",
       "      <td>4.0</td>\n",
       "      <td>11.0</td>\n",
       "      <td>12.0</td>\n",
       "      <td>74.0</td>\n",
       "      <td>0.689189</td>\n",
       "      <td>0.837838</td>\n",
       "    </tr>\n",
       "    <tr>\n",
       "      <th>148</th>\n",
       "      <td>Đăng ký xe máy</td>\n",
       "      <td>Tỉnh MB</td>\n",
       "      <td>HPG0233.09 Hải Triều</td>\n",
       "      <td>38.0</td>\n",
       "      <td>0.0</td>\n",
       "      <td>8.0</td>\n",
       "      <td>9.0</td>\n",
       "      <td>55.0</td>\n",
       "      <td>0.690909</td>\n",
       "      <td>0.836364</td>\n",
       "    </tr>\n",
       "    <tr>\n",
       "      <th>144</th>\n",
       "      <td>Đăng ký xe máy</td>\n",
       "      <td>Tỉnh MB</td>\n",
       "      <td>HDG0241.25 Nguyễn Trãi</td>\n",
       "      <td>36.0</td>\n",
       "      <td>2.0</td>\n",
       "      <td>9.0</td>\n",
       "      <td>7.0</td>\n",
       "      <td>52.0</td>\n",
       "      <td>0.692308</td>\n",
       "      <td>0.865385</td>\n",
       "    </tr>\n",
       "    <tr>\n",
       "      <th>153</th>\n",
       "      <td>Đăng ký xe máy</td>\n",
       "      <td>Tỉnh MB</td>\n",
       "      <td>NAN0186.339 Lê Duẩn</td>\n",
       "      <td>61.0</td>\n",
       "      <td>3.0</td>\n",
       "      <td>20.0</td>\n",
       "      <td>7.0</td>\n",
       "      <td>88.0</td>\n",
       "      <td>0.693182</td>\n",
       "      <td>0.920455</td>\n",
       "    </tr>\n",
       "    <tr>\n",
       "      <th>...</th>\n",
       "      <td>...</td>\n",
       "      <td>...</td>\n",
       "      <td>...</td>\n",
       "      <td>...</td>\n",
       "      <td>...</td>\n",
       "      <td>...</td>\n",
       "      <td>...</td>\n",
       "      <td>...</td>\n",
       "      <td>...</td>\n",
       "      <td>...</td>\n",
       "    </tr>\n",
       "    <tr>\n",
       "      <th>98</th>\n",
       "      <td>Đăng ký xe máy</td>\n",
       "      <td>TP. Hồ Chí Minh</td>\n",
       "      <td>F88 HCM - B101 Nguyễn Văn Quá</td>\n",
       "      <td>229.0</td>\n",
       "      <td>2.0</td>\n",
       "      <td>27.0</td>\n",
       "      <td>22.0</td>\n",
       "      <td>278.0</td>\n",
       "      <td>0.823741</td>\n",
       "      <td>0.920863</td>\n",
       "    </tr>\n",
       "    <tr>\n",
       "      <th>218</th>\n",
       "      <td>Đăng ký xe máy</td>\n",
       "      <td>Tỉnh MN</td>\n",
       "      <td>DNI0238.568 Lê Duẩn</td>\n",
       "      <td>75.0</td>\n",
       "      <td>0.0</td>\n",
       "      <td>7.0</td>\n",
       "      <td>9.0</td>\n",
       "      <td>91.0</td>\n",
       "      <td>0.824176</td>\n",
       "      <td>0.901099</td>\n",
       "    </tr>\n",
       "    <tr>\n",
       "      <th>46</th>\n",
       "      <td>Đăng ký xe máy</td>\n",
       "      <td>Hà Nội</td>\n",
       "      <td>HNI0135.01 Cổ Nhuế</td>\n",
       "      <td>124.0</td>\n",
       "      <td>3.0</td>\n",
       "      <td>19.0</td>\n",
       "      <td>7.0</td>\n",
       "      <td>150.0</td>\n",
       "      <td>0.826667</td>\n",
       "      <td>0.953333</td>\n",
       "    </tr>\n",
       "    <tr>\n",
       "      <th>192</th>\n",
       "      <td>Đăng ký xe máy</td>\n",
       "      <td>Tỉnh MN</td>\n",
       "      <td>BDG0227.Tân Phước Khánh</td>\n",
       "      <td>110.0</td>\n",
       "      <td>0.0</td>\n",
       "      <td>11.0</td>\n",
       "      <td>12.0</td>\n",
       "      <td>133.0</td>\n",
       "      <td>0.827068</td>\n",
       "      <td>0.909774</td>\n",
       "    </tr>\n",
       "    <tr>\n",
       "      <th>183</th>\n",
       "      <td>Đăng ký xe máy</td>\n",
       "      <td>Tỉnh MN</td>\n",
       "      <td>AGG0203.292 Lê Lợi</td>\n",
       "      <td>115.0</td>\n",
       "      <td>1.0</td>\n",
       "      <td>16.0</td>\n",
       "      <td>8.0</td>\n",
       "      <td>139.0</td>\n",
       "      <td>0.827338</td>\n",
       "      <td>0.942446</td>\n",
       "    </tr>\n",
       "    <tr>\n",
       "      <th>107</th>\n",
       "      <td>Đăng ký xe máy</td>\n",
       "      <td>TP. Hồ Chí Minh</td>\n",
       "      <td>SGN0109.698 Âu Cơ</td>\n",
       "      <td>96.0</td>\n",
       "      <td>0.0</td>\n",
       "      <td>12.0</td>\n",
       "      <td>8.0</td>\n",
       "      <td>116.0</td>\n",
       "      <td>0.827586</td>\n",
       "      <td>0.931034</td>\n",
       "    </tr>\n",
       "    <tr>\n",
       "      <th>60</th>\n",
       "      <td>Đăng ký xe máy</td>\n",
       "      <td>TP. Hồ Chí Minh</td>\n",
       "      <td>F88 HCM - 125 Hoàng Diệu</td>\n",
       "      <td>250.0</td>\n",
       "      <td>3.0</td>\n",
       "      <td>30.0</td>\n",
       "      <td>22.0</td>\n",
       "      <td>302.0</td>\n",
       "      <td>0.827815</td>\n",
       "      <td>0.927152</td>\n",
       "    </tr>\n",
       "    <tr>\n",
       "      <th>72</th>\n",
       "      <td>Đăng ký xe máy</td>\n",
       "      <td>TP. Hồ Chí Minh</td>\n",
       "      <td>F88 HCM - 279 Lãnh Binh Thăng</td>\n",
       "      <td>223.0</td>\n",
       "      <td>1.0</td>\n",
       "      <td>27.0</td>\n",
       "      <td>19.0</td>\n",
       "      <td>269.0</td>\n",
       "      <td>0.828996</td>\n",
       "      <td>0.929368</td>\n",
       "    </tr>\n",
       "    <tr>\n",
       "      <th>126</th>\n",
       "      <td>Đăng ký xe máy</td>\n",
       "      <td>TP. Hồ Chí Minh</td>\n",
       "      <td>SGN0167.172 Kinh Dương Vương</td>\n",
       "      <td>180.0</td>\n",
       "      <td>2.0</td>\n",
       "      <td>27.0</td>\n",
       "      <td>10.0</td>\n",
       "      <td>217.0</td>\n",
       "      <td>0.829493</td>\n",
       "      <td>0.953917</td>\n",
       "    </tr>\n",
       "    <tr>\n",
       "      <th>154</th>\n",
       "      <td>Đăng ký xe máy</td>\n",
       "      <td>Tỉnh MB</td>\n",
       "      <td>NAN0231.14 Đường Lê Viết Thuật</td>\n",
       "      <td>39.0</td>\n",
       "      <td>2.0</td>\n",
       "      <td>4.0</td>\n",
       "      <td>4.0</td>\n",
       "      <td>47.0</td>\n",
       "      <td>0.829787</td>\n",
       "      <td>0.914894</td>\n",
       "    </tr>\n",
       "    <tr>\n",
       "      <th>94</th>\n",
       "      <td>Đăng ký xe máy</td>\n",
       "      <td>TP. Hồ Chí Minh</td>\n",
       "      <td>F88 HCM - 935B Âu Cơ</td>\n",
       "      <td>132.0</td>\n",
       "      <td>0.0</td>\n",
       "      <td>20.0</td>\n",
       "      <td>7.0</td>\n",
       "      <td>159.0</td>\n",
       "      <td>0.830189</td>\n",
       "      <td>0.955975</td>\n",
       "    </tr>\n",
       "    <tr>\n",
       "      <th>42</th>\n",
       "      <td>Đăng ký xe máy</td>\n",
       "      <td>Hà Nội</td>\n",
       "      <td>HNI0123.457 Hà Huy Tập</td>\n",
       "      <td>124.0</td>\n",
       "      <td>3.0</td>\n",
       "      <td>19.0</td>\n",
       "      <td>6.0</td>\n",
       "      <td>149.0</td>\n",
       "      <td>0.832215</td>\n",
       "      <td>0.959732</td>\n",
       "    </tr>\n",
       "    <tr>\n",
       "      <th>230</th>\n",
       "      <td>Đăng ký xe máy</td>\n",
       "      <td>Tỉnh MN</td>\n",
       "      <td>STG0243.154 Lê Hồng Phong</td>\n",
       "      <td>129.0</td>\n",
       "      <td>2.0</td>\n",
       "      <td>14.0</td>\n",
       "      <td>12.0</td>\n",
       "      <td>155.0</td>\n",
       "      <td>0.832258</td>\n",
       "      <td>0.922581</td>\n",
       "    </tr>\n",
       "    <tr>\n",
       "      <th>84</th>\n",
       "      <td>Đăng ký xe máy</td>\n",
       "      <td>TP. Hồ Chí Minh</td>\n",
       "      <td>F88 HCM - 54H Nguyễn Ảnh Thủ</td>\n",
       "      <td>189.0</td>\n",
       "      <td>5.0</td>\n",
       "      <td>22.0</td>\n",
       "      <td>16.0</td>\n",
       "      <td>227.0</td>\n",
       "      <td>0.832599</td>\n",
       "      <td>0.929515</td>\n",
       "    </tr>\n",
       "    <tr>\n",
       "      <th>25</th>\n",
       "      <td>Đăng ký xe máy</td>\n",
       "      <td>Hà Nội</td>\n",
       "      <td>F88 437 Tam Trinh</td>\n",
       "      <td>157.0</td>\n",
       "      <td>3.0</td>\n",
       "      <td>26.0</td>\n",
       "      <td>5.0</td>\n",
       "      <td>188.0</td>\n",
       "      <td>0.835106</td>\n",
       "      <td>0.973404</td>\n",
       "    </tr>\n",
       "    <tr>\n",
       "      <th>118</th>\n",
       "      <td>Đăng ký xe máy</td>\n",
       "      <td>TP. Hồ Chí Minh</td>\n",
       "      <td>SGN0124.2A Lũy Bán Bích</td>\n",
       "      <td>123.0</td>\n",
       "      <td>1.0</td>\n",
       "      <td>14.0</td>\n",
       "      <td>10.0</td>\n",
       "      <td>147.0</td>\n",
       "      <td>0.836735</td>\n",
       "      <td>0.931973</td>\n",
       "    </tr>\n",
       "    <tr>\n",
       "      <th>122</th>\n",
       "      <td>Đăng ký xe máy</td>\n",
       "      <td>TP. Hồ Chí Minh</td>\n",
       "      <td>SGN0142.415 Kha Vạn Cân</td>\n",
       "      <td>118.0</td>\n",
       "      <td>4.0</td>\n",
       "      <td>14.0</td>\n",
       "      <td>9.0</td>\n",
       "      <td>141.0</td>\n",
       "      <td>0.836879</td>\n",
       "      <td>0.936170</td>\n",
       "    </tr>\n",
       "    <tr>\n",
       "      <th>149</th>\n",
       "      <td>Đăng ký xe máy</td>\n",
       "      <td>Tỉnh MB</td>\n",
       "      <td>HPG0234.75 Minh Đức</td>\n",
       "      <td>36.0</td>\n",
       "      <td>1.0</td>\n",
       "      <td>5.0</td>\n",
       "      <td>2.0</td>\n",
       "      <td>43.0</td>\n",
       "      <td>0.837209</td>\n",
       "      <td>0.953488</td>\n",
       "    </tr>\n",
       "    <tr>\n",
       "      <th>209</th>\n",
       "      <td>Đăng ký xe máy</td>\n",
       "      <td>Tỉnh MN</td>\n",
       "      <td>DLK0221.01 Hà Huy Tập</td>\n",
       "      <td>72.0</td>\n",
       "      <td>0.0</td>\n",
       "      <td>10.0</td>\n",
       "      <td>4.0</td>\n",
       "      <td>86.0</td>\n",
       "      <td>0.837209</td>\n",
       "      <td>0.953488</td>\n",
       "    </tr>\n",
       "    <tr>\n",
       "      <th>124</th>\n",
       "      <td>Đăng ký xe máy</td>\n",
       "      <td>TP. Hồ Chí Minh</td>\n",
       "      <td>SGN0147.409C Lý Thường Kiệt</td>\n",
       "      <td>88.0</td>\n",
       "      <td>3.0</td>\n",
       "      <td>9.0</td>\n",
       "      <td>8.0</td>\n",
       "      <td>105.0</td>\n",
       "      <td>0.838095</td>\n",
       "      <td>0.923810</td>\n",
       "    </tr>\n",
       "    <tr>\n",
       "      <th>31</th>\n",
       "      <td>Đăng ký xe máy</td>\n",
       "      <td>Hà Nội</td>\n",
       "      <td>F88 62 Hàng Đậu</td>\n",
       "      <td>267.0</td>\n",
       "      <td>4.0</td>\n",
       "      <td>32.0</td>\n",
       "      <td>19.0</td>\n",
       "      <td>318.0</td>\n",
       "      <td>0.839623</td>\n",
       "      <td>0.940252</td>\n",
       "    </tr>\n",
       "    <tr>\n",
       "      <th>152</th>\n",
       "      <td>Đăng ký xe máy</td>\n",
       "      <td>Tỉnh MB</td>\n",
       "      <td>NAN0185.02 Trần Hưng Đạo</td>\n",
       "      <td>111.0</td>\n",
       "      <td>2.0</td>\n",
       "      <td>11.0</td>\n",
       "      <td>10.0</td>\n",
       "      <td>132.0</td>\n",
       "      <td>0.840909</td>\n",
       "      <td>0.924242</td>\n",
       "    </tr>\n",
       "    <tr>\n",
       "      <th>76</th>\n",
       "      <td>Đăng ký xe máy</td>\n",
       "      <td>TP. Hồ Chí Minh</td>\n",
       "      <td>F88 HCM - 349 Lê Văn Sỹ</td>\n",
       "      <td>189.0</td>\n",
       "      <td>2.0</td>\n",
       "      <td>29.0</td>\n",
       "      <td>6.0</td>\n",
       "      <td>224.0</td>\n",
       "      <td>0.843750</td>\n",
       "      <td>0.973214</td>\n",
       "    </tr>\n",
       "    <tr>\n",
       "      <th>65</th>\n",
       "      <td>Đăng ký xe máy</td>\n",
       "      <td>TP. Hồ Chí Minh</td>\n",
       "      <td>F88 HCM - 143 Nguyễn Duy Trinh</td>\n",
       "      <td>229.0</td>\n",
       "      <td>4.0</td>\n",
       "      <td>24.0</td>\n",
       "      <td>18.0</td>\n",
       "      <td>271.0</td>\n",
       "      <td>0.845018</td>\n",
       "      <td>0.933579</td>\n",
       "    </tr>\n",
       "    <tr>\n",
       "      <th>113</th>\n",
       "      <td>Đăng ký xe máy</td>\n",
       "      <td>TP. Hồ Chí Minh</td>\n",
       "      <td>SGN0117.150 Lương Nhữ Học</td>\n",
       "      <td>208.0</td>\n",
       "      <td>6.0</td>\n",
       "      <td>22.0</td>\n",
       "      <td>16.0</td>\n",
       "      <td>246.0</td>\n",
       "      <td>0.845528</td>\n",
       "      <td>0.934959</td>\n",
       "    </tr>\n",
       "    <tr>\n",
       "      <th>40</th>\n",
       "      <td>Đăng ký xe máy</td>\n",
       "      <td>Hà Nội</td>\n",
       "      <td>F88 – 81 Nhổn</td>\n",
       "      <td>155.0</td>\n",
       "      <td>1.0</td>\n",
       "      <td>19.0</td>\n",
       "      <td>9.0</td>\n",
       "      <td>183.0</td>\n",
       "      <td>0.846995</td>\n",
       "      <td>0.950820</td>\n",
       "    </tr>\n",
       "    <tr>\n",
       "      <th>59</th>\n",
       "      <td>Đăng ký xe máy</td>\n",
       "      <td>TP. Hồ Chí Minh</td>\n",
       "      <td>F88 HCM - 121A Nguyễn Xí</td>\n",
       "      <td>229.0</td>\n",
       "      <td>4.0</td>\n",
       "      <td>24.0</td>\n",
       "      <td>16.0</td>\n",
       "      <td>269.0</td>\n",
       "      <td>0.851301</td>\n",
       "      <td>0.940520</td>\n",
       "    </tr>\n",
       "    <tr>\n",
       "      <th>127</th>\n",
       "      <td>Đăng ký xe máy</td>\n",
       "      <td>TP. Hồ Chí Minh</td>\n",
       "      <td>SGN0204.01 Đường Số 11</td>\n",
       "      <td>89.0</td>\n",
       "      <td>3.0</td>\n",
       "      <td>9.0</td>\n",
       "      <td>6.0</td>\n",
       "      <td>104.0</td>\n",
       "      <td>0.855769</td>\n",
       "      <td>0.942308</td>\n",
       "    </tr>\n",
       "    <tr>\n",
       "      <th>197</th>\n",
       "      <td>Đăng ký xe máy</td>\n",
       "      <td>Tỉnh MN</td>\n",
       "      <td>BTE0245.110A Đại Lộ Đồng Khởi</td>\n",
       "      <td>119.0</td>\n",
       "      <td>2.0</td>\n",
       "      <td>8.0</td>\n",
       "      <td>11.0</td>\n",
       "      <td>138.0</td>\n",
       "      <td>0.862319</td>\n",
       "      <td>0.920290</td>\n",
       "    </tr>\n",
       "    <tr>\n",
       "      <th>123</th>\n",
       "      <td>Đăng ký xe máy</td>\n",
       "      <td>TP. Hồ Chí Minh</td>\n",
       "      <td>SGN0143.113 Phạm Văn Chiêu</td>\n",
       "      <td>85.0</td>\n",
       "      <td>2.0</td>\n",
       "      <td>8.0</td>\n",
       "      <td>2.0</td>\n",
       "      <td>95.0</td>\n",
       "      <td>0.894737</td>\n",
       "      <td>0.978947</td>\n",
       "    </tr>\n",
       "  </tbody>\n",
       "</table>\n",
       "<p>240 rows × 10 columns</p>\n",
       "</div>"
      ],
      "text/plain": [
       "stt_after_3_day    categoryname          khu_vuc  \\\n",
       "160              Đăng ký xe máy          Tỉnh MB   \n",
       "159              Đăng ký xe máy          Tỉnh MB   \n",
       "136              Đăng ký xe máy          Tỉnh MB   \n",
       "168              Đăng ký xe máy          Tỉnh MB   \n",
       "45               Đăng ký xe máy           Hà Nội   \n",
       "134              Đăng ký xe máy          Tỉnh MB   \n",
       "175              Đăng ký xe máy          Tỉnh MB   \n",
       "139              Đăng ký xe máy          Tỉnh MB   \n",
       "140              Đăng ký xe máy          Tỉnh MB   \n",
       "132              Đăng ký xe máy          Tỉnh MB   \n",
       "137              Đăng ký xe máy          Tỉnh MB   \n",
       "166              Đăng ký xe máy          Tỉnh MB   \n",
       "47               Đăng ký xe máy           Hà Nội   \n",
       "157              Đăng ký xe máy          Tỉnh MB   \n",
       "172              Đăng ký xe máy          Tỉnh MB   \n",
       "34               Đăng ký xe máy           Hà Nội   \n",
       "169              Đăng ký xe máy          Tỉnh MB   \n",
       "228              Đăng ký xe máy          Tỉnh MN   \n",
       "130              Đăng ký xe máy          Tỉnh MB   \n",
       "145              Đăng ký xe máy          Tỉnh MB   \n",
       "146              Đăng ký xe máy          Tỉnh MB   \n",
       "171              Đăng ký xe máy          Tỉnh MB   \n",
       "151              Đăng ký xe máy          Tỉnh MB   \n",
       "0                Đăng ký xe máy           Hà Nội   \n",
       "158              Đăng ký xe máy          Tỉnh MB   \n",
       "16               Đăng ký xe máy           Hà Nội   \n",
       "217              Đăng ký xe máy          Tỉnh MN   \n",
       "148              Đăng ký xe máy          Tỉnh MB   \n",
       "144              Đăng ký xe máy          Tỉnh MB   \n",
       "153              Đăng ký xe máy          Tỉnh MB   \n",
       "..                          ...              ...   \n",
       "98               Đăng ký xe máy  TP. Hồ Chí Minh   \n",
       "218              Đăng ký xe máy          Tỉnh MN   \n",
       "46               Đăng ký xe máy           Hà Nội   \n",
       "192              Đăng ký xe máy          Tỉnh MN   \n",
       "183              Đăng ký xe máy          Tỉnh MN   \n",
       "107              Đăng ký xe máy  TP. Hồ Chí Minh   \n",
       "60               Đăng ký xe máy  TP. Hồ Chí Minh   \n",
       "72               Đăng ký xe máy  TP. Hồ Chí Minh   \n",
       "126              Đăng ký xe máy  TP. Hồ Chí Minh   \n",
       "154              Đăng ký xe máy          Tỉnh MB   \n",
       "94               Đăng ký xe máy  TP. Hồ Chí Minh   \n",
       "42               Đăng ký xe máy           Hà Nội   \n",
       "230              Đăng ký xe máy          Tỉnh MN   \n",
       "84               Đăng ký xe máy  TP. Hồ Chí Minh   \n",
       "25               Đăng ký xe máy           Hà Nội   \n",
       "118              Đăng ký xe máy  TP. Hồ Chí Minh   \n",
       "122              Đăng ký xe máy  TP. Hồ Chí Minh   \n",
       "149              Đăng ký xe máy          Tỉnh MB   \n",
       "209              Đăng ký xe máy          Tỉnh MN   \n",
       "124              Đăng ký xe máy  TP. Hồ Chí Minh   \n",
       "31               Đăng ký xe máy           Hà Nội   \n",
       "152              Đăng ký xe máy          Tỉnh MB   \n",
       "76               Đăng ký xe máy  TP. Hồ Chí Minh   \n",
       "65               Đăng ký xe máy  TP. Hồ Chí Minh   \n",
       "113              Đăng ký xe máy  TP. Hồ Chí Minh   \n",
       "40               Đăng ký xe máy           Hà Nội   \n",
       "59               Đăng ký xe máy  TP. Hồ Chí Minh   \n",
       "127              Đăng ký xe máy  TP. Hồ Chí Minh   \n",
       "197              Đăng ký xe máy          Tỉnh MN   \n",
       "123              Đăng ký xe máy  TP. Hồ Chí Minh   \n",
       "\n",
       "stt_after_3_day                              shopname  ontime  out_of_range  \\\n",
       "160                             QNH0206.81 Vĩnh Thông    57.0           3.0   \n",
       "159                               QNH0192.670 Hạ Long    51.0           0.0   \n",
       "136                           F88 BN - 216 Ngô Gia Tự   168.0           5.0   \n",
       "168                           THA0187.342 Nguyễn Trãi    87.0           1.0   \n",
       "45                                 HNI0134.112 Phố Ga    68.0           4.0   \n",
       "134                           BNH0235.Ngã Tư Đông Côi    51.0           0.0   \n",
       "175                          TNN0200.100 Trường Chinh   116.0           7.0   \n",
       "139                             F88 TH - 01 Ngô Quyền   185.0           9.0   \n",
       "140                             F88 TH - 349 Trần Phú   179.0           9.0   \n",
       "132                BNH0182.01 Khu 1, Thị trấn Phố Mới   132.0           6.0   \n",
       "137                   F88 HP - 116F Lương Khánh Thiện   164.0          11.0   \n",
       "166                               THA0138.01 Trần Phú   116.0           4.0   \n",
       "47                  HNI0239.15 Tổ 2 Thị Trấn Xuân Mai    43.0           3.0   \n",
       "157                           NDH0150.01 Trường Chinh   194.0           6.0   \n",
       "172                         TNN0131.377 Hoàng Văn Thụ   122.0           3.0   \n",
       "34                             F88 747 Hoàng Hoa Thám   109.0           4.0   \n",
       "169                            THA0214.429 Đường 10/6    69.0           3.0   \n",
       "228                             LDG0237.84 Thống Nhất    41.0           0.0   \n",
       "130                         BNH0146.147 Nguyễn Văn Cừ   121.0           4.0   \n",
       "145                            HPG0161.416 Ngô Gia Tự    78.0           3.0   \n",
       "146                              HPG0201.57 Đường Mới    76.0           4.0   \n",
       "171              TNN0130.229B Đường Cách Mạng Tháng 8   152.0          15.0   \n",
       "151                          NAN0170.22 Nguyễn Văn Cừ   102.0           5.0   \n",
       "0                                  F88 - 505 Ngọc Hồi    97.0           3.0   \n",
       "158                          QNH0163.18 Trần Hưng Đạo    97.0           1.0   \n",
       "16                           F88 2A Nguyễn Khánh Toàn   148.0           2.0   \n",
       "217                          DNI0232.01/T Phúc Nhạc 2    51.0           4.0   \n",
       "148                              HPG0233.09 Hải Triều    38.0           0.0   \n",
       "144                            HDG0241.25 Nguyễn Trãi    36.0           2.0   \n",
       "153                               NAN0186.339 Lê Duẩn    61.0           3.0   \n",
       "..                                                ...     ...           ...   \n",
       "98                      F88 HCM - B101 Nguyễn Văn Quá   229.0           2.0   \n",
       "218                               DNI0238.568 Lê Duẩn    75.0           0.0   \n",
       "46                                 HNI0135.01 Cổ Nhuế   124.0           3.0   \n",
       "192                           BDG0227.Tân Phước Khánh   110.0           0.0   \n",
       "183                                AGG0203.292 Lê Lợi   115.0           1.0   \n",
       "107                                 SGN0109.698 Âu Cơ    96.0           0.0   \n",
       "60                           F88 HCM - 125 Hoàng Diệu   250.0           3.0   \n",
       "72                      F88 HCM - 279 Lãnh Binh Thăng   223.0           1.0   \n",
       "126                      SGN0167.172 Kinh Dương Vương   180.0           2.0   \n",
       "154                    NAN0231.14 Đường Lê Viết Thuật    39.0           2.0   \n",
       "94                               F88 HCM - 935B Âu Cơ   132.0           0.0   \n",
       "42                             HNI0123.457 Hà Huy Tập   124.0           3.0   \n",
       "230                         STG0243.154 Lê Hồng Phong   129.0           2.0   \n",
       "84                       F88 HCM - 54H Nguyễn Ảnh Thủ   189.0           5.0   \n",
       "25                                  F88 437 Tam Trinh   157.0           3.0   \n",
       "118                           SGN0124.2A Lũy Bán Bích   123.0           1.0   \n",
       "122                           SGN0142.415 Kha Vạn Cân   118.0           4.0   \n",
       "149                               HPG0234.75 Minh Đức    36.0           1.0   \n",
       "209                             DLK0221.01 Hà Huy Tập    72.0           0.0   \n",
       "124                       SGN0147.409C Lý Thường Kiệt    88.0           3.0   \n",
       "31                                    F88 62 Hàng Đậu   267.0           4.0   \n",
       "152                          NAN0185.02 Trần Hưng Đạo   111.0           2.0   \n",
       "76                            F88 HCM - 349 Lê Văn Sỹ   189.0           2.0   \n",
       "65                     F88 HCM - 143 Nguyễn Duy Trinh   229.0           4.0   \n",
       "113                         SGN0117.150 Lương Nhữ Học   208.0           6.0   \n",
       "40                                      F88 – 81 Nhổn   155.0           1.0   \n",
       "59                           F88 HCM - 121A Nguyễn Xí   229.0           4.0   \n",
       "127                            SGN0204.01 Đường Số 11    89.0           3.0   \n",
       "197                     BTE0245.110A Đại Lộ Đồng Khởi   119.0           2.0   \n",
       "123                        SGN0143.113 Phạm Văn Chiêu    85.0           2.0   \n",
       "\n",
       "stt_after_3_day  paid_after_3_day  still_over_due    All  ontime_rate  \\\n",
       "160                          26.0            17.0  100.0     0.570000   \n",
       "159                          19.0            14.0   84.0     0.607143   \n",
       "136                          52.0            54.0  274.0     0.613139   \n",
       "168                          29.0            21.0  137.0     0.635036   \n",
       "45                           27.0            12.0  107.0     0.635514   \n",
       "134                          20.0             9.0   80.0     0.637500   \n",
       "175                          44.0            21.0  181.0     0.640884   \n",
       "139                          61.0            40.0  286.0     0.646853   \n",
       "140                          56.0            41.0  276.0     0.648551   \n",
       "132                          37.0            34.0  203.0     0.650246   \n",
       "137                          44.0            43.0  251.0     0.653386   \n",
       "166                          43.0            17.0  176.0     0.659091   \n",
       "47                           17.0             5.0   65.0     0.661538   \n",
       "157                          52.0            47.0  293.0     0.662116   \n",
       "172                          36.0            25.0  183.0     0.666667   \n",
       "34                           34.0            20.0  163.0     0.668712   \n",
       "169                          18.0            16.0  103.0     0.669903   \n",
       "228                          11.0             9.0   61.0     0.672131   \n",
       "130                          31.0            28.0  180.0     0.672222   \n",
       "145                          23.0            15.0  116.0     0.672414   \n",
       "146                          22.0            15.0  113.0     0.672566   \n",
       "171                          41.0            33.0  226.0     0.672566   \n",
       "151                          30.0            18.0  150.0     0.680000   \n",
       "0                            23.0            22.0  142.0     0.683099   \n",
       "158                          30.0            15.0  142.0     0.683099   \n",
       "16                           42.0            26.0  216.0     0.685185   \n",
       "217                          11.0            12.0   74.0     0.689189   \n",
       "148                           8.0             9.0   55.0     0.690909   \n",
       "144                           9.0             7.0   52.0     0.692308   \n",
       "153                          20.0             7.0   88.0     0.693182   \n",
       "..                            ...             ...    ...          ...   \n",
       "98                           27.0            22.0  278.0     0.823741   \n",
       "218                           7.0             9.0   91.0     0.824176   \n",
       "46                           19.0             7.0  150.0     0.826667   \n",
       "192                          11.0            12.0  133.0     0.827068   \n",
       "183                          16.0             8.0  139.0     0.827338   \n",
       "107                          12.0             8.0  116.0     0.827586   \n",
       "60                           30.0            22.0  302.0     0.827815   \n",
       "72                           27.0            19.0  269.0     0.828996   \n",
       "126                          27.0            10.0  217.0     0.829493   \n",
       "154                           4.0             4.0   47.0     0.829787   \n",
       "94                           20.0             7.0  159.0     0.830189   \n",
       "42                           19.0             6.0  149.0     0.832215   \n",
       "230                          14.0            12.0  155.0     0.832258   \n",
       "84                           22.0            16.0  227.0     0.832599   \n",
       "25                           26.0             5.0  188.0     0.835106   \n",
       "118                          14.0            10.0  147.0     0.836735   \n",
       "122                          14.0             9.0  141.0     0.836879   \n",
       "149                           5.0             2.0   43.0     0.837209   \n",
       "209                          10.0             4.0   86.0     0.837209   \n",
       "124                           9.0             8.0  105.0     0.838095   \n",
       "31                           32.0            19.0  318.0     0.839623   \n",
       "152                          11.0            10.0  132.0     0.840909   \n",
       "76                           29.0             6.0  224.0     0.843750   \n",
       "65                           24.0            18.0  271.0     0.845018   \n",
       "113                          22.0            16.0  246.0     0.845528   \n",
       "40                           19.0             9.0  183.0     0.846995   \n",
       "59                           24.0            16.0  269.0     0.851301   \n",
       "127                           9.0             6.0  104.0     0.855769   \n",
       "197                           8.0            11.0  138.0     0.862319   \n",
       "123                           8.0             2.0   95.0     0.894737   \n",
       "\n",
       "stt_after_3_day  pmt_after_3days  \n",
       "160                     0.830000  \n",
       "159                     0.833333  \n",
       "136                     0.802920  \n",
       "168                     0.846715  \n",
       "45                      0.887850  \n",
       "134                     0.887500  \n",
       "175                     0.883978  \n",
       "139                     0.860140  \n",
       "140                     0.851449  \n",
       "132                     0.832512  \n",
       "137                     0.828685  \n",
       "166                     0.903409  \n",
       "47                      0.923077  \n",
       "157                     0.839590  \n",
       "172                     0.863388  \n",
       "34                      0.877301  \n",
       "169                     0.844660  \n",
       "228                     0.852459  \n",
       "130                     0.844444  \n",
       "145                     0.870690  \n",
       "146                     0.867257  \n",
       "171                     0.853982  \n",
       "151                     0.880000  \n",
       "0                       0.845070  \n",
       "158                     0.894366  \n",
       "16                      0.879630  \n",
       "217                     0.837838  \n",
       "148                     0.836364  \n",
       "144                     0.865385  \n",
       "153                     0.920455  \n",
       "..                           ...  \n",
       "98                      0.920863  \n",
       "218                     0.901099  \n",
       "46                      0.953333  \n",
       "192                     0.909774  \n",
       "183                     0.942446  \n",
       "107                     0.931034  \n",
       "60                      0.927152  \n",
       "72                      0.929368  \n",
       "126                     0.953917  \n",
       "154                     0.914894  \n",
       "94                      0.955975  \n",
       "42                      0.959732  \n",
       "230                     0.922581  \n",
       "84                      0.929515  \n",
       "25                      0.973404  \n",
       "118                     0.931973  \n",
       "122                     0.936170  \n",
       "149                     0.953488  \n",
       "209                     0.953488  \n",
       "124                     0.923810  \n",
       "31                      0.940252  \n",
       "152                     0.924242  \n",
       "76                      0.973214  \n",
       "65                      0.933579  \n",
       "113                     0.934959  \n",
       "40                      0.950820  \n",
       "59                      0.940520  \n",
       "127                     0.942308  \n",
       "197                     0.920290  \n",
       "123                     0.978947  \n",
       "\n",
       "[240 rows x 10 columns]"
      ]
     },
     "execution_count": 24,
     "metadata": {},
     "output_type": "execute_result"
    }
   ],
   "source": [
    "ontime_pgd_motor_title"
   ]
  },
  {
   "cell_type": "code",
   "execution_count": 25,
   "metadata": {},
   "outputs": [],
   "source": [
    "# ASM, category\n",
    "ontime_qlkv = ontime_spdk.pivot_table(index = ['categoryname', 'QLKV'], columns='stt_after_3_day', values='pawnid', aggfunc='count').reset_index()\n",
    "ontime_qlkv_last_month = ontime_spdk_last_month.pivot_table(index = ['categoryname', 'QLKV'], columns='stt_after_3_day', values='pawnid', aggfunc='count').reset_index()\n",
    "ontime_qlkv = ontime_qlkv.fillna(0)\n",
    "ontime_qlkv_last_month = ontime_qlkv_last_month.fillna(0)"
   ]
  },
  {
   "cell_type": "code",
   "execution_count": 26,
   "metadata": {},
   "outputs": [],
   "source": [
    "# ontime_qlkv['all'] = ontime_qlkv['ontime']+ontime_qlkv['paid_after_3_day']\n",
    "# ontime_qlkv['ontime_rate'] = ontime_qlkv['ontime']/ontime_qlkv['all']\n",
    "# ontime_qlkv['paid_within_3_days_rate'] = (ontime_qlkv['ontime']+ontime_qlkv['paid_after_3_day'])/ontime_qlkv['all']\n",
    "# ontime_qlkv_last_month['all'] = ontime_qlkv_last_month['ontime']+ontime_qlkv_last_month['paid_after_3_day']+ontime_qlkv_last_month['still_over_due']\n",
    "# ontime_qlkv_last_month['ontime_rate'] = ontime_qlkv_last_month['ontime']/ontime_qlkv_last_month['all']\n",
    "# ontime_qlkv_last_month['paid_within_3_days_rate'] = (ontime_qlkv_last_month['ontime']+ontime_qlkv_last_month['paid_after_3_day'])/ontime_qlkv_last_month['all']"
   ]
  },
  {
   "cell_type": "code",
   "execution_count": 27,
   "metadata": {},
   "outputs": [],
   "source": [
    "ontime_qlkv['all'] = ontime_qlkv['ontime']+ontime_qlkv['paid_after_3_day']+ontime_qlkv['still_over_due']\n",
    "ontime_qlkv['ontime_rate'] = ontime_qlkv['ontime']/ontime_qlkv['all']\n",
    "ontime_qlkv['paid_within_3_days_rate'] = (ontime_qlkv['ontime']+ontime_qlkv['paid_after_3_day'])/ontime_qlkv['all']\n",
    "ontime_qlkv_last_month['all'] = ontime_qlkv_last_month['ontime']+ontime_qlkv_last_month['paid_after_3_day']+ontime_qlkv_last_month['still_over_due']\n",
    "ontime_qlkv_last_month['ontime_rate'] = ontime_qlkv_last_month['ontime']/ontime_qlkv_last_month['all']\n",
    "ontime_qlkv_last_month['paid_within_3_days_rate'] = (ontime_qlkv_last_month['ontime']+ontime_qlkv_last_month['paid_after_3_day'])/ontime_qlkv_last_month['all']"
   ]
  },
  {
   "cell_type": "code",
   "execution_count": 28,
   "metadata": {},
   "outputs": [],
   "source": [
    "ontime_qlkv_motor_title = ontime_qlkv[ontime_qlkv['categoryname'] == 'Đăng ký xe máy']\n",
    "ontime_qlkv_car_title = ontime_qlkv[ontime_qlkv['categoryname'] == 'Đăng ký Ô tô']\n",
    "ontime_qlkv_motor_title_last_month = ontime_qlkv_last_month[ontime_qlkv_last_month['categoryname'] == 'Đăng ký xe máy']\n",
    "ontime_qlkv_car_title_last_month = ontime_qlkv_last_month[ontime_qlkv_last_month['categoryname'] == 'Đăng ký Ô tô']"
   ]
  },
  {
   "cell_type": "code",
   "execution_count": 29,
   "metadata": {},
   "outputs": [],
   "source": [
    "#  category, province\n",
    "ontime_province_motor_title = ontime_dkxm_this_month.pivot_table(index = 'Tỉnh/ Thành phố', columns= 'stt_after_3_day', values='pawnid', aggfunc='nunique').reset_index()\n",
    "ontime_province_car_title = ontime_dkot_this_month.pivot_table(index = 'Tỉnh/ Thành phố', columns= 'stt_after_3_day', values='pawnid', aggfunc='nunique').reset_index()\n",
    "ontime_province_motor_title_last_month = ontime_dkxm_last_month.pivot_table(index = 'Tỉnh/ Thành phố', columns= 'stt_after_3_day', values='pawnid', aggfunc='nunique').reset_index()\n",
    "ontime_province_car_title_last_month = ontime_dkot_last_month.pivot_table(index = 'Tỉnh/ Thành phố', columns= 'stt_after_3_day', values='pawnid', aggfunc='nunique').reset_index()"
   ]
  },
  {
   "cell_type": "code",
   "execution_count": 30,
   "metadata": {},
   "outputs": [],
   "source": [
    "ontime_province_motor_title = ontime_province_motor_title.fillna(0)\n",
    "ontime_province_car_title = ontime_province_car_title.fillna(0)\n",
    "ontime_province_motor_title_last_month = ontime_province_motor_title_last_month.fillna(0)\n",
    "ontime_province_car_title_last_month = ontime_province_car_title_last_month.fillna(0)"
   ]
  },
  {
   "cell_type": "code",
   "execution_count": 31,
   "metadata": {},
   "outputs": [],
   "source": [
    "ontime_province_motor_title['total'] = ontime_province_motor_title['ontime']+ontime_province_motor_title['paid_after_3_day']\n",
    "# ontime_province_motor_title['total'] = ontime_province_motor_title['ontime']+ontime_province_motor_title['paid_after_3_day']+ontime_province_motor_title['still_over_due']"
   ]
  },
  {
   "cell_type": "code",
   "execution_count": 32,
   "metadata": {},
   "outputs": [],
   "source": [
    "# ontime_province_car_title['total'] = ontime_province_car_title['ontime']+ontime_province_car_title['paid_after_3_day']\n",
    "# ontime_province_motor_title_last_month['total'] = ontime_province_motor_title_last_month['ontime']+ontime_province_motor_title_last_month['paid_after_3_day']\n",
    "# ontime_province_car_title_last_month['total'] = ontime_province_car_title_last_month['ontime']+ontime_province_car_title_last_month['paid_after_3_day']"
   ]
  },
  {
   "cell_type": "code",
   "execution_count": 33,
   "metadata": {},
   "outputs": [],
   "source": [
    "ontime_province_car_title['total'] = ontime_province_car_title['ontime']+ontime_province_car_title['paid_after_3_day']+ontime_province_car_title['still_over_due']\n",
    "ontime_province_motor_title_last_month['total'] = ontime_province_motor_title_last_month['ontime']+ontime_province_motor_title_last_month['paid_after_3_day']+ontime_province_motor_title_last_month['still_over_due']\n",
    "ontime_province_car_title_last_month['total'] = ontime_province_car_title_last_month['ontime']+ontime_province_car_title_last_month['paid_after_3_day']+ontime_province_car_title_last_month['still_over_due']"
   ]
  },
  {
   "cell_type": "code",
   "execution_count": 34,
   "metadata": {},
   "outputs": [],
   "source": [
    "ontime_province_motor_title['ontime_rate'] = ontime_province_motor_title['ontime']/ontime_province_motor_title['total']\n",
    "ontime_province_motor_title_last_month['ontime_rate'] = ontime_province_motor_title_last_month['ontime']/ontime_province_motor_title_last_month['total']\n",
    "ontime_province_car_title['ontime_rate'] = ontime_province_car_title['ontime']/ontime_province_car_title['total']\n",
    "ontime_province_car_title_last_month['ontime_rate'] = ontime_province_car_title_last_month['ontime']/ontime_province_car_title_last_month['total']\n",
    "ontime_province_motor_title['pmt_within_3days_rate'] = (ontime_province_motor_title['ontime']+ontime_province_motor_title['paid_after_3_day'])/ontime_province_motor_title['total']\n",
    "ontime_province_motor_title_last_month['pmt_within_3days_rate'] = (ontime_province_motor_title_last_month['ontime']+ontime_province_motor_title_last_month['paid_after_3_day'])/ontime_province_motor_title_last_month['total']\n",
    "ontime_province_car_title['pmt_within_3days_rate'] =(ontime_province_car_title['ontime']+ontime_province_car_title['paid_after_3_day'])/ontime_province_car_title['total']\n",
    "ontime_province_car_title_last_month['pmt_within_3days_rate'] = (ontime_province_car_title_last_month['ontime']+ontime_province_car_title_last_month['paid_after_3_day'])/ontime_province_car_title_last_month['total']"
   ]
  },
  {
   "cell_type": "code",
   "execution_count": 35,
   "metadata": {},
   "outputs": [],
   "source": [
    "# scheduletodate, category\n",
    "ontime_schedule = ontime_spdk.pivot_table(index = 'scheduletodate', columns= ['categoryname', 'pmt_stt'], values='pawnid', aggfunc='nunique').reset_index()\n",
    "ontime_schedule_last_month = ontime_spdk_last_month.pivot_table(index = 'scheduletodate', columns= ['categoryname', 'pmt_stt'], values='pawnid', aggfunc='nunique').reset_index()\n",
    "ontime_schedule = ontime_schedule.fillna(0)\n",
    "ontime_schedule_last_month = ontime_schedule_last_month.fillna(0)"
   ]
  },
  {
   "cell_type": "code",
   "execution_count": 36,
   "metadata": {},
   "outputs": [
    {
     "data": {
      "text/html": [
       "<div>\n",
       "<style scoped>\n",
       "    .dataframe tbody tr th:only-of-type {\n",
       "        vertical-align: middle;\n",
       "    }\n",
       "\n",
       "    .dataframe tbody tr th {\n",
       "        vertical-align: top;\n",
       "    }\n",
       "\n",
       "    .dataframe thead th {\n",
       "        text-align: right;\n",
       "    }\n",
       "</style>\n",
       "<table border=\"1\" class=\"dataframe\">\n",
       "  <thead>\n",
       "    <tr style=\"text-align: right;\">\n",
       "      <th></th>\n",
       "      <th>GĐM</th>\n",
       "      <th>Kinh độ</th>\n",
       "      <th>Mã PGD</th>\n",
       "      <th>Phường/Xã</th>\n",
       "      <th>QLKV</th>\n",
       "      <th>Quận/Huyện</th>\n",
       "      <th>Shop ID</th>\n",
       "      <th>TPK</th>\n",
       "      <th>Thời gian KT</th>\n",
       "      <th>Tên PGD</th>\n",
       "      <th>...</th>\n",
       "      <th>row_num</th>\n",
       "      <th>scheduletodate</th>\n",
       "      <th>shopcode</th>\n",
       "      <th>shopname</th>\n",
       "      <th>status</th>\n",
       "      <th>stt_after_3_day</th>\n",
       "      <th>t_3_day_after</th>\n",
       "      <th>title_type</th>\n",
       "      <th>todate</th>\n",
       "      <th>write_off_period</th>\n",
       "    </tr>\n",
       "  </thead>\n",
       "  <tbody>\n",
       "    <tr>\n",
       "      <th>0</th>\n",
       "      <td>Lê Ngọ</td>\n",
       "      <td>106.759579</td>\n",
       "      <td>SG2022</td>\n",
       "      <td>P. Bình Trưng Tây</td>\n",
       "      <td>Võ Minh Triều</td>\n",
       "      <td>Q. 2</td>\n",
       "      <td>205</td>\n",
       "      <td>Lý Quốc Huy</td>\n",
       "      <td>2019 - 5</td>\n",
       "      <td>F88 HCM - 143 Nguyễn Duy Trinh</td>\n",
       "      <td>...</td>\n",
       "      <td>0.0</td>\n",
       "      <td>2020-12-27</td>\n",
       "      <td>SG2022</td>\n",
       "      <td>F88 HCM - 143 Nguyễn Duy Trinh</td>\n",
       "      <td>14</td>\n",
       "      <td>out_of_range</td>\n",
       "      <td>2020-12-30</td>\n",
       "      <td>monthly_org_paid</td>\n",
       "      <td>2021-07-25</td>\n",
       "      <td>0.0</td>\n",
       "    </tr>\n",
       "    <tr>\n",
       "      <th>1</th>\n",
       "      <td>Lê Ngọ</td>\n",
       "      <td>106.610791</td>\n",
       "      <td>SG2042</td>\n",
       "      <td>X. Trung Chánh</td>\n",
       "      <td>Nguyễn Đình Nhật</td>\n",
       "      <td>H. Hóc Môn</td>\n",
       "      <td>227</td>\n",
       "      <td>Trần Thanh Phú</td>\n",
       "      <td>2019 - 7</td>\n",
       "      <td>F88 HCM - 128/1 Nguyễn Ảnh Thủ</td>\n",
       "      <td>...</td>\n",
       "      <td>0.0</td>\n",
       "      <td>2020-12-04</td>\n",
       "      <td>SG2042</td>\n",
       "      <td>F88 HCM - 128/1 Nguyễn Ảnh Thủ</td>\n",
       "      <td>14</td>\n",
       "      <td>ontime</td>\n",
       "      <td>2020-12-07</td>\n",
       "      <td>monthly_org_paid</td>\n",
       "      <td>2021-08-01</td>\n",
       "      <td>0.0</td>\n",
       "    </tr>\n",
       "    <tr>\n",
       "      <th>2</th>\n",
       "      <td>Phan Trung Kiên</td>\n",
       "      <td>105.778950</td>\n",
       "      <td>THH</td>\n",
       "      <td>P. Điện Biên</td>\n",
       "      <td>Trần Đức Tiến</td>\n",
       "      <td>TP. Thanh Hóa</td>\n",
       "      <td>34</td>\n",
       "      <td>Nguyễn Mạnh Tùng</td>\n",
       "      <td>2016 - 10</td>\n",
       "      <td>F88 TH - 01 Ngô Quyền</td>\n",
       "      <td>...</td>\n",
       "      <td>0.0</td>\n",
       "      <td>2020-12-23</td>\n",
       "      <td>THH</td>\n",
       "      <td>F88 TH - 01 Ngô Quyền</td>\n",
       "      <td>14</td>\n",
       "      <td>still_over_due</td>\n",
       "      <td>2020-12-26</td>\n",
       "      <td>monthly_org_paid</td>\n",
       "      <td>2021-09-19</td>\n",
       "      <td>0.0</td>\n",
       "    </tr>\n",
       "    <tr>\n",
       "      <th>3</th>\n",
       "      <td>Lê Ngọ</td>\n",
       "      <td>106.648587</td>\n",
       "      <td>SG2003</td>\n",
       "      <td>P. 10</td>\n",
       "      <td>Lý Văn Đạt</td>\n",
       "      <td>Q. Tân Bình</td>\n",
       "      <td>183</td>\n",
       "      <td>Trần Thanh Phú</td>\n",
       "      <td>2018 - 11</td>\n",
       "      <td>F88 HCM - 656 Lạc Long Quân</td>\n",
       "      <td>...</td>\n",
       "      <td>0.0</td>\n",
       "      <td>2020-12-19</td>\n",
       "      <td>SG2003</td>\n",
       "      <td>F88 HCM - 656 Lạc Long Quân</td>\n",
       "      <td>14</td>\n",
       "      <td>ontime</td>\n",
       "      <td>2020-12-22</td>\n",
       "      <td>monthly_org_paid</td>\n",
       "      <td>2021-10-15</td>\n",
       "      <td>0.0</td>\n",
       "    </tr>\n",
       "    <tr>\n",
       "      <th>4</th>\n",
       "      <td>Lê Ngọ</td>\n",
       "      <td>106.635845</td>\n",
       "      <td>SG2051</td>\n",
       "      <td>P. Phú Thạnh</td>\n",
       "      <td>Phạm Hữu Thành</td>\n",
       "      <td>Q. Tân Phú</td>\n",
       "      <td>238</td>\n",
       "      <td>Trần Thanh Phú</td>\n",
       "      <td>2019 - 9</td>\n",
       "      <td>F88 HCM - 683 Lũy Bán Bích</td>\n",
       "      <td>...</td>\n",
       "      <td>0.0</td>\n",
       "      <td>2020-12-20</td>\n",
       "      <td>SG2051</td>\n",
       "      <td>F88 HCM - 683 Lũy Bán Bích</td>\n",
       "      <td>14</td>\n",
       "      <td>paid_after_3_day</td>\n",
       "      <td>2020-12-23</td>\n",
       "      <td>monthly_org_paid</td>\n",
       "      <td>2021-11-15</td>\n",
       "      <td>0.0</td>\n",
       "    </tr>\n",
       "  </tbody>\n",
       "</table>\n",
       "<p>5 rows × 52 columns</p>\n",
       "</div>"
      ],
      "text/plain": [
       "               GĐM     Kinh độ  Mã PGD          Phường/Xã              QLKV  \\\n",
       "0           Lê Ngọ  106.759579  SG2022  P. Bình Trưng Tây     Võ Minh Triều   \n",
       "1           Lê Ngọ  106.610791  SG2042     X. Trung Chánh  Nguyễn Đình Nhật   \n",
       "2  Phan Trung Kiên  105.778950     THH       P. Điện Biên     Trần Đức Tiến   \n",
       "3           Lê Ngọ  106.648587  SG2003              P. 10        Lý Văn Đạt   \n",
       "4           Lê Ngọ  106.635845  SG2051       P. Phú Thạnh    Phạm Hữu Thành   \n",
       "\n",
       "      Quận/Huyện  Shop ID               TPK Thời gian KT  \\\n",
       "0           Q. 2      205       Lý Quốc Huy     2019 - 5   \n",
       "1     H. Hóc Môn      227    Trần Thanh Phú     2019 - 7   \n",
       "2  TP. Thanh Hóa       34  Nguyễn Mạnh Tùng    2016 - 10   \n",
       "3    Q. Tân Bình      183    Trần Thanh Phú    2018 - 11   \n",
       "4     Q. Tân Phú      238    Trần Thanh Phú     2019 - 9   \n",
       "\n",
       "                          Tên PGD       ...        row_num scheduletodate  \\\n",
       "0  F88 HCM - 143 Nguyễn Duy Trinh       ...            0.0     2020-12-27   \n",
       "1  F88 HCM - 128/1 Nguyễn Ảnh Thủ       ...            0.0     2020-12-04   \n",
       "2           F88 TH - 01 Ngô Quyền       ...            0.0     2020-12-23   \n",
       "3     F88 HCM - 656 Lạc Long Quân       ...            0.0     2020-12-19   \n",
       "4      F88 HCM - 683 Lũy Bán Bích       ...            0.0     2020-12-20   \n",
       "\n",
       "  shopcode                        shopname  status   stt_after_3_day  \\\n",
       "0   SG2022  F88 HCM - 143 Nguyễn Duy Trinh      14      out_of_range   \n",
       "1   SG2042  F88 HCM - 128/1 Nguyễn Ảnh Thủ      14            ontime   \n",
       "2      THH           F88 TH - 01 Ngô Quyền      14    still_over_due   \n",
       "3   SG2003     F88 HCM - 656 Lạc Long Quân      14            ontime   \n",
       "4   SG2051      F88 HCM - 683 Lũy Bán Bích      14  paid_after_3_day   \n",
       "\n",
       "   t_3_day_after        title_type      todate write_off_period  \n",
       "0     2020-12-30  monthly_org_paid  2021-07-25              0.0  \n",
       "1     2020-12-07  monthly_org_paid  2021-08-01              0.0  \n",
       "2     2020-12-26  monthly_org_paid  2021-09-19              0.0  \n",
       "3     2020-12-22  monthly_org_paid  2021-10-15              0.0  \n",
       "4     2020-12-23  monthly_org_paid  2021-11-15              0.0  \n",
       "\n",
       "[5 rows x 52 columns]"
      ]
     },
     "execution_count": 36,
     "metadata": {},
     "output_type": "execute_result"
    }
   ],
   "source": [
    "ontime_spdk.head(5)"
   ]
  },
  {
   "cell_type": "code",
   "execution_count": 37,
   "metadata": {},
   "outputs": [],
   "source": [
    "# scheduletodate, category\n",
    "ontime_schedule_3 = ontime_spdk.pivot_table(index = 'scheduletodate', columns= ['categoryname', 'stt_after_3_day'], values='pawnid', aggfunc='nunique').reset_index()\n",
    "ontime_schedule_3_last_month = ontime_spdk_last_month.pivot_table(index = 'scheduletodate', columns= ['categoryname', 'stt_after_3_day'], values='pawnid', aggfunc='nunique').reset_index()\n",
    "ontime_schedule_3 = ontime_schedule_3.fillna(0)\n",
    "ontime_schedule_3_last_month = ontime_schedule_3_last_month.fillna(0)"
   ]
  },
  {
   "cell_type": "code",
   "execution_count": 38,
   "metadata": {},
   "outputs": [
    {
     "data": {
      "text/html": [
       "<div>\n",
       "<style scoped>\n",
       "    .dataframe tbody tr th:only-of-type {\n",
       "        vertical-align: middle;\n",
       "    }\n",
       "\n",
       "    .dataframe tbody tr th {\n",
       "        vertical-align: top;\n",
       "    }\n",
       "\n",
       "    .dataframe thead tr th {\n",
       "        text-align: left;\n",
       "    }\n",
       "</style>\n",
       "<table border=\"1\" class=\"dataframe\">\n",
       "  <thead>\n",
       "    <tr>\n",
       "      <th>categoryname</th>\n",
       "      <th>scheduletodate</th>\n",
       "      <th colspan=\"4\" halign=\"left\">Đăng ký xe máy</th>\n",
       "      <th colspan=\"4\" halign=\"left\">Đăng ký Ô tô</th>\n",
       "    </tr>\n",
       "    <tr>\n",
       "      <th>stt_after_3_day</th>\n",
       "      <th></th>\n",
       "      <th>ontime</th>\n",
       "      <th>out_of_range</th>\n",
       "      <th>paid_after_3_day</th>\n",
       "      <th>still_over_due</th>\n",
       "      <th>ontime</th>\n",
       "      <th>out_of_range</th>\n",
       "      <th>paid_after_3_day</th>\n",
       "      <th>still_over_due</th>\n",
       "    </tr>\n",
       "  </thead>\n",
       "  <tbody>\n",
       "    <tr>\n",
       "      <th>0</th>\n",
       "      <td>2020-12-01</td>\n",
       "      <td>1146.0</td>\n",
       "      <td>0.0</td>\n",
       "      <td>207.0</td>\n",
       "      <td>151.0</td>\n",
       "      <td>19.0</td>\n",
       "      <td>0.0</td>\n",
       "      <td>9.0</td>\n",
       "      <td>8.0</td>\n",
       "    </tr>\n",
       "    <tr>\n",
       "      <th>1</th>\n",
       "      <td>2020-12-02</td>\n",
       "      <td>833.0</td>\n",
       "      <td>0.0</td>\n",
       "      <td>153.0</td>\n",
       "      <td>139.0</td>\n",
       "      <td>28.0</td>\n",
       "      <td>0.0</td>\n",
       "      <td>10.0</td>\n",
       "      <td>8.0</td>\n",
       "    </tr>\n",
       "    <tr>\n",
       "      <th>2</th>\n",
       "      <td>2020-12-03</td>\n",
       "      <td>848.0</td>\n",
       "      <td>0.0</td>\n",
       "      <td>155.0</td>\n",
       "      <td>148.0</td>\n",
       "      <td>23.0</td>\n",
       "      <td>0.0</td>\n",
       "      <td>8.0</td>\n",
       "      <td>2.0</td>\n",
       "    </tr>\n",
       "    <tr>\n",
       "      <th>3</th>\n",
       "      <td>2020-12-04</td>\n",
       "      <td>853.0</td>\n",
       "      <td>0.0</td>\n",
       "      <td>124.0</td>\n",
       "      <td>136.0</td>\n",
       "      <td>24.0</td>\n",
       "      <td>0.0</td>\n",
       "      <td>12.0</td>\n",
       "      <td>3.0</td>\n",
       "    </tr>\n",
       "    <tr>\n",
       "      <th>4</th>\n",
       "      <td>2020-12-05</td>\n",
       "      <td>1506.0</td>\n",
       "      <td>0.0</td>\n",
       "      <td>279.0</td>\n",
       "      <td>233.0</td>\n",
       "      <td>35.0</td>\n",
       "      <td>0.0</td>\n",
       "      <td>10.0</td>\n",
       "      <td>11.0</td>\n",
       "    </tr>\n",
       "    <tr>\n",
       "      <th>5</th>\n",
       "      <td>2020-12-06</td>\n",
       "      <td>1028.0</td>\n",
       "      <td>0.0</td>\n",
       "      <td>220.0</td>\n",
       "      <td>154.0</td>\n",
       "      <td>29.0</td>\n",
       "      <td>0.0</td>\n",
       "      <td>15.0</td>\n",
       "      <td>6.0</td>\n",
       "    </tr>\n",
       "    <tr>\n",
       "      <th>6</th>\n",
       "      <td>2020-12-07</td>\n",
       "      <td>1097.0</td>\n",
       "      <td>0.0</td>\n",
       "      <td>189.0</td>\n",
       "      <td>131.0</td>\n",
       "      <td>29.0</td>\n",
       "      <td>0.0</td>\n",
       "      <td>12.0</td>\n",
       "      <td>5.0</td>\n",
       "    </tr>\n",
       "    <tr>\n",
       "      <th>7</th>\n",
       "      <td>2020-12-08</td>\n",
       "      <td>955.0</td>\n",
       "      <td>0.0</td>\n",
       "      <td>171.0</td>\n",
       "      <td>123.0</td>\n",
       "      <td>26.0</td>\n",
       "      <td>0.0</td>\n",
       "      <td>15.0</td>\n",
       "      <td>6.0</td>\n",
       "    </tr>\n",
       "    <tr>\n",
       "      <th>8</th>\n",
       "      <td>2020-12-09</td>\n",
       "      <td>954.0</td>\n",
       "      <td>0.0</td>\n",
       "      <td>173.0</td>\n",
       "      <td>127.0</td>\n",
       "      <td>23.0</td>\n",
       "      <td>0.0</td>\n",
       "      <td>12.0</td>\n",
       "      <td>11.0</td>\n",
       "    </tr>\n",
       "    <tr>\n",
       "      <th>9</th>\n",
       "      <td>2020-12-10</td>\n",
       "      <td>2384.0</td>\n",
       "      <td>0.0</td>\n",
       "      <td>421.0</td>\n",
       "      <td>337.0</td>\n",
       "      <td>20.0</td>\n",
       "      <td>0.0</td>\n",
       "      <td>8.0</td>\n",
       "      <td>17.0</td>\n",
       "    </tr>\n",
       "    <tr>\n",
       "      <th>10</th>\n",
       "      <td>2020-12-11</td>\n",
       "      <td>1294.0</td>\n",
       "      <td>0.0</td>\n",
       "      <td>209.0</td>\n",
       "      <td>177.0</td>\n",
       "      <td>27.0</td>\n",
       "      <td>0.0</td>\n",
       "      <td>8.0</td>\n",
       "      <td>9.0</td>\n",
       "    </tr>\n",
       "    <tr>\n",
       "      <th>11</th>\n",
       "      <td>2020-12-12</td>\n",
       "      <td>1658.0</td>\n",
       "      <td>0.0</td>\n",
       "      <td>329.0</td>\n",
       "      <td>228.0</td>\n",
       "      <td>30.0</td>\n",
       "      <td>0.0</td>\n",
       "      <td>18.0</td>\n",
       "      <td>9.0</td>\n",
       "    </tr>\n",
       "    <tr>\n",
       "      <th>12</th>\n",
       "      <td>2020-12-13</td>\n",
       "      <td>1068.0</td>\n",
       "      <td>0.0</td>\n",
       "      <td>204.0</td>\n",
       "      <td>135.0</td>\n",
       "      <td>33.0</td>\n",
       "      <td>0.0</td>\n",
       "      <td>11.0</td>\n",
       "      <td>11.0</td>\n",
       "    </tr>\n",
       "    <tr>\n",
       "      <th>13</th>\n",
       "      <td>2020-12-14</td>\n",
       "      <td>1083.0</td>\n",
       "      <td>0.0</td>\n",
       "      <td>218.0</td>\n",
       "      <td>150.0</td>\n",
       "      <td>24.0</td>\n",
       "      <td>0.0</td>\n",
       "      <td>9.0</td>\n",
       "      <td>8.0</td>\n",
       "    </tr>\n",
       "    <tr>\n",
       "      <th>14</th>\n",
       "      <td>2020-12-15</td>\n",
       "      <td>3072.0</td>\n",
       "      <td>0.0</td>\n",
       "      <td>613.0</td>\n",
       "      <td>471.0</td>\n",
       "      <td>35.0</td>\n",
       "      <td>0.0</td>\n",
       "      <td>10.0</td>\n",
       "      <td>9.0</td>\n",
       "    </tr>\n",
       "    <tr>\n",
       "      <th>15</th>\n",
       "      <td>2020-12-16</td>\n",
       "      <td>1533.0</td>\n",
       "      <td>0.0</td>\n",
       "      <td>293.0</td>\n",
       "      <td>213.0</td>\n",
       "      <td>21.0</td>\n",
       "      <td>0.0</td>\n",
       "      <td>9.0</td>\n",
       "      <td>9.0</td>\n",
       "    </tr>\n",
       "    <tr>\n",
       "      <th>16</th>\n",
       "      <td>2020-12-17</td>\n",
       "      <td>1422.0</td>\n",
       "      <td>0.0</td>\n",
       "      <td>216.0</td>\n",
       "      <td>219.0</td>\n",
       "      <td>27.0</td>\n",
       "      <td>0.0</td>\n",
       "      <td>16.0</td>\n",
       "      <td>7.0</td>\n",
       "    </tr>\n",
       "    <tr>\n",
       "      <th>17</th>\n",
       "      <td>2020-12-18</td>\n",
       "      <td>1270.0</td>\n",
       "      <td>0.0</td>\n",
       "      <td>240.0</td>\n",
       "      <td>192.0</td>\n",
       "      <td>18.0</td>\n",
       "      <td>0.0</td>\n",
       "      <td>4.0</td>\n",
       "      <td>16.0</td>\n",
       "    </tr>\n",
       "    <tr>\n",
       "      <th>18</th>\n",
       "      <td>2020-12-19</td>\n",
       "      <td>1083.0</td>\n",
       "      <td>0.0</td>\n",
       "      <td>219.0</td>\n",
       "      <td>161.0</td>\n",
       "      <td>36.0</td>\n",
       "      <td>0.0</td>\n",
       "      <td>11.0</td>\n",
       "      <td>9.0</td>\n",
       "    </tr>\n",
       "    <tr>\n",
       "      <th>19</th>\n",
       "      <td>2020-12-20</td>\n",
       "      <td>2123.0</td>\n",
       "      <td>0.0</td>\n",
       "      <td>509.0</td>\n",
       "      <td>346.0</td>\n",
       "      <td>20.0</td>\n",
       "      <td>0.0</td>\n",
       "      <td>16.0</td>\n",
       "      <td>8.0</td>\n",
       "    </tr>\n",
       "    <tr>\n",
       "      <th>20</th>\n",
       "      <td>2020-12-21</td>\n",
       "      <td>1128.0</td>\n",
       "      <td>0.0</td>\n",
       "      <td>238.0</td>\n",
       "      <td>161.0</td>\n",
       "      <td>24.0</td>\n",
       "      <td>0.0</td>\n",
       "      <td>15.0</td>\n",
       "      <td>4.0</td>\n",
       "    </tr>\n",
       "    <tr>\n",
       "      <th>21</th>\n",
       "      <td>2020-12-22</td>\n",
       "      <td>1126.0</td>\n",
       "      <td>0.0</td>\n",
       "      <td>218.0</td>\n",
       "      <td>198.0</td>\n",
       "      <td>29.0</td>\n",
       "      <td>0.0</td>\n",
       "      <td>21.0</td>\n",
       "      <td>4.0</td>\n",
       "    </tr>\n",
       "    <tr>\n",
       "      <th>22</th>\n",
       "      <td>2020-12-23</td>\n",
       "      <td>1056.0</td>\n",
       "      <td>0.0</td>\n",
       "      <td>184.0</td>\n",
       "      <td>172.0</td>\n",
       "      <td>30.0</td>\n",
       "      <td>0.0</td>\n",
       "      <td>7.0</td>\n",
       "      <td>7.0</td>\n",
       "    </tr>\n",
       "    <tr>\n",
       "      <th>23</th>\n",
       "      <td>2020-12-24</td>\n",
       "      <td>977.0</td>\n",
       "      <td>0.0</td>\n",
       "      <td>196.0</td>\n",
       "      <td>165.0</td>\n",
       "      <td>26.0</td>\n",
       "      <td>0.0</td>\n",
       "      <td>13.0</td>\n",
       "      <td>7.0</td>\n",
       "    </tr>\n",
       "    <tr>\n",
       "      <th>24</th>\n",
       "      <td>2020-12-25</td>\n",
       "      <td>1718.0</td>\n",
       "      <td>0.0</td>\n",
       "      <td>303.0</td>\n",
       "      <td>294.0</td>\n",
       "      <td>28.0</td>\n",
       "      <td>0.0</td>\n",
       "      <td>12.0</td>\n",
       "      <td>7.0</td>\n",
       "    </tr>\n",
       "    <tr>\n",
       "      <th>25</th>\n",
       "      <td>2020-12-26</td>\n",
       "      <td>1137.0</td>\n",
       "      <td>0.0</td>\n",
       "      <td>345.0</td>\n",
       "      <td>0.0</td>\n",
       "      <td>31.0</td>\n",
       "      <td>0.0</td>\n",
       "      <td>21.0</td>\n",
       "      <td>0.0</td>\n",
       "    </tr>\n",
       "    <tr>\n",
       "      <th>26</th>\n",
       "      <td>2020-12-27</td>\n",
       "      <td>1008.0</td>\n",
       "      <td>375.0</td>\n",
       "      <td>0.0</td>\n",
       "      <td>0.0</td>\n",
       "      <td>22.0</td>\n",
       "      <td>26.0</td>\n",
       "      <td>0.0</td>\n",
       "      <td>0.0</td>\n",
       "    </tr>\n",
       "    <tr>\n",
       "      <th>27</th>\n",
       "      <td>2020-12-28</td>\n",
       "      <td>1572.0</td>\n",
       "      <td>605.0</td>\n",
       "      <td>0.0</td>\n",
       "      <td>0.0</td>\n",
       "      <td>23.0</td>\n",
       "      <td>16.0</td>\n",
       "      <td>0.0</td>\n",
       "      <td>0.0</td>\n",
       "    </tr>\n",
       "  </tbody>\n",
       "</table>\n",
       "</div>"
      ],
      "text/plain": [
       "categoryname    scheduletodate Đăng ký xe máy                                \\\n",
       "stt_after_3_day                        ontime out_of_range paid_after_3_day   \n",
       "0                   2020-12-01         1146.0          0.0            207.0   \n",
       "1                   2020-12-02          833.0          0.0            153.0   \n",
       "2                   2020-12-03          848.0          0.0            155.0   \n",
       "3                   2020-12-04          853.0          0.0            124.0   \n",
       "4                   2020-12-05         1506.0          0.0            279.0   \n",
       "5                   2020-12-06         1028.0          0.0            220.0   \n",
       "6                   2020-12-07         1097.0          0.0            189.0   \n",
       "7                   2020-12-08          955.0          0.0            171.0   \n",
       "8                   2020-12-09          954.0          0.0            173.0   \n",
       "9                   2020-12-10         2384.0          0.0            421.0   \n",
       "10                  2020-12-11         1294.0          0.0            209.0   \n",
       "11                  2020-12-12         1658.0          0.0            329.0   \n",
       "12                  2020-12-13         1068.0          0.0            204.0   \n",
       "13                  2020-12-14         1083.0          0.0            218.0   \n",
       "14                  2020-12-15         3072.0          0.0            613.0   \n",
       "15                  2020-12-16         1533.0          0.0            293.0   \n",
       "16                  2020-12-17         1422.0          0.0            216.0   \n",
       "17                  2020-12-18         1270.0          0.0            240.0   \n",
       "18                  2020-12-19         1083.0          0.0            219.0   \n",
       "19                  2020-12-20         2123.0          0.0            509.0   \n",
       "20                  2020-12-21         1128.0          0.0            238.0   \n",
       "21                  2020-12-22         1126.0          0.0            218.0   \n",
       "22                  2020-12-23         1056.0          0.0            184.0   \n",
       "23                  2020-12-24          977.0          0.0            196.0   \n",
       "24                  2020-12-25         1718.0          0.0            303.0   \n",
       "25                  2020-12-26         1137.0          0.0            345.0   \n",
       "26                  2020-12-27         1008.0        375.0              0.0   \n",
       "27                  2020-12-28         1572.0        605.0              0.0   \n",
       "\n",
       "categoryname                   Đăng ký Ô tô                                \\\n",
       "stt_after_3_day still_over_due       ontime out_of_range paid_after_3_day   \n",
       "0                        151.0         19.0          0.0              9.0   \n",
       "1                        139.0         28.0          0.0             10.0   \n",
       "2                        148.0         23.0          0.0              8.0   \n",
       "3                        136.0         24.0          0.0             12.0   \n",
       "4                        233.0         35.0          0.0             10.0   \n",
       "5                        154.0         29.0          0.0             15.0   \n",
       "6                        131.0         29.0          0.0             12.0   \n",
       "7                        123.0         26.0          0.0             15.0   \n",
       "8                        127.0         23.0          0.0             12.0   \n",
       "9                        337.0         20.0          0.0              8.0   \n",
       "10                       177.0         27.0          0.0              8.0   \n",
       "11                       228.0         30.0          0.0             18.0   \n",
       "12                       135.0         33.0          0.0             11.0   \n",
       "13                       150.0         24.0          0.0              9.0   \n",
       "14                       471.0         35.0          0.0             10.0   \n",
       "15                       213.0         21.0          0.0              9.0   \n",
       "16                       219.0         27.0          0.0             16.0   \n",
       "17                       192.0         18.0          0.0              4.0   \n",
       "18                       161.0         36.0          0.0             11.0   \n",
       "19                       346.0         20.0          0.0             16.0   \n",
       "20                       161.0         24.0          0.0             15.0   \n",
       "21                       198.0         29.0          0.0             21.0   \n",
       "22                       172.0         30.0          0.0              7.0   \n",
       "23                       165.0         26.0          0.0             13.0   \n",
       "24                       294.0         28.0          0.0             12.0   \n",
       "25                         0.0         31.0          0.0             21.0   \n",
       "26                         0.0         22.0         26.0              0.0   \n",
       "27                         0.0         23.0         16.0              0.0   \n",
       "\n",
       "categoryname                    \n",
       "stt_after_3_day still_over_due  \n",
       "0                          8.0  \n",
       "1                          8.0  \n",
       "2                          2.0  \n",
       "3                          3.0  \n",
       "4                         11.0  \n",
       "5                          6.0  \n",
       "6                          5.0  \n",
       "7                          6.0  \n",
       "8                         11.0  \n",
       "9                         17.0  \n",
       "10                         9.0  \n",
       "11                         9.0  \n",
       "12                        11.0  \n",
       "13                         8.0  \n",
       "14                         9.0  \n",
       "15                         9.0  \n",
       "16                         7.0  \n",
       "17                        16.0  \n",
       "18                         9.0  \n",
       "19                         8.0  \n",
       "20                         4.0  \n",
       "21                         4.0  \n",
       "22                         7.0  \n",
       "23                         7.0  \n",
       "24                         7.0  \n",
       "25                         0.0  \n",
       "26                         0.0  \n",
       "27                         0.0  "
      ]
     },
     "execution_count": 38,
     "metadata": {},
     "output_type": "execute_result"
    }
   ],
   "source": [
    "ontime_schedule_3"
   ]
  },
  {
   "cell_type": "code",
   "execution_count": 39,
   "metadata": {},
   "outputs": [],
   "source": [
    "# scheduletodate, package_type, cat\n",
    "# scheduletodate, category\n",
    "ontime_schedule_4 = ontime_spdk.pivot_table(index = ['package_type','scheduletodate'], columns= ['categoryname', 'stt_after_3_day'], values='pawnid', aggfunc='nunique').reset_index()\n",
    "ontime_schedule_4_last_month = ontime_spdk_last_month.pivot_table(index = ['package_type','scheduletodate'], columns= ['categoryname', 'stt_after_3_day'], values='pawnid', aggfunc='nunique').reset_index()\n",
    "ontime_schedule_4 = ontime_schedule_4.fillna(0)\n",
    "ontime_schedule_4_last_month = ontime_schedule_4_last_month.fillna(0)"
   ]
  },
  {
   "cell_type": "code",
   "execution_count": 40,
   "metadata": {},
   "outputs": [],
   "source": [
    "ontime_schedule_4_vaynhanh = ontime_schedule_4[ontime_schedule_4['package_type'] == 'Vay nhanh']"
   ]
  },
  {
   "cell_type": "code",
   "execution_count": 41,
   "metadata": {},
   "outputs": [],
   "source": [
    "ontime_schedule_4_vaythuong = ontime_schedule_4[ontime_schedule_4['package_type'] != 'Vay nhanh']"
   ]
  },
  {
   "cell_type": "code",
   "execution_count": 42,
   "metadata": {},
   "outputs": [],
   "source": [
    "ontime_schedule_4_vaynhanh_last_month = ontime_schedule_4_last_month[ontime_schedule_4_last_month['package_type'] == 'Vay nhanh']"
   ]
  },
  {
   "cell_type": "code",
   "execution_count": 43,
   "metadata": {},
   "outputs": [],
   "source": [
    "ontime_schedule_4_vaythuong_last_month = ontime_schedule_4_last_month[ontime_schedule_4_last_month['package_type'] != 'Vay nhanh']"
   ]
  },
  {
   "cell_type": "code",
   "execution_count": null,
   "metadata": {},
   "outputs": [],
   "source": []
  },
  {
   "cell_type": "code",
   "execution_count": 44,
   "metadata": {},
   "outputs": [],
   "source": [
    "# categoryname, scheduletodate, day in month\n",
    "ontime_spdk['day_in_month_sheduletodate'] = ontime_spdk['scheduletodate'].astype('datetime64[ns]').dt.day\n",
    "ontime_spdk_last_month['day_in_month_sheduletodate'] = ontime_spdk_last_month['scheduletodate'].astype('datetime64[ns]').dt.day\n",
    "ontime_by_day_category = ontime_spdk.pivot_table(index = 'day_in_month_sheduletodate', columns=['categoryname','pmt_stt'], values='pawnid', aggfunc='count').reset_index()\n",
    "ontime_by_day_category = ontime_by_day_category.fillna(0)\n",
    "ontime_by_day_category_last_month = ontime_spdk_last_month.pivot_table(index = 'day_in_month_sheduletodate', columns=['categoryname','pmt_stt'], values='pawnid', aggfunc='count').reset_index()\n",
    "ontime_by_day_category_last_month = ontime_by_day_category_last_month.fillna(0)"
   ]
  },
  {
   "cell_type": "code",
   "execution_count": 45,
   "metadata": {},
   "outputs": [],
   "source": [
    "pmt_3days_by_day_category = ontime_spdk.pivot_table(index = 'day_in_month_sheduletodate', columns=['categoryname','stt_after_3_day'], values='pawnid', aggfunc='count').reset_index()\n",
    "pmt_3days_by_day_category = ontime_by_day_category.fillna(0)\n",
    "pmt_3days_by_day_category_last_month = ontime_spdk_last_month.pivot_table(index = 'day_in_month_sheduletodate', columns=['categoryname','stt_after_3_day'], values='pawnid', aggfunc='count').reset_index()\n",
    "pmt_3days_by_day_category_last_month = ontime_by_day_category_last_month.fillna(0)"
   ]
  },
  {
   "cell_type": "code",
   "execution_count": 46,
   "metadata": {},
   "outputs": [],
   "source": [
    "pmt_3days_by_day_cate = ontime_spdk.pivot_table(index = 'day_in_month_sheduletodate', columns=['categoryname','stt_after_3_day'], values='pawnid', aggfunc='count').reset_index()"
   ]
  },
  {
   "cell_type": "code",
   "execution_count": 47,
   "metadata": {},
   "outputs": [],
   "source": [
    "pmt_3days_by_day_cate = pmt_3days_by_day_cate.fillna(0)\n",
    "pmt_3days_by_day_cate_last_month = ontime_spdk_last_month.pivot_table(index = 'day_in_month_sheduletodate', columns=['categoryname','stt_after_3_day'], values='pawnid', aggfunc='count').reset_index()\n",
    "pmt_3days_by_day_cate_last_month = pmt_3days_by_day_cate_last_month.fillna(0)"
   ]
  },
  {
   "cell_type": "code",
   "execution_count": 48,
   "metadata": {},
   "outputs": [],
   "source": [
    "# category, scheduletodate, area\n",
    "ontime_schedule_area_motortitle = ontime_dkxm_this_month.pivot_table(index = 'scheduletodate', columns=['khu_vuc','pmt_stt'], values='pawnid', aggfunc='count').reset_index()\n",
    "ontime_schedule_area_motortitle_last_month = ontime_dkxm_last_month.pivot_table(index = 'scheduletodate', columns=['khu_vuc','pmt_stt'], values='pawnid', aggfunc='count').reset_index()\n",
    "ontime_schedule_area_cartitle = ontime_dkot_this_month.pivot_table(index = 'scheduletodate', columns=['khu_vuc','pmt_stt'], values='pawnid', aggfunc='count').reset_index()\n",
    "ontime_schedule_area_cartitle_last_month = ontime_dkot_last_month.pivot_table(index = 'scheduletodate', columns=['khu_vuc','pmt_stt'], values='pawnid', aggfunc='count').reset_index()"
   ]
  },
  {
   "cell_type": "code",
   "execution_count": 49,
   "metadata": {},
   "outputs": [],
   "source": [
    "ontime_schedule_area_motortitle = ontime_schedule_area_motortitle.fillna(0)\n",
    "ontime_schedule_area_motortitle_last_month = ontime_schedule_area_motortitle_last_month.fillna(0)\n",
    "ontime_schedule_area_cartitle = ontime_schedule_area_cartitle.fillna(0)\n",
    "ontime_schedule_area_cartitle_last_month = ontime_schedule_area_cartitle_last_month.fillna(0)"
   ]
  },
  {
   "cell_type": "code",
   "execution_count": 50,
   "metadata": {},
   "outputs": [],
   "source": [
    "# category, scheduletodate, area, package_type\n",
    "ontime_schedule_area_motortitle_package = ontime_dkxm_this_month.pivot_table(index = ['package_type','scheduletodate'], columns=['khu_vuc','pmt_stt'], values='pawnid', aggfunc='count').reset_index()\n",
    "ontime_schedule_area_motortitle_package_last_month = ontime_dkxm_last_month.pivot_table(index =  ['package_type','scheduletodate'], columns=['khu_vuc','pmt_stt'], values='pawnid', aggfunc='count').reset_index()\n",
    "ontime_schedule_area_cartitle_package = ontime_dkot_this_month.pivot_table(index =  ['package_type','scheduletodate'], columns=['khu_vuc','pmt_stt'], values='pawnid', aggfunc='count').reset_index()\n",
    "ontime_schedule_area_cartitle_package_last_month = ontime_dkot_last_month.pivot_table(index =  ['package_type','scheduletodate'], columns=['khu_vuc','pmt_stt'], values='pawnid', aggfunc='count').reset_index()\n",
    "ontime_schedule_area_motortitle_package = ontime_schedule_area_motortitle_package.fillna(0)\n",
    "ontime_schedule_area_motortitle_package_last_month = ontime_schedule_area_motortitle_package_last_month.fillna(0)\n",
    "ontime_schedule_area_cartitle_package = ontime_schedule_area_cartitle_package.fillna(0)\n",
    "ontime_schedule_area_cartitle_package_last_month = ontime_schedule_area_cartitle_package_last_month.fillna(0)"
   ]
  },
  {
   "cell_type": "code",
   "execution_count": 51,
   "metadata": {},
   "outputs": [],
   "source": [
    "vn_ontime_schedule_area_motortitle_package = ontime_schedule_area_motortitle_package[ontime_schedule_area_motortitle_package['package_type']=='Vay nhanh']\n",
    "vt_ontime_schedule_area_motortitle_package = ontime_schedule_area_motortitle_package[ontime_schedule_area_motortitle_package['package_type']=='Vay thường']\n",
    "\n",
    "vn_ontime_schedule_area_motortitle_package_last_month = ontime_schedule_area_motortitle_package_last_month[ontime_schedule_area_motortitle_package_last_month['package_type']=='Vay nhanh']\n",
    "vt_ontime_schedule_area_motortitle_package_last_month = ontime_schedule_area_motortitle_package_last_month[ontime_schedule_area_motortitle_package_last_month['package_type']=='Vay thường']\n",
    "\n",
    "vn_ontime_schedule_area_cartitle_package = ontime_schedule_area_cartitle_package[ontime_schedule_area_cartitle_package['package_type']=='Vay nhanh']\n",
    "vt_ontime_schedule_area_cartitle_package = ontime_schedule_area_cartitle_package[ontime_schedule_area_cartitle_package['package_type']=='Vay thường']\n",
    "\n",
    "vn_ontime_schedule_area_cartitle_package_last_month = ontime_schedule_area_cartitle_package_last_month[ontime_schedule_area_cartitle_package_last_month['package_type']=='Vay nhanh']\n",
    "vt_ontime_schedule_area_cartitle_package_last_month = ontime_schedule_area_cartitle_package_last_month[ontime_schedule_area_cartitle_package_last_month['package_type']=='Vay thường']"
   ]
  },
  {
   "cell_type": "code",
   "execution_count": 52,
   "metadata": {},
   "outputs": [],
   "source": [
    "# category, scheduletodate, area, package"
   ]
  },
  {
   "cell_type": "code",
   "execution_count": 53,
   "metadata": {},
   "outputs": [],
   "source": [
    "# ontime_brr_ym_overview_motor_title = ontime_dkxm_this_month.pivot_table(index = 'brr_ym', columns='stt_after_3_day', values='pawnid', aggfunc='nunique').reset_index()\n",
    "# ontime_brr_ym_overview_motor_title = ontime_brr_ym_overview_motor_title.fillna(0)\n",
    "# ontime_brr_ym_overview_motor_title['all'] = ontime_brr_ym_overview_motor_title['ontime']+ontime_brr_ym_overview_motor_title['paid_after_3_day']\n",
    "# ontime_brr_ym_overview_motor_title['ontime_rate'] = ontime_brr_ym_overview_motor_title['ontime']/ontime_brr_ym_overview_motor_title['all']\n",
    "# ontime_brr_ym_overview_motor_title['paid_within_3_days_rate'] = (ontime_brr_ym_overview_motor_title['ontime']+ontime_brr_ym_overview_motor_title['paid_after_3_day'])/ontime_brr_ym_overview_motor_title['all']"
   ]
  },
  {
   "cell_type": "code",
   "execution_count": 54,
   "metadata": {},
   "outputs": [],
   "source": [
    "# brr year month, category - motor title\n",
    "ontime_brr_ym_overview_motor_title = ontime_dkxm_this_month.pivot_table(index = 'brr_ym', columns='stt_after_3_day', values='pawnid', aggfunc='nunique').reset_index()\n",
    "ontime_brr_ym_overview_motor_title = ontime_brr_ym_overview_motor_title.fillna(0)\n",
    "ontime_brr_ym_overview_motor_title['all'] = ontime_brr_ym_overview_motor_title['ontime']+ontime_brr_ym_overview_motor_title['paid_after_3_day']+ontime_brr_ym_overview_motor_title['still_over_due']\n",
    "ontime_brr_ym_overview_motor_title['ontime_rate'] = ontime_brr_ym_overview_motor_title['ontime']/ontime_brr_ym_overview_motor_title['all']\n",
    "ontime_brr_ym_overview_motor_title['paid_within_3_days_rate'] = (ontime_brr_ym_overview_motor_title['ontime']+ontime_brr_ym_overview_motor_title['paid_after_3_day'])/ontime_brr_ym_overview_motor_title['all']"
   ]
  },
  {
   "cell_type": "code",
   "execution_count": 55,
   "metadata": {},
   "outputs": [],
   "source": [
    "# # brr year month, category - car title\n",
    "# ontime_brr_ym_overview_car_title = ontime_dkot_this_month.pivot_table(index = 'brr_ym', columns='stt_after_3_day', values='pawnid', aggfunc='nunique').reset_index()\n",
    "# ontime_brr_ym_overview_car_title = ontime_brr_ym_overview_car_title.fillna(0)\n",
    "# ontime_brr_ym_overview_car_title['all'] = ontime_brr_ym_overview_car_title['ontime']+ontime_brr_ym_overview_car_title['paid_after_3_day']\n",
    "# ontime_brr_ym_overview_car_title['ontime_rate'] = ontime_brr_ym_overview_car_title['ontime']/ontime_brr_ym_overview_car_title['all']\n",
    "# ontime_brr_ym_overview_car_title['paid_within_3_days_rate'] = (ontime_brr_ym_overview_car_title['ontime']+ontime_brr_ym_overview_car_title['paid_after_3_day'])/ontime_brr_ym_overview_car_title['all']"
   ]
  },
  {
   "cell_type": "code",
   "execution_count": 56,
   "metadata": {},
   "outputs": [],
   "source": [
    "# brr year month, category - car title\n",
    "ontime_brr_ym_overview_car_title = ontime_dkot_this_month.pivot_table(index = 'brr_ym', columns='stt_after_3_day', values='pawnid', aggfunc='nunique').reset_index()\n",
    "ontime_brr_ym_overview_car_title = ontime_brr_ym_overview_car_title.fillna(0)\n",
    "ontime_brr_ym_overview_car_title['all'] = ontime_brr_ym_overview_car_title['ontime']+ontime_brr_ym_overview_car_title['paid_after_3_day']+ontime_brr_ym_overview_car_title['still_over_due']\n",
    "ontime_brr_ym_overview_car_title['ontime_rate'] = ontime_brr_ym_overview_car_title['ontime']/ontime_brr_ym_overview_car_title['all']\n",
    "ontime_brr_ym_overview_car_title['paid_within_3_days_rate'] = (ontime_brr_ym_overview_car_title['ontime']+ontime_brr_ym_overview_car_title['paid_after_3_day'])/ontime_brr_ym_overview_car_title['all']"
   ]
  },
  {
   "cell_type": "code",
   "execution_count": 57,
   "metadata": {},
   "outputs": [],
   "source": [
    "# # brr year month, category - motor title last month\n",
    "# ontime_brr_ym_overview_motor_title_last_month = ontime_dkxm_last_month.pivot_table(index = 'brr_ym', columns='stt_after_3_day', values='pawnid', aggfunc='nunique').reset_index()\n",
    "# ontime_brr_ym_overview_motor_title_last_month = ontime_brr_ym_overview_motor_title_last_month.fillna(0)\n",
    "# ontime_brr_ym_overview_motor_title_last_month['all'] = ontime_brr_ym_overview_motor_title_last_month['ontime']+ontime_brr_ym_overview_motor_title_last_month['paid_after_3_day']\n",
    "# ontime_brr_ym_overview_motor_title_last_month['ontime_rate'] = ontime_brr_ym_overview_motor_title_last_month['ontime']/ontime_brr_ym_overview_motor_title_last_month['all']\n",
    "# ontime_brr_ym_overview_motor_title_last_month['paid_within_3_days_rate'] = (ontime_brr_ym_overview_motor_title_last_month['ontime']+ontime_brr_ym_overview_motor_title_last_month['paid_after_3_day'])/ontime_brr_ym_overview_motor_title_last_month['all']"
   ]
  },
  {
   "cell_type": "code",
   "execution_count": 58,
   "metadata": {},
   "outputs": [],
   "source": [
    "# brr year month, category - motor title last month\n",
    "ontime_brr_ym_overview_motor_title_last_month = ontime_dkxm_last_month.pivot_table(index = 'brr_ym', columns='stt_after_3_day', values='pawnid', aggfunc='nunique').reset_index()\n",
    "ontime_brr_ym_overview_motor_title_last_month = ontime_brr_ym_overview_motor_title_last_month.fillna(0)\n",
    "ontime_brr_ym_overview_motor_title_last_month['all'] = ontime_brr_ym_overview_motor_title_last_month['ontime']+ontime_brr_ym_overview_motor_title_last_month['paid_after_3_day']+ontime_brr_ym_overview_motor_title_last_month['still_over_due']\n",
    "ontime_brr_ym_overview_motor_title_last_month['ontime_rate'] = ontime_brr_ym_overview_motor_title_last_month['ontime']/ontime_brr_ym_overview_motor_title_last_month['all']\n",
    "ontime_brr_ym_overview_motor_title_last_month['paid_within_3_days_rate'] = (ontime_brr_ym_overview_motor_title_last_month['ontime']+ontime_brr_ym_overview_motor_title_last_month['paid_after_3_day'])/ontime_brr_ym_overview_motor_title_last_month['all']"
   ]
  },
  {
   "cell_type": "code",
   "execution_count": 59,
   "metadata": {},
   "outputs": [],
   "source": [
    "# # brr year month, category - car title last month\n",
    "# ontime_brr_ym_overview_car_title_last_month = ontime_dkot_last_month.pivot_table(index = 'brr_ym', columns='stt_after_3_day', values='pawnid', aggfunc='nunique').reset_index()\n",
    "# ontime_brr_ym_overview_car_title_last_month = ontime_brr_ym_overview_car_title_last_month.fillna(0)\n",
    "# ontime_brr_ym_overview_car_title_last_month['all'] = ontime_brr_ym_overview_car_title_last_month['ontime']+ontime_brr_ym_overview_car_title_last_month['paid_after_3_day']\n",
    "# ontime_brr_ym_overview_car_title_last_month['ontime_rate'] = ontime_brr_ym_overview_car_title_last_month['ontime']/ontime_brr_ym_overview_car_title_last_month['all']\n",
    "# ontime_brr_ym_overview_car_title_last_month['paid_within_3_days_rate'] = (ontime_brr_ym_overview_car_title_last_month['ontime']+ontime_brr_ym_overview_car_title_last_month['paid_after_3_day'])/ontime_brr_ym_overview_car_title_last_month['all']"
   ]
  },
  {
   "cell_type": "code",
   "execution_count": 60,
   "metadata": {},
   "outputs": [],
   "source": [
    "# brr year month, category - car title last month\n",
    "ontime_brr_ym_overview_car_title_last_month = ontime_dkot_last_month.pivot_table(index = 'brr_ym', columns='stt_after_3_day', values='pawnid', aggfunc='nunique').reset_index()\n",
    "ontime_brr_ym_overview_car_title_last_month = ontime_brr_ym_overview_car_title_last_month.fillna(0)\n",
    "ontime_brr_ym_overview_car_title_last_month['all'] = ontime_brr_ym_overview_car_title_last_month['ontime']+ontime_brr_ym_overview_car_title_last_month['paid_after_3_day']+ontime_brr_ym_overview_car_title_last_month['still_over_due']\n",
    "ontime_brr_ym_overview_car_title_last_month['ontime_rate'] = ontime_brr_ym_overview_car_title_last_month['ontime']/ontime_brr_ym_overview_car_title_last_month['all']\n",
    "ontime_brr_ym_overview_car_title_last_month['paid_within_3_days_rate'] = (ontime_brr_ym_overview_car_title_last_month['ontime']+ontime_brr_ym_overview_car_title_last_month['paid_after_3_day'])/ontime_brr_ym_overview_car_title_last_month['all']"
   ]
  },
  {
   "cell_type": "code",
   "execution_count": 61,
   "metadata": {},
   "outputs": [],
   "source": [
    "#  brr_ym, category, package\n",
    "ontime_category_brr_ym_package_motor_title = ontime_dkxm_this_month.pivot_table(index='brr_ym', columns=['package_type', 'pmt_stt'], values ='pawnid', aggfunc ='nunique').reset_index()\n",
    "ontime_category_brr_ym_package_motor_title = ontime_category_brr_ym_package_motor_title.fillna(0)\n",
    "ontime_category_brr_ym_package_car_title = ontime_dkot_this_month.pivot_table(index='brr_ym', columns=['package_type', 'pmt_stt'], values ='pawnid', aggfunc ='nunique').reset_index()\n",
    "ontime_category_brr_ym_package_car_title = ontime_category_brr_ym_package_car_title.fillna(0)"
   ]
  },
  {
   "cell_type": "code",
   "execution_count": 62,
   "metadata": {},
   "outputs": [],
   "source": [
    "ontime_category_brr_ym_package_motor_title_last_month = ontime_dkxm_last_month.pivot_table(index='brr_ym', columns=['package_type', 'pmt_stt'], values ='pawnid', aggfunc ='nunique').reset_index()\n",
    "ontime_category_brr_ym_package_motor_title_last_month = ontime_category_brr_ym_package_motor_title_last_month.fillna(0)\n",
    "ontime_category_brr_ym_package_car_title_last_month = ontime_dkot_last_month.pivot_table(index='brr_ym', columns=['package_type', 'pmt_stt'], values ='pawnid', aggfunc ='nunique').reset_index()\n",
    "ontime_category_brr_ym_package_car_title_last_month = ontime_category_brr_ym_package_car_title_last_month.fillna(0)"
   ]
  },
  {
   "cell_type": "code",
   "execution_count": 63,
   "metadata": {},
   "outputs": [],
   "source": [
    "# # category, package, money range\n",
    "# ontime_money_range_package = ontime_spdk.pivot_table(index = ['categoryname','package_type','package_money_range'], columns= 'stt_after_3_day', values='pawnid',aggfunc ='nunique').reset_index()\n",
    "# ontime_money_range_package = ontime_money_range_package.fillna(0)\n",
    "# ontime_money_range_package['all'] = ontime_money_range_package['ontime']+ontime_money_range_package['paid_after_3_day']\n",
    "# ontime_money_range_package['ontime_rate'] = ontime_money_range_package['ontime']/ontime_money_range_package['all']\n",
    "# ontime_money_range_package['paid_within_3_days_rate'] = (ontime_money_range_package['ontime']+ontime_money_range_package['paid_after_3_day'])/ontime_money_range_package['all']"
   ]
  },
  {
   "cell_type": "code",
   "execution_count": 64,
   "metadata": {},
   "outputs": [],
   "source": [
    "# category, package, money range\n",
    "ontime_money_range_package = ontime_spdk.pivot_table(index = ['categoryname','package_type','package_money_range'], columns= 'stt_after_3_day', values='pawnid',aggfunc ='nunique').reset_index()\n",
    "ontime_money_range_package = ontime_money_range_package.fillna(0)\n",
    "ontime_money_range_package['all'] = ontime_money_range_package['ontime']+ontime_money_range_package['paid_after_3_day']+ontime_money_range_package['still_over_due']\n",
    "ontime_money_range_package['ontime_rate'] = ontime_money_range_package['ontime']/ontime_money_range_package['all']\n",
    "ontime_money_range_package['paid_within_3_days_rate'] = (ontime_money_range_package['ontime']+ontime_money_range_package['paid_after_3_day'])/ontime_money_range_package['all']"
   ]
  },
  {
   "cell_type": "code",
   "execution_count": 65,
   "metadata": {},
   "outputs": [],
   "source": [
    "# ontime_money_range_package_last_month = ontime_spdk_last_month.pivot_table(index = ['categoryname','package_type','package_money_range'], columns= 'stt_after_3_day', values='pawnid',aggfunc ='nunique').reset_index()\n",
    "# ontime_money_range_package_last_month = ontime_money_range_package_last_month.fillna(0)\n",
    "# ontime_money_range_package_last_month['all'] = ontime_money_range_package_last_month['ontime']+ontime_money_range_package_last_month['paid_after_3_day']\n",
    "# ontime_money_range_package_last_month['ontime_rate'] = ontime_money_range_package_last_month['ontime']/ontime_money_range_package_last_month['all']\n",
    "# ontime_money_range_package_last_month['paid_within_3_days_rate'] = (ontime_money_range_package_last_month['ontime']+ontime_money_range_package_last_month['paid_after_3_day'])/ontime_money_range_package_last_month['all']"
   ]
  },
  {
   "cell_type": "code",
   "execution_count": 66,
   "metadata": {},
   "outputs": [],
   "source": [
    "ontime_money_range_package_last_month = ontime_spdk_last_month.pivot_table(index = ['categoryname','package_type','package_money_range'], columns= 'stt_after_3_day', values='pawnid',aggfunc ='nunique').reset_index()\n",
    "ontime_money_range_package_last_month = ontime_money_range_package_last_month.fillna(0)\n",
    "ontime_money_range_package_last_month['all'] = ontime_money_range_package_last_month['ontime']+ontime_money_range_package_last_month['paid_after_3_day']+ontime_money_range_package_last_month['still_over_due']\n",
    "ontime_money_range_package_last_month['ontime_rate'] = ontime_money_range_package_last_month['ontime']/ontime_money_range_package_last_month['all']\n",
    "ontime_money_range_package_last_month['paid_within_3_days_rate'] = (ontime_money_range_package_last_month['ontime']+ontime_money_range_package_last_month['paid_after_3_day'])/ontime_money_range_package_last_month['all']"
   ]
  },
  {
   "cell_type": "code",
   "execution_count": 67,
   "metadata": {},
   "outputs": [],
   "source": [
    "# # category, package, time range\n",
    "# ontime_time_range_package = ontime_spdk.pivot_table(index = ['categoryname','package_type','package_time_range'], columns= 'stt_after_3_day', values='pawnid',aggfunc ='nunique').reset_index()\n",
    "# ontime_time_range_package = ontime_time_range_package.fillna(0)\n",
    "# ontime_time_range_package['all'] = ontime_time_range_package['ontime']+ontime_time_range_package['paid_after_3_day']\n",
    "# ontime_time_range_package['ontime_rate'] = ontime_time_range_package['ontime']/ontime_time_range_package['all']\n",
    "# ontime_time_range_package['paid_within_3_days_rate'] = (ontime_time_range_package['ontime']+ontime_time_range_package['paid_after_3_day'])/ontime_time_range_package['all']"
   ]
  },
  {
   "cell_type": "code",
   "execution_count": 68,
   "metadata": {},
   "outputs": [],
   "source": [
    "# category, package, time range\n",
    "ontime_time_range_package = ontime_spdk.pivot_table(index = ['categoryname','package_type','package_time_range'], columns= 'stt_after_3_day', values='pawnid',aggfunc ='nunique').reset_index()\n",
    "ontime_time_range_package = ontime_time_range_package.fillna(0)\n",
    "ontime_time_range_package['all'] = ontime_time_range_package['ontime']+ontime_time_range_package['paid_after_3_day']+ontime_time_range_package['still_over_due']\n",
    "ontime_time_range_package['ontime_rate'] = ontime_time_range_package['ontime']/ontime_time_range_package['all']\n",
    "ontime_time_range_package['paid_within_3_days_rate'] = (ontime_time_range_package['ontime']+ontime_time_range_package['paid_after_3_day'])/ontime_time_range_package['all']"
   ]
  },
  {
   "cell_type": "code",
   "execution_count": 69,
   "metadata": {},
   "outputs": [],
   "source": [
    "# ontime_time_range_package_last_month = ontime_spdk_last_month.pivot_table(index = ['categoryname','package_type','package_time_range'], columns= 'stt_after_3_day', values='pawnid',aggfunc ='nunique').reset_index()\n",
    "# ontime_time_range_package_last_month = ontime_time_range_package_last_month.fillna(0)\n",
    "# ontime_time_range_package_last_month['all'] = ontime_time_range_package_last_month['ontime']+ontime_time_range_package_last_month['paid_after_3_day']\n",
    "# ontime_time_range_package_last_month['ontime_rate'] = ontime_time_range_package_last_month['ontime']/ontime_time_range_package_last_month['all']\n",
    "# ontime_time_range_package_last_month['paid_within_3_days_rate'] = (ontime_time_range_package_last_month['ontime']+ontime_time_range_package_last_month['paid_after_3_day'])/ontime_time_range_package_last_month['all']"
   ]
  },
  {
   "cell_type": "code",
   "execution_count": 70,
   "metadata": {},
   "outputs": [],
   "source": [
    "ontime_time_range_package_last_month = ontime_spdk_last_month.pivot_table(index = ['categoryname','package_type','package_time_range'], columns= 'stt_after_3_day', values='pawnid',aggfunc ='nunique').reset_index()\n",
    "ontime_time_range_package_last_month = ontime_time_range_package_last_month.fillna(0)\n",
    "ontime_time_range_package_last_month['all'] = ontime_time_range_package_last_month['ontime']+ontime_time_range_package_last_month['paid_after_3_day']+ontime_time_range_package_last_month['still_over_due']\n",
    "ontime_time_range_package_last_month['ontime_rate'] = ontime_time_range_package_last_month['ontime']/ontime_time_range_package_last_month['all']\n",
    "ontime_time_range_package_last_month['paid_within_3_days_rate'] = (ontime_time_range_package_last_month['ontime']+ontime_time_range_package_last_month['paid_after_3_day'])/ontime_time_range_package_last_month['all']"
   ]
  },
  {
   "cell_type": "code",
   "execution_count": 71,
   "metadata": {},
   "outputs": [],
   "source": [
    "# category, package, money range, area\n",
    "ontime_money_range_package_area = ontime_spdk.pivot_table(index = ['categoryname','package_type','package_money_range'], columns= ['khu_vuc','pmt_stt'], values='pawnid',aggfunc ='nunique').reset_index()\n",
    "ontime_money_range_package_area = ontime_money_range_package_area.fillna(0)"
   ]
  },
  {
   "cell_type": "code",
   "execution_count": 72,
   "metadata": {},
   "outputs": [],
   "source": [
    "ontime_money_range_package_area_last_month = ontime_spdk_last_month.pivot_table(index = ['categoryname','package_type','package_money_range'], columns= ['khu_vuc','pmt_stt'], values='pawnid',aggfunc ='nunique').reset_index()\n",
    "ontime_money_range_package_area_last_month = ontime_money_range_package_area_last_month.fillna(0)"
   ]
  },
  {
   "cell_type": "code",
   "execution_count": 73,
   "metadata": {},
   "outputs": [],
   "source": [
    "# category, package, time range, area\n",
    "ontime_time_range_package_area = ontime_spdk.pivot_table(index = ['categoryname','package_type','package_time_range'], columns= ['khu_vuc','pmt_stt'], values='pawnid',aggfunc ='nunique').reset_index()\n",
    "ontime_time_range_package_area = ontime_time_range_package_area.fillna(0)\n",
    "ontime_time_range_package_area_last_month = ontime_spdk_last_month.pivot_table(index = ['categoryname','package_type','package_money_range'], columns= ['khu_vuc','pmt_stt'], values='pawnid',aggfunc ='nunique').reset_index()\n",
    "ontime_time_range_package_area_last_month = ontime_time_range_package_area_last_month.fillna(0)"
   ]
  },
  {
   "cell_type": "code",
   "execution_count": 74,
   "metadata": {},
   "outputs": [],
   "source": [
    "#  category, money range, time range\n",
    "ontime_money_time_range = ontime_spdk.pivot_table(index = ['categoryname','package_type','package_money_range'], columns=['package_time_range','pmt_stt'], values='pawnid',aggfunc ='nunique').reset_index()\n",
    "ontime_money_time_range = ontime_money_time_range.fillna(0)\n",
    "\n",
    "ontime_money_time_range_last_month = ontime_spdk_last_month.pivot_table(index = ['categoryname','package_type','package_money_range'], columns=['package_time_range','pmt_stt'], values='pawnid',aggfunc ='nunique').reset_index()\n",
    "ontime_money_time_range_last_month = ontime_money_time_range_last_month.fillna(0)"
   ]
  },
  {
   "cell_type": "code",
   "execution_count": 75,
   "metadata": {},
   "outputs": [],
   "source": [
    "# # custype\n",
    "# ontime_cus_type_overview = ontime_spdk.pivot_table(index =  'cus_type', columns='stt_after_3_day', values='pawnid', aggfunc='count').reset_index()\n",
    "# ontime_cus_type_overview_last_month = ontime_spdk_last_month.pivot_table(index =  'cus_type', columns='stt_after_3_day', values='pawnid', aggfunc='count').reset_index()\n",
    "# ontime_cus_type_overview = ontime_cus_type_overview.fillna(0)\n",
    "# ontime_cus_type_overview_last_month = ontime_cus_type_overview_last_month.fillna(0)\n",
    "# ontime_cus_type_overview['all'] = ontime_cus_type_overview['ontime']+ontime_cus_type_overview['paid_after_3_day']\n",
    "# ontime_cus_type_overview['ontime_rate'] = ontime_cus_type_overview['ontime']/ontime_cus_type_overview['all']\n",
    "# ontime_cus_type_overview['paid_within_3days_rate'] = (ontime_cus_type_overview['ontime']+ontime_cus_type_overview['paid_after_3_day'])/ontime_cus_type_overview['all']\n",
    "# ontime_cus_type_overview_last_month['all'] = ontime_cus_type_overview_last_month['ontime']+ontime_cus_type_overview_last_month['paid_after_3_day']\n",
    "# ontime_cus_type_overview_last_month['ontime_rate'] = ontime_cus_type_overview_last_month['ontime']/ontime_cus_type_overview_last_month['all']\n",
    "# ontime_cus_type_overview_last_month['paid_within_3days_rate'] = (ontime_cus_type_overview_last_month['ontime']+ontime_cus_type_overview_last_month['paid_after_3_day'])/ontime_cus_type_overview_last_month['all']"
   ]
  },
  {
   "cell_type": "code",
   "execution_count": 76,
   "metadata": {},
   "outputs": [],
   "source": [
    "# custype\n",
    "ontime_cus_type_overview = ontime_spdk.pivot_table(index =  'cus_type', columns='stt_after_3_day', values='pawnid', aggfunc='count').reset_index()\n",
    "ontime_cus_type_overview_last_month = ontime_spdk_last_month.pivot_table(index =  'cus_type', columns='stt_after_3_day', values='pawnid', aggfunc='count').reset_index()\n",
    "ontime_cus_type_overview = ontime_cus_type_overview.fillna(0)\n",
    "ontime_cus_type_overview_last_month = ontime_cus_type_overview_last_month.fillna(0)\n",
    "ontime_cus_type_overview['all'] = ontime_cus_type_overview['ontime']+ontime_cus_type_overview['paid_after_3_day']+ontime_cus_type_overview['still_over_due']\n",
    "ontime_cus_type_overview['ontime_rate'] = ontime_cus_type_overview['ontime']/ontime_cus_type_overview['all']\n",
    "ontime_cus_type_overview['paid_within_3days_rate'] = (ontime_cus_type_overview['ontime']+ontime_cus_type_overview['paid_after_3_day'])/ontime_cus_type_overview['all']\n",
    "ontime_cus_type_overview_last_month['all'] = ontime_cus_type_overview_last_month['ontime']+ontime_cus_type_overview_last_month['paid_after_3_day']+ontime_cus_type_overview_last_month['still_over_due']\n",
    "ontime_cus_type_overview_last_month['ontime_rate'] = ontime_cus_type_overview_last_month['ontime']/ontime_cus_type_overview_last_month['all']\n",
    "ontime_cus_type_overview_last_month['paid_within_3days_rate'] = (ontime_cus_type_overview_last_month['ontime']+ontime_cus_type_overview_last_month['paid_after_3_day'])/ontime_cus_type_overview_last_month['all']"
   ]
  },
  {
   "cell_type": "code",
   "execution_count": 77,
   "metadata": {},
   "outputs": [],
   "source": [
    "# # customer type, categoryname\n",
    "# ontime_custype_category = ontime_spdk.pivot_table(index = ['categoryname', 'cus_type'], columns='stt_after_3_day', values='pawnid', aggfunc='count').reset_index()\n",
    "# ontime_custype_category = ontime_custype_category.fillna(0)\n",
    "# ontime_custype_category['all'] = ontime_custype_category['ontime']+ontime_custype_category['paid_after_3_day']\n",
    "# ontime_custype_category['ontime_rate'] = ontime_custype_category['ontime']/ontime_custype_category['all']\n",
    "# ontime_custype_category['paid_within_3days'] = (ontime_custype_category['ontime']+ontime_custype_category['paid_after_3_day'])/ontime_custype_category['all']\n",
    "\n",
    "# ontime_custype_category_last_month = ontime_spdk_last_month.pivot_table(index = ['categoryname', 'cus_type'], columns='stt_after_3_day', values='pawnid', aggfunc='count').reset_index()\n",
    "# ontime_custype_category_last_month = ontime_custype_category_last_month.fillna(0)\n",
    "# ontime_custype_category_last_month['all'] = ontime_custype_category_last_month['ontime']+ontime_custype_category_last_month['paid_after_3_day']\n",
    "# ontime_custype_category_last_month['ontime_rate'] = ontime_custype_category_last_month['ontime']/ontime_custype_category_last_month['all']\n",
    "# ontime_custype_category_last_month['paid_within_3days'] = (ontime_custype_category_last_month['ontime']+ontime_custype_category_last_month['paid_after_3_day'])/ontime_custype_category_last_month['all']"
   ]
  },
  {
   "cell_type": "code",
   "execution_count": 78,
   "metadata": {},
   "outputs": [],
   "source": [
    "# customer type, categoryname\n",
    "ontime_custype_category = ontime_spdk.pivot_table(index = ['categoryname', 'cus_type'], columns='stt_after_3_day', values='pawnid', aggfunc='count').reset_index()\n",
    "ontime_custype_category = ontime_custype_category.fillna(0)\n",
    "ontime_custype_category['all'] = ontime_custype_category['ontime']+ontime_custype_category['paid_after_3_day']+ontime_custype_category['still_over_due']\n",
    "ontime_custype_category['ontime_rate'] = ontime_custype_category['ontime']/ontime_custype_category['all']\n",
    "ontime_custype_category['paid_within_3days'] = (ontime_custype_category['ontime']+ontime_custype_category['paid_after_3_day'])/ontime_custype_category['all']\n",
    "\n",
    "ontime_custype_category_last_month = ontime_spdk_last_month.pivot_table(index = ['categoryname', 'cus_type'], columns='stt_after_3_day', values='pawnid', aggfunc='count').reset_index()\n",
    "ontime_custype_category_last_month = ontime_custype_category_last_month.fillna(0)\n",
    "ontime_custype_category_last_month['all'] = ontime_custype_category_last_month['ontime']+ontime_custype_category_last_month['paid_after_3_day']+ontime_custype_category_last_month['still_over_due']\n",
    "ontime_custype_category_last_month['ontime_rate'] = ontime_custype_category_last_month['ontime']/ontime_custype_category_last_month['all']\n",
    "ontime_custype_category_last_month['paid_within_3days'] = (ontime_custype_category_last_month['ontime']+ontime_custype_category_last_month['paid_after_3_day'])/ontime_custype_category_last_month['all']"
   ]
  },
  {
   "cell_type": "code",
   "execution_count": 79,
   "metadata": {},
   "outputs": [],
   "source": [
    "# customer type, categoryname, package\n",
    "ontime_custype_category_package = ontime_spdk.pivot_table(index = ['categoryname','package_type', 'cus_type'], columns='stt_after_3_day', values='pawnid', aggfunc='count').reset_index()\n",
    "ontime_custype_category_package = ontime_custype_category_package.fillna(0)\n",
    "ontime_custype_category_package['all'] = ontime_custype_category_package['ontime']+ontime_custype_category_package['paid_after_3_day']+ontime_custype_category_package['still_over_due']\n",
    "ontime_custype_category_package['ontime_rate'] = ontime_custype_category_package['ontime']/ontime_custype_category_package['all']\n",
    "ontime_custype_category_package['paid_within_3days'] = (ontime_custype_category_package['ontime']+ontime_custype_category_package['paid_after_3_day'])/ontime_custype_category_package['all']\n",
    "\n",
    "ontime_custype_category_package_last_month = ontime_spdk_last_month.pivot_table(index = ['categoryname','package_type', 'cus_type'], columns='stt_after_3_day', values='pawnid', aggfunc='count').reset_index()\n",
    "ontime_custype_category_package_last_month = ontime_custype_category_package_last_month.fillna(0)\n",
    "ontime_custype_category_package_last_month['all'] = ontime_custype_category_package_last_month['ontime']+ontime_custype_category_package_last_month['paid_after_3_day']+ontime_custype_category_package_last_month['still_over_due']\n",
    "ontime_custype_category_package_last_month['ontime_rate'] = ontime_custype_category_package_last_month['ontime']/ontime_custype_category_package_last_month['all']\n",
    "ontime_custype_category_package_last_month['paid_within_3days'] = (ontime_custype_category_package_last_month['ontime']+ontime_custype_category_package_last_month['paid_after_3_day'])/ontime_custype_category_package_last_month['all']"
   ]
  },
  {
   "cell_type": "code",
   "execution_count": 80,
   "metadata": {},
   "outputs": [],
   "source": [
    "# category, custype, area\n",
    "ontime_custype_category_area = ontime_spdk.pivot_table(index = ['categoryname','cus_type'], columns=['khu_vuc','pmt_stt'], values='pawnid', aggfunc='count').reset_index()\n",
    "ontime_custype_category_area = ontime_custype_category_area.fillna(0)\n",
    "\n",
    "ontime_custype_category_area_last_month = ontime_spdk_last_month.pivot_table(index = ['categoryname','cus_type'], columns=['khu_vuc', 'pmt_stt'], values='pawnid', aggfunc='count').reset_index()\n",
    "ontime_custype_category_area_last_month = ontime_custype_category_area_last_month.fillna(0)"
   ]
  },
  {
   "cell_type": "code",
   "execution_count": 81,
   "metadata": {},
   "outputs": [],
   "source": [
    "# category, custype, package\n",
    "ontime_custype_category_area_package = ontime_spdk.pivot_table(index = ['categoryname','cus_type', 'package_type'], columns='pmt_stt', values='pawnid', aggfunc='count').reset_index()\n",
    "ontime_custype_category_area_package = ontime_custype_category_area_package.fillna(0)\n",
    "\n",
    "ontime_custype_category_area_package_last_month = ontime_spdk_last_month.pivot_table(index = ['categoryname','cus_type', 'package_type'], columns= 'pmt_stt', values='pawnid', aggfunc='count').reset_index()\n",
    "ontime_custype_category_area_package_last_month = ontime_custype_category_area_package_last_month.fillna(0)"
   ]
  },
  {
   "cell_type": "code",
   "execution_count": 82,
   "metadata": {},
   "outputs": [],
   "source": [
    "ontime_custype_category_area_package['all'] =ontime_custype_category_area_package['ontime']+ontime_custype_category_area_package['overdue']\n",
    "ontime_custype_category_area_package['ontime_rate'] =ontime_custype_category_area_package['ontime']/ontime_custype_category_area_package['all']\n",
    "\n",
    "ontime_custype_category_area_package_last_month['all'] =ontime_custype_category_area_package_last_month['ontime']+ontime_custype_category_area_package_last_month['overdue']\n",
    "ontime_custype_category_area_package_last_month['ontime_rate'] =ontime_custype_category_area_package_last_month['ontime']/ontime_custype_category_area_package_last_month['all']"
   ]
  },
  {
   "cell_type": "code",
   "execution_count": 83,
   "metadata": {},
   "outputs": [],
   "source": [
    "# category, time measurement\n",
    "ontime_spdk['final_payment_last_month'] = np.where(ontime_spdk['scheduletodate'] == ontime_spdk['todate'], 'y', 'n')\n",
    "ontime_time_measurement = ontime_spdk.pivot_table(columns= ['final_payment_last_month','pmt_stt'], index = ['categoryname', 'khu_vuc'], values='pawnid', aggfunc='nunique')\n",
    "ontime_time_measurement = ontime_time_measurement.reset_index()\n",
    "ontime_time_measurement = ontime_time_measurement.fillna(0)\n",
    "\n",
    "ontime_spdk_last_month['final_payment_last_month'] = np.where(ontime_spdk_last_month['scheduletodate'] == ontime_spdk_last_month['todate'], 'y', 'n')\n",
    "ontime_time_measurement_last_month = ontime_spdk_last_month.pivot_table(columns= ['final_payment_last_month','pmt_stt'], index = ['categoryname', 'khu_vuc'], values='pawnid', aggfunc='nunique')\n",
    "ontime_time_measurement_last_month = ontime_time_measurement_last_month.reset_index()\n",
    "ontime_time_measurement_last_month = ontime_time_measurement_last_month.fillna(0)"
   ]
  },
  {
   "cell_type": "markdown",
   "metadata": {},
   "source": [
    "REMIND"
   ]
  },
  {
   "cell_type": "code",
   "execution_count": 84,
   "metadata": {},
   "outputs": [],
   "source": [
    "# motor title\n",
    "def remind_rate(fromdate, todate):\n",
    "    remind_str =  \"\"\"Declare @schedule_from date ='\"\"\"+fromdate+\"\"\"'\n",
    "                Declare @schedule_to date ='\"\"\"+todate+\"\"\"'\n",
    "select tab.*,cmt.*,DATEDIFF(day,cmtdate,ScheduleToDate) day_cmt_before_schedule,\n",
    "  case when cmtdate is null then N'1.no_cmt'\n",
    "  when DATEDIFF(day,cmtdate,ScheduleToDate)=0 then N'3.on_due_date'\n",
    "   when DATEDIFF(day,cmtdate,ScheduleToDate)<>0 then N'2.early_remind' end as cmt_type,\n",
    " case when PackageCode like '%NHANH%' then N'Vay nhanh' else N'Vay thường' end as package_type\n",
    " from ( select  pd.pawnid,po.tuoino dpd_yesterday,\n",
    " pa.PackageCode,pa.shopname, pa.shopcode,\n",
    " areaid,pd.scheduletodate,pd.principalmoney,pd.acc_sum,pd.paydate, pd.acc_prin_payment,paidmoney,\n",
    " pa.status,pa.FromDate,pa.ToDate,pa.closedate,liquid_dt,   \n",
    "  case  when (pd.paydate<=ScheduleToDate  and acc_prin_payment>=acc_sum) or CloseDate<=ScheduleToDate \n",
    "   then N'ontime' else N'overdue' end as pmt_stt  from pawnoverduedetail pd \n",
    "   left join pawnoverdue po on (po.pawnid=pd.pawnid and po.created=dateadd(day,-1,pd.scheduletodate))  \n",
    "   left join  (select pa1.*,shop.name shopname,shop.areaid from Pawn pa1 \n",
    "   left join ShopDetail shop on pa1.shopcode=shop.code )pa on pa.pawnid=pd.pawnid  \n",
    "   left join w_pawn_liquid_sale_f li on li.pawn_wid=pd.pawnid   \n",
    "where ((closedate is null and liquid_dt is null) or(ScheduleToDate<=CloseDate) or (scheduletodate<=liquid_dt))  \n",
    "and pa.STATUS not in (15,11,140) and pa.CategoryCode like N'%17%' and InterestMoney like N'%goc%' \n",
    "and pd.scheduletodate<=@schedule_to and pd.scheduletodate>=@schedule_from) tab\n",
    "  left join (select pawnid pawn_wid,CodeNo,Body,\n",
    "  case when [CommentType] = 1 then 'KH KNM'\n",
    "        when [CommentType] = 2 then N'SĐT Không ll được'\n",
    "        when [CommentType] = 3 then N'KH hẹn chuyển khoản'\n",
    "        when [CommentType] = 4 then N'KH hẹn thanh toán'\n",
    "        when [CommentType] = 5 then N'Người nghe báo sai số'\n",
    "        when [CommentType] = 6 then N'Kh chặn số'\n",
    "        when [CommentType] = 7 then N'KH báo thanh lý'\n",
    "        when [CommentType] = 9 then N'Khác'\n",
    "        when [CommentType] = 8 then 'Admin'\n",
    "        else N'Khác' end CommentType,cmtdate,CreatedDate cmt_dt from CommentContract \n",
    "  where PGD is not null and cmtdate>= dateadd(day,-6,@schedule_from) and cmtdate<=@schedule_to)cmt \n",
    "  on cmt.pawn_wid=tab.pawnid and cmt.cmtdate>= dateadd(day,-6,tab.scheduletodate) and cmt.cmtdate<= tab.ScheduleToDate\n",
    " where dpd_yesterday<=5 \"\"\"\n",
    "    remind_stats = pd.read_sql_query(remind_str,db)\n",
    "    remind_stats = remind_stats.merge(write_off_list, left_on='codeno', right_on='pawn_code',how = 'left')\n",
    "    remind_stats = remind_stats[remind_stats['pawn_code'].isnull()==True]\n",
    "    remind_stats = remind_stats.merge(shop_data, left_on='shopname', right_on = 'Tên PGD', how = 'left')\n",
    "    remind_stats['khu_vuc'] = np.where(remind_stats['Tỉnh/ Thành phố'] == 'Hà Nội', 'Hà Nội', np.where(remind_stats['Tỉnh/ Thành phố'] == 'TP. Hồ Chí Minh', 'TP. Hồ Chí Minh',np.where((remind_stats['Tỉnh/ Thành phố'] != 'Hà Nội') & (remind_stats['Vùng/Miền'] == 'Miền Bắc'), 'Tỉnh MB', np.where((remind_stats['Tỉnh/ Thành phố'] != 'TP. Hồ Chí Minh') & (remind_stats['Vùng/Miền'] == 'Miền Nam'), 'Tỉnh MN', 'Miền Trung'))))\n",
    "    return remind_stats"
   ]
  },
  {
   "cell_type": "code",
   "execution_count": null,
   "metadata": {},
   "outputs": [],
   "source": []
  },
  {
   "cell_type": "code",
   "execution_count": 85,
   "metadata": {},
   "outputs": [],
   "source": [
    "#  car title\n",
    "def remind_rate_cartitle(fromdate, todate):\n",
    "    remind_cartitle = \"\"\"Declare @schedule_from date ='\"\"\"+fromdate+\"\"\"'\n",
    "                Declare @schedule_to date ='\"\"\"+todate+\"\"\"'\n",
    "                select  tab.*,cmt.*,\n",
    "DATEDIFF(day,cmt.cmtdate,ScheduleToDate) day_cmt_before_schedule,\n",
    "case when cmtdate is null then N'1.no_cmt'\n",
    "when DATEDIFF(day,cmt.cmtdate,ScheduleToDate)=0 then N'3.on_due_date'\n",
    "when DATEDIFF(day,cmt.cmtdate,ScheduleToDate)<>0 then N'2.early_remind' end as cmt_type,\n",
    "case when PackageCode like '%NHANH%' then N'Vay nhanh' else N'Vay thường' end as package_type\n",
    "from ( select  pd.pawnid,po.tuoino dpd_yesterday,\n",
    "pa.PackageCode,pa.shopname, pa.shopcode,\n",
    "areaid,pd.scheduletodate,pd.paydate, pd.acc_prin_payment,\n",
    "pa.status,pa.FromDate,pa.ToDate,pa.closedate,liquid_dt,   \n",
    "case  when (pd.paydate<=ScheduleToDate  and acc_prin_payment>=acc_sum) or CloseDate<=ScheduleToDate \n",
    "then N'ontime' else N'overdue' end as pmt_stt, pd.type_cartitle\n",
    "from (select 'monthly_paid_origin' type_cartitle, podd.[PawnID],podd.[ScheduleToDate] ,podd.[ScheduleFromDate]\n",
    "      ,podd.[acc_prin_payment],podd.[paydate] ,podd.[InterestMoney], podd.acc_sum from [dwh].[dbo].[PawnOverDuedetail] podd\n",
    "\t  left join pawn pa on pa.pawnid = podd.pawnid\n",
    "\t  where InterestMoney like N'%goc%' and podd.scheduletodate<=@schedule_to and podd.scheduletodate>=@schedule_from\n",
    "\t  and pa.categorycode like '%15%'\n",
    "\t  union all\n",
    "\t  (select 'eop_paid_origin' type_cartitle, [PawnID]\n",
    "      ,[ScheduleToDate]\n",
    "      ,[ScheduleFromDate]\n",
    "      ,[acc_prin_payment]\n",
    "      ,[paydate]\n",
    "      ,[MoneyInterest] as [InterestMoney],\n",
    "\t  acc_sum\n",
    "  FROM [dwh].[dbo].[pawnCarOverDue]\n",
    "  where [MoneyInterest] like '%lai%' and scheduletodate<=@schedule_to and scheduletodate>=@schedule_from)) pd \n",
    "   left join pawnoverdue po on (po.pawnid=pd.pawnid and po.created=dateadd(day,-1,pd.scheduletodate))  \n",
    "   left join  (select pa1.*,shop.name shopname,shop.areaid from Pawn pa1 \n",
    "   left join ShopDetail shop on pa1.shopcode=shop.code )pa on pa.pawnid=pd.pawnid  \n",
    "   left join w_pawn_liquid_sale_f li on li.pawn_wid=pd.pawnid   \n",
    "where ((closedate is null and liquid_dt is null) or(ScheduleToDate<=CloseDate) or (scheduletodate<=liquid_dt))  \n",
    "and pa.STATUS not in (15,11,140) ) tab\n",
    "  left join (select pawnid pawn_wid,CodeNo,Body,case when [CommentType] = 1 then 'KH KNM'\n",
    "        when [CommentType] = 2 then N'SĐT Không ll được'\n",
    "        when [CommentType] = 3 then N'KH hẹn chuyển khoản'\n",
    "        when [CommentType] = 4 then N'KH hẹn thanh toán'\n",
    "        when [CommentType] = 5 then N'Người nghe báo sai số'\n",
    "        when [CommentType] = 6 then N'Kh chặn số'\n",
    "        when [CommentType] = 7 then N'KH báo thanh lý'\n",
    "        when [CommentType] = 9 then N'Khác'\n",
    "        when [CommentType] = 8 then 'Admin'\n",
    "        else N'Khác' end  CommentType,cmtdate,CreatedDate cmt_dt from CommentContract \n",
    "  where PGD is not null and cmtdate>= dateadd(day,-6,@schedule_from) and cmtdate<=@schedule_to)cmt \n",
    "  on cmt.pawn_wid=tab.pawnid and cmt.cmtdate>= dateadd(day,-6,tab.scheduletodate) and cmt.cmtdate<= tab.ScheduleToDate\n",
    " where dpd_yesterday<=5 \n",
    " order by tab.PawnID\"\"\"\n",
    "    remind_stats = pd.read_sql_query(remind_cartitle,db)\n",
    "    remind_stats = remind_stats.merge(write_off_list, left_on='codeno', right_on='pawn_code',how = 'left')\n",
    "    remind_stats = remind_stats[remind_stats['pawn_code'].isnull()==True]\n",
    "    remind_stats = remind_stats.merge(shop_data, left_on='shopname', right_on = 'Tên PGD', how = 'left')\n",
    "    remind_stats['khu_vuc'] = np.where(remind_stats['Tỉnh/ Thành phố'] == 'Hà Nội', 'Hà Nội', np.where(remind_stats['Tỉnh/ Thành phố'] == 'TP. Hồ Chí Minh', 'TP. Hồ Chí Minh',np.where((remind_stats['Tỉnh/ Thành phố'] != 'Hà Nội') & (remind_stats['Vùng/Miền'] == 'Miền Bắc'), 'Tỉnh MB', np.where((remind_stats['Tỉnh/ Thành phố'] != 'TP. Hồ Chí Minh') & (remind_stats['Vùng/Miền'] == 'Miền Nam'), 'Tỉnh MN', 'Miền Trung'))))\n",
    "    return remind_stats"
   ]
  },
  {
   "cell_type": "code",
   "execution_count": 86,
   "metadata": {},
   "outputs": [],
   "source": [
    "#  car title\n",
    "def remind_rate_cartitle(fromdate, todate):\n",
    "    remind_cartitle = \"\"\"Declare @schedule_from date ='\"\"\"+fromdate+\"\"\"'\n",
    "                Declare @schedule_to date ='\"\"\"+todate+\"\"\"'\n",
    "                select  tab.*,cmt.*,\n",
    "DATEDIFF(day,cmt.cmtdate,ScheduleToDate) day_cmt_before_schedule,\n",
    "case when cmtdate is null then N'1.no_cmt'\n",
    "when DATEDIFF(day,cmt.cmtdate,ScheduleToDate)=0 then N'3.on_due_date'\n",
    "when DATEDIFF(day,cmt.cmtdate,ScheduleToDate)<>0 then N'2.early_remind' end as cmt_type,\n",
    "case when PackageCode like '%NHANH%' then N'Vay nhanh' else N'Vay thường' end as package_type\n",
    "from ( select  pd.pawnid,po.tuoino dpd_yesterday,\n",
    "pa.PackageCode,pa.shopname, pa.shopcode,\n",
    "areaid,pd.scheduletodate,pd.paydate, pd.acc_prin_payment,\n",
    "pa.status,pa.FromDate,pa.ToDate,pa.closedate,liquid_dt,   \n",
    "case  when (pd.paydate<=ScheduleToDate  and acc_prin_payment>=acc_sum) or CloseDate<=ScheduleToDate \n",
    "then N'ontime' else N'overdue' end as pmt_stt, pd.type_cartitle\n",
    "from (select 'monthly_paid_origin' type_cartitle, podd.[PawnID],podd.[ScheduleToDate] ,podd.[ScheduleFromDate]\n",
    "      ,podd.[acc_prin_payment],podd.[paydate] ,podd.[InterestMoney], podd.acc_sum from [dwh].[dbo].[PawnOverDuedetail] podd\n",
    "\t  left join pawn pa on pa.pawnid = podd.pawnid\n",
    "\t  where InterestMoney like N'%goc%' and podd.scheduletodate<=@schedule_to and podd.scheduletodate>=@schedule_from\n",
    "\t  and pa.categorycode like '%15%'\n",
    "\t  union all\n",
    "\t  (select 'eop_paid_origin' type_cartitle, [PawnID]\n",
    "      ,[ScheduleToDate]\n",
    "      ,[ScheduleFromDate]\n",
    "      ,[acc_prin_payment]\n",
    "      ,[paydate]\n",
    "      ,[MoneyInterest] as [InterestMoney],\n",
    "\t  acc_sum\n",
    "  FROM [dwh].[dbo].[pawnCarOverDue]\n",
    "  where [MoneyInterest] like '%lai%' and scheduletodate<=@schedule_to and scheduletodate>=@schedule_from)) pd \n",
    "   left join pawnoverdue po on (po.pawnid=pd.pawnid and po.created=dateadd(day,-1,pd.scheduletodate))  \n",
    "   left join  (select pa1.*,shop.name shopname,shop.areaid from Pawn pa1 \n",
    "   left join ShopDetail shop on pa1.shopcode=shop.code )pa on pa.pawnid=pd.pawnid  \n",
    "   left join w_pawn_liquid_sale_f li on li.pawn_wid=pd.pawnid   \n",
    "where ((closedate is null and liquid_dt is null) or(ScheduleToDate<=CloseDate) or (scheduletodate<=liquid_dt))  \n",
    "and pa.STATUS not in (15,11,140) ) tab\n",
    "  left join (select pawnid pawn_wid,CodeNo,Body,case when [CommentType] = 1 then 'KH KNM'\n",
    "        when [CommentType] = 2 then N'SĐT Không ll được'\n",
    "        when [CommentType] = 3 then N'KH hẹn chuyển khoản'\n",
    "        when [CommentType] = 4 then N'KH hẹn thanh toán'\n",
    "        when [CommentType] = 5 then N'Người nghe báo sai số'\n",
    "        when [CommentType] = 6 then N'Kh chặn số'\n",
    "        when [CommentType] = 7 then N'KH báo thanh lý'\n",
    "        when [CommentType] = 9 then N'Khác'\n",
    "        when [CommentType] = 8 then 'Admin'\n",
    "        else N'Khác' end  CommentType,cmtdate,CreatedDate cmt_dt from CommentContract \n",
    "  where PGD is not null and cmtdate>= dateadd(day,-6,@schedule_from) and cmtdate<=@schedule_to)cmt \n",
    "  on cmt.pawn_wid=tab.pawnid and cmt.cmtdate>= dateadd(day,-6,tab.scheduletodate) and cmt.cmtdate<= tab.ScheduleToDate\n",
    " where dpd_yesterday<=5 \n",
    " order by tab.PawnID\"\"\"\n",
    "    remind_stats = pd.read_sql_query(remind_cartitle,db)\n",
    "    remind_stats = remind_stats.merge(write_off_list, left_on='codeno', right_on='pawn_code',how = 'left')\n",
    "    remind_stats = remind_stats[remind_stats['pawn_code'].isnull()==True]\n",
    "    remind_stats = remind_stats.merge(shop_data, left_on='shopname', right_on = 'Tên PGD', how = 'left')\n",
    "    remind_stats['khu_vuc'] = np.where(remind_stats['Tỉnh/ Thành phố'] == 'Hà Nội', 'Hà Nội', np.where(remind_stats['Tỉnh/ Thành phố'] == 'TP. Hồ Chí Minh', 'TP. Hồ Chí Minh',np.where((remind_stats['Tỉnh/ Thành phố'] != 'Hà Nội') & (remind_stats['Vùng/Miền'] == 'Miền Bắc'), 'Tỉnh MB', np.where((remind_stats['Tỉnh/ Thành phố'] != 'TP. Hồ Chí Minh') & (remind_stats['Vùng/Miền'] == 'Miền Nam'), 'Tỉnh MN', 'Miền Trung'))))\n",
    "    return remind_stats"
   ]
  },
  {
   "cell_type": "markdown",
   "metadata": {},
   "source": [
    "MOTOR TITLE"
   ]
  },
  {
   "cell_type": "code",
   "execution_count": 89,
   "metadata": {},
   "outputs": [],
   "source": [
    "remind_stats_motor_title = remind_rate(date_list[0][0],date_list[0][1])"
   ]
  },
  {
   "cell_type": "code",
   "execution_count": 90,
   "metadata": {},
   "outputs": [],
   "source": [
    "remind_stats_motor_title_last_month = remind_rate(date_list[1][0],date_list[1][1])"
   ]
  },
  {
   "cell_type": "code",
   "execution_count": 91,
   "metadata": {},
   "outputs": [],
   "source": [
    "#  categroy, area\n",
    "need_remind_motor_title_area = remind_stats_motor_title.groupby('khu_vuc').agg({'pawnid':'nunique'}).T.reset_index()\n",
    "need_remind_motor_title_area_last_month = remind_stats_motor_title_last_month.groupby('khu_vuc').agg({'pawnid':'nunique'}).T.reset_index()\n",
    "\n",
    "need_remind_motor_title_area = need_remind_motor_title_area[['index', 'Hà Nội', 'Tỉnh MB','TP. Hồ Chí Minh','Tỉnh MN','Miền Trung']]\n",
    "need_remind_motor_title_area_last_month = need_remind_motor_title_area_last_month[['index', 'Hà Nội', 'Tỉnh MB','TP. Hồ Chí Minh','Tỉnh MN','Miền Trung']]\n",
    "\n",
    "need_remind_motor_title_area.columns = ['cmt_type', 'Hà Nội', 'Tỉnh MB','TP. Hồ Chí Minh','Tỉnh MN','Miền Trung']\n",
    "need_remind_motor_title_area_last_month.columns = ['cmt_type', 'Hà Nội', 'Tỉnh MB','TP. Hồ Chí Minh','Tỉnh MN','Miền Trung']"
   ]
  },
  {
   "cell_type": "code",
   "execution_count": 92,
   "metadata": {},
   "outputs": [],
   "source": [
    "remind_motor_title_area =remind_stats_motor_title.pivot_table(columns= 'khu_vuc', index='cmt_type',values='pawnid', aggfunc='nunique').reset_index()\n",
    "remind_motor_title_area = remind_motor_title_area.fillna(0)\n",
    "remind_motor_title_area = remind_motor_title_area[['cmt_type', 'Hà Nội', 'Tỉnh MB','TP. Hồ Chí Minh','Tỉnh MN','Miền Trung']]\n",
    "remind_motor_title_area = remind_motor_title_area.append(need_remind_motor_title_area)\n",
    "\n",
    "remind_motor_title_area_last_month = remind_stats_motor_title_last_month.pivot_table(columns='khu_vuc', index='cmt_type',values='pawnid', aggfunc='nunique').reset_index()\n",
    "remind_motor_title_area_last_month = remind_motor_title_area_last_month.fillna(0)\n",
    "remind_motor_title_area_last_month = remind_motor_title_area_last_month[['cmt_type', 'Hà Nội', 'Tỉnh MB','TP. Hồ Chí Minh','Tỉnh MN','Miền Trung']]\n",
    "remind_motor_title_area_last_month = remind_motor_title_area_last_month.append(need_remind_motor_title_area_last_month)"
   ]
  },
  {
   "cell_type": "code",
   "execution_count": 93,
   "metadata": {},
   "outputs": [],
   "source": [
    "# shop, motor title\n",
    "need_remind_motor_title_shop = remind_stats_motor_title.groupby('shopname').agg({'pawnid':'nunique'}).reset_index()\n",
    "need_remind_motor_title_shop_last_month = remind_stats_motor_title_last_month.groupby('shopname').agg({'pawnid':'nunique'}).reset_index()\n",
    "\n",
    "remind_motor_title_shop = remind_stats_motor_title.pivot_table(index= 'shopname', columns='cmt_type',values='pawnid', aggfunc='nunique').reset_index()\n",
    "remind_motor_title_shop = remind_motor_title_shop.fillna(0)\n",
    "remind_motor_title_shop = remind_motor_title_shop.merge(need_remind_motor_title_shop, on = 'shopname', how = 'left')\n",
    "\n",
    "remind_motor_title_shop_last_month = remind_stats_motor_title_last_month.pivot_table(index= 'shopname', columns='cmt_type',values='pawnid', aggfunc='nunique').reset_index()\n",
    "remind_motor_title_shop_last_month = remind_motor_title_shop_last_month.fillna(0)\n",
    "remind_motor_title_shop_last_month = remind_motor_title_shop_last_month.merge(need_remind_motor_title_shop_last_month, on = 'shopname', how = 'left')\n",
    "\n",
    "remind_motor_title_shop['early_remind_rate'] = remind_motor_title_shop['2.early_remind']/remind_motor_title_shop['pawnid']\n",
    "remind_motor_title_shop['ondue_remind_rate'] = remind_motor_title_shop['3.on_due_date']/remind_motor_title_shop['pawnid']\n",
    "\n",
    "remind_motor_title_shop_last_month['early_remind_rate'] = remind_motor_title_shop_last_month['2.early_remind']/remind_motor_title_shop_last_month['pawnid']\n",
    "remind_motor_title_shop_last_month['ondue_remind_rate'] = remind_motor_title_shop_last_month['3.on_due_date']/remind_motor_title_shop_last_month['pawnid']"
   ]
  },
  {
   "cell_type": "code",
   "execution_count": 94,
   "metadata": {},
   "outputs": [],
   "source": [
    "# asm\n",
    "need_remind_motor_title_asm = remind_stats_motor_title.groupby('QLKV').agg({'pawnid':'nunique'}).reset_index()\n",
    "need_remind_motor_title_asm_last_month = remind_stats_motor_title_last_month.groupby('QLKV').agg({'pawnid':'nunique'}).reset_index()\n",
    "\n",
    "remind_motor_title_asm = remind_stats_motor_title.pivot_table(index= 'QLKV', columns='cmt_type',values='pawnid', aggfunc='nunique').reset_index()\n",
    "remind_motor_title_asm = remind_motor_title_asm.fillna(0)\n",
    "remind_motor_title_asm = remind_motor_title_asm.merge(need_remind_motor_title_asm, on = 'QLKV', how = 'left')\n",
    "\n",
    "remind_motor_title_asm_last_month = remind_stats_motor_title_last_month.pivot_table(index= 'QLKV', columns='cmt_type',values='pawnid', aggfunc='nunique').reset_index()\n",
    "remind_motor_title_asm_last_month = remind_motor_title_asm_last_month.fillna(0)\n",
    "remind_motor_title_asm_last_month = remind_motor_title_asm_last_month.merge(need_remind_motor_title_asm_last_month, on = 'QLKV', how = 'left')\n",
    "\n",
    "remind_motor_title_asm['early_remind_rate'] = remind_motor_title_asm['2.early_remind']/remind_motor_title_asm['pawnid']\n",
    "remind_motor_title_asm['ondue_remind_rate'] = remind_motor_title_asm['3.on_due_date']/remind_motor_title_asm['pawnid']\n",
    "remind_motor_title_asm_last_month['early_remind_rate'] = remind_motor_title_asm_last_month['2.early_remind']/remind_motor_title_asm_last_month['pawnid']\n",
    "remind_motor_title_asm_last_month['ondue_remind_rate'] = remind_motor_title_asm_last_month['3.on_due_date']/remind_motor_title_asm_last_month['pawnid']"
   ]
  },
  {
   "cell_type": "code",
   "execution_count": 95,
   "metadata": {},
   "outputs": [],
   "source": [
    "# schedule\n",
    "need_remind_motor_title_schedule = remind_stats_motor_title.groupby('scheduletodate').agg({'pawnid':'nunique'}).reset_index()\n",
    "need_remind_motor_title_schedule_last_month = remind_stats_motor_title_last_month.groupby('scheduletodate').agg({'pawnid':'nunique'}).reset_index()\n",
    "remind_motor_title_schedule = remind_stats_motor_title.pivot_table(index= 'scheduletodate', columns='cmt_type',values='pawnid', aggfunc='nunique').reset_index()\n",
    "remind_motor_title_schedule = remind_motor_title_schedule.fillna(0)\n",
    "remind_motor_title_schedule = remind_motor_title_schedule.merge(need_remind_motor_title_schedule, on = 'scheduletodate', how = 'left')\n",
    "\n",
    "remind_motor_title_schedule_last_month = remind_stats_motor_title_last_month.pivot_table(index= 'scheduletodate', columns='cmt_type',values='pawnid', aggfunc='nunique').reset_index()\n",
    "remind_motor_title_schedule_last_month = remind_motor_title_schedule_last_month.fillna(0)\n",
    "remind_motor_title_schedule_last_month = remind_motor_title_schedule_last_month.merge(need_remind_motor_title_schedule_last_month, on = 'scheduletodate', how = 'left')\n",
    "\n",
    "remind_motor_title_schedule['early_remind_rate'] = remind_motor_title_schedule['2.early_remind']/remind_motor_title_schedule['pawnid']\n",
    "remind_motor_title_schedule['ondue_remind_rate'] = remind_motor_title_schedule['3.on_due_date']/remind_motor_title_schedule['pawnid']\n",
    "remind_motor_title_schedule_last_month['early_remind_rate'] = remind_motor_title_schedule_last_month['2.early_remind']/remind_motor_title_schedule_last_month['pawnid']\n",
    "remind_motor_title_schedule_last_month['ondue_remind_rate'] = remind_motor_title_schedule_last_month['3.on_due_date']/remind_motor_title_schedule_last_month['pawnid']"
   ]
  },
  {
   "cell_type": "markdown",
   "metadata": {},
   "source": [
    "CAR TITLE"
   ]
  },
  {
   "cell_type": "code",
   "execution_count": 96,
   "metadata": {},
   "outputs": [],
   "source": [
    "remind_stats_car_title = remind_rate_cartitle(date_list[0][0],date_list[0][1])"
   ]
  },
  {
   "cell_type": "code",
   "execution_count": 97,
   "metadata": {},
   "outputs": [],
   "source": [
    "remind_stats_car_title_last_month = remind_rate_cartitle(date_list[1][0],date_list[1][1])"
   ]
  },
  {
   "cell_type": "code",
   "execution_count": 98,
   "metadata": {},
   "outputs": [],
   "source": [
    "#  categroy, area\n",
    "need_remind_car_title_area = remind_stats_car_title.groupby('khu_vuc').agg({'pawnid':'nunique'}).T.reset_index()\n",
    "need_remind_car_title_area_last_month = remind_stats_car_title_last_month.groupby('khu_vuc').agg({'pawnid':'nunique'}).T.reset_index()\n",
    "\n",
    "need_remind_car_title_area = need_remind_car_title_area[['index', 'Hà Nội', 'Tỉnh MB','TP. Hồ Chí Minh','Tỉnh MN','Miền Trung']]\n",
    "need_remind_car_title_area_last_month = need_remind_car_title_area_last_month[['index', 'Hà Nội', 'Tỉnh MB','TP. Hồ Chí Minh','Tỉnh MN','Miền Trung']]\n",
    "\n",
    "need_remind_car_title_area.columns = ['cmt_type', 'Hà Nội', 'Tỉnh MB','TP. Hồ Chí Minh','Tỉnh MN','Miền Trung']\n",
    "need_remind_car_title_area_last_month.columns = ['cmt_type', 'Hà Nội', 'Tỉnh MB','TP. Hồ Chí Minh','Tỉnh MN','Miền Trung']"
   ]
  },
  {
   "cell_type": "code",
   "execution_count": 99,
   "metadata": {},
   "outputs": [],
   "source": [
    "remind_car_title_area =remind_stats_car_title.pivot_table(columns= 'khu_vuc', index='cmt_type',values='pawnid', aggfunc='nunique').reset_index()\n",
    "remind_car_title_area = remind_car_title_area.fillna(0)\n",
    "remind_car_title_area = remind_car_title_area[['cmt_type', 'Hà Nội', 'Tỉnh MB','TP. Hồ Chí Minh','Tỉnh MN','Miền Trung']]\n",
    "remind_car_title_area = remind_car_title_area.append(need_remind_car_title_area)\n",
    "\n",
    "remind_car_title_area_last_month = remind_stats_car_title_last_month.pivot_table(columns='khu_vuc', index='cmt_type',values='pawnid', aggfunc='nunique').reset_index()\n",
    "remind_car_title_area_last_month = remind_car_title_area_last_month.fillna(0)\n",
    "remind_car_title_area_last_month = remind_car_title_area_last_month[['cmt_type', 'Hà Nội', 'Tỉnh MB','TP. Hồ Chí Minh','Tỉnh MN','Miền Trung']]\n",
    "remind_car_title_area_last_month = remind_car_title_area_last_month.append(need_remind_car_title_area_last_month)"
   ]
  },
  {
   "cell_type": "code",
   "execution_count": 100,
   "metadata": {},
   "outputs": [],
   "source": [
    "# shop, car title\n",
    "need_remind_car_title_shop = remind_stats_car_title.groupby('shopname').agg({'pawnid':'nunique'}).reset_index()\n",
    "need_remind_car_title_shop_last_month = remind_stats_car_title_last_month.groupby('shopname').agg({'pawnid':'nunique'}).reset_index()\n",
    "\n",
    "remind_car_title_shop = remind_stats_car_title.pivot_table(index= 'shopname', columns='cmt_type',values='pawnid', aggfunc='nunique').reset_index()\n",
    "remind_car_title_shop = remind_car_title_shop.fillna(0)\n",
    "remind_car_title_shop = remind_car_title_shop.merge(need_remind_car_title_shop, on = 'shopname', how = 'left')\n",
    "\n",
    "remind_car_title_shop_last_month = remind_stats_car_title_last_month.pivot_table(index= 'shopname', columns='cmt_type',values='pawnid', aggfunc='nunique').reset_index()\n",
    "remind_car_title_shop_last_month = remind_car_title_shop_last_month.fillna(0)\n",
    "remind_car_title_shop_last_month = remind_car_title_shop_last_month.merge(need_remind_car_title_shop_last_month, on = 'shopname', how = 'left')\n",
    "\n",
    "remind_car_title_shop['early_remind_rate'] = remind_car_title_shop['2.early_remind']/remind_car_title_shop['pawnid']\n",
    "remind_car_title_shop['ondue_remind_rate'] = remind_car_title_shop['3.on_due_date']/remind_car_title_shop['pawnid']\n",
    "\n",
    "remind_car_title_shop_last_month['early_remind_rate'] = remind_car_title_shop_last_month['2.early_remind']/remind_car_title_shop_last_month['pawnid']\n",
    "remind_car_title_shop_last_month['ondue_remind_rate'] = remind_car_title_shop_last_month['3.on_due_date']/remind_car_title_shop_last_month['pawnid']"
   ]
  },
  {
   "cell_type": "code",
   "execution_count": 101,
   "metadata": {},
   "outputs": [],
   "source": [
    "# asm\n",
    "need_remind_car_title_asm = remind_stats_car_title.groupby('QLKV').agg({'pawnid':'nunique'}).reset_index()\n",
    "need_remind_car_title_asm_last_month = remind_stats_car_title_last_month.groupby('QLKV').agg({'pawnid':'nunique'}).reset_index()\n",
    "\n",
    "remind_car_title_asm = remind_stats_car_title.pivot_table(index= 'QLKV', columns='cmt_type',values='pawnid', aggfunc='nunique').reset_index()\n",
    "remind_car_title_asm = remind_car_title_asm.fillna(0)\n",
    "remind_car_title_asm = remind_car_title_asm.merge(need_remind_car_title_asm, on = 'QLKV', how = 'left')\n",
    "\n",
    "remind_car_title_asm_last_month = remind_stats_car_title_last_month.pivot_table(index= 'QLKV', columns='cmt_type',values='pawnid', aggfunc='nunique').reset_index()\n",
    "remind_car_title_asm_last_month = remind_car_title_asm_last_month.fillna(0)\n",
    "remind_car_title_asm_last_month = remind_car_title_asm_last_month.merge(need_remind_car_title_asm_last_month, on = 'QLKV', how = 'left')\n",
    "\n",
    "remind_car_title_asm['early_remind_rate'] = remind_car_title_asm['2.early_remind']/remind_car_title_asm['pawnid']\n",
    "remind_car_title_asm['ondue_remind_rate'] = remind_car_title_asm['3.on_due_date']/remind_car_title_asm['pawnid']\n",
    "remind_car_title_asm_last_month['early_remind_rate'] = remind_car_title_asm_last_month['2.early_remind']/remind_car_title_asm_last_month['pawnid']\n",
    "remind_car_title_asm_last_month['ondue_remind_rate'] = remind_car_title_asm_last_month['3.on_due_date']/remind_car_title_asm_last_month['pawnid']"
   ]
  },
  {
   "cell_type": "code",
   "execution_count": 102,
   "metadata": {},
   "outputs": [],
   "source": [
    "# schedule\n",
    "need_remind_car_title_schedule = remind_stats_car_title.groupby('scheduletodate').agg({'pawnid':'nunique'}).reset_index()\n",
    "need_remind_car_title_schedule_last_month = remind_stats_car_title_last_month.groupby('scheduletodate').agg({'pawnid':'nunique'}).reset_index()\n",
    "remind_car_title_schedule = remind_stats_car_title.pivot_table(index= 'scheduletodate', columns='cmt_type',values='pawnid', aggfunc='nunique').reset_index()\n",
    "remind_car_title_schedule = remind_car_title_schedule.fillna(0)\n",
    "remind_car_title_schedule = remind_car_title_schedule.merge(need_remind_car_title_schedule, on = 'scheduletodate', how = 'left')\n",
    "\n",
    "remind_car_title_schedule_last_month = remind_stats_car_title_last_month.pivot_table(index= 'scheduletodate', columns='cmt_type',values='pawnid', aggfunc='nunique').reset_index()\n",
    "remind_car_title_schedule_last_month = remind_car_title_schedule_last_month.fillna(0)\n",
    "remind_car_title_schedule_last_month = remind_car_title_schedule_last_month.merge(need_remind_car_title_schedule_last_month, on = 'scheduletodate', how = 'left')\n",
    "\n",
    "remind_car_title_schedule['early_remind_rate'] = remind_car_title_schedule['2.early_remind']/remind_car_title_schedule['pawnid']\n",
    "remind_car_title_schedule['ondue_remind_rate'] = remind_car_title_schedule['3.on_due_date']/remind_car_title_schedule['pawnid']\n",
    "remind_car_title_schedule_last_month['early_remind_rate'] = remind_car_title_schedule_last_month['2.early_remind']/remind_car_title_schedule_last_month['pawnid']\n",
    "remind_car_title_schedule_last_month['ondue_remind_rate'] = remind_car_title_schedule_last_month['3.on_due_date']/remind_car_title_schedule_last_month['pawnid']"
   ]
  },
  {
   "cell_type": "code",
   "execution_count": null,
   "metadata": {},
   "outputs": [],
   "source": []
  },
  {
   "cell_type": "markdown",
   "metadata": {},
   "source": [
    "REMIND BY PROVINCE"
   ]
  },
  {
   "cell_type": "code",
   "execution_count": 103,
   "metadata": {},
   "outputs": [
    {
     "data": {
      "text/plain": [
       "Index(['pawnid', 'dpd_yesterday', 'packagecode', 'shopname', 'shopcode',\n",
       "       'areaid', 'scheduletodate', 'principalmoney', 'acc_sum', 'paydate',\n",
       "       'acc_prin_payment', 'paidmoney', 'status', 'fromdate', 'todate',\n",
       "       'closedate', 'liquid_dt', 'pmt_stt', 'pawn_wid', 'codeno', 'body',\n",
       "       'commenttype', 'cmtdate', 'cmt_dt', 'day_cmt_before_schedule',\n",
       "       'cmt_type', 'package_type', 'write_off_period', 'pawn_code', 'amount',\n",
       "       'Tên PGD', 'Mã PGD', 'Phường/Xã', 'Quận/Huyện', 'Tỉnh/ Thành phố',\n",
       "       'Vĩ độ', 'Kinh độ', 'Shop ID', 'Vùng/Miền', 'Thời gian KT', 'Vùng',\n",
       "       'code', 'name', 'GĐM', 'TPK', 'QLKV', 'khu_vuc'],\n",
       "      dtype='object')"
      ]
     },
     "execution_count": 103,
     "metadata": {},
     "output_type": "execute_result"
    }
   ],
   "source": [
    "remind_stats_motor_title.columns"
   ]
  },
  {
   "cell_type": "code",
   "execution_count": 104,
   "metadata": {},
   "outputs": [],
   "source": [
    "# Motor title\n",
    "#  categroy, province\n",
    "need_remind_motor_title_province = remind_stats_motor_title.groupby('Tỉnh/ Thành phố').agg({'pawnid':'nunique'}).reset_index()\n",
    "need_remind_motor_title_province_last_month = remind_stats_motor_title_last_month.groupby('Tỉnh/ Thành phố').agg({'pawnid':'nunique'}).reset_index()"
   ]
  },
  {
   "cell_type": "code",
   "execution_count": 105,
   "metadata": {},
   "outputs": [],
   "source": [
    "remind_motor_title_province =remind_stats_motor_title.pivot_table(index= 'Tỉnh/ Thành phố', columns='cmt_type',values='pawnid', aggfunc='nunique').reset_index()\n",
    "remind_motor_title_province = remind_motor_title_province.fillna(0)\n",
    "# remind_car_title_area = remind_car_title_area[['cmt_type', 'Hà Nội', 'Tỉnh MB','TP. Hồ Chí Minh','Tỉnh MN','Miền Trung']]\n",
    "# remind_car_title_area = remind_car_title_area.append(need_remind_car_title_area)\n",
    "\n",
    "remind_motor_title_province_last_month = remind_stats_motor_title_last_month.pivot_table(index='Tỉnh/ Thành phố', columns='cmt_type',values='pawnid', aggfunc='nunique').reset_index()\n",
    "remind_motor_title_province_last_month = remind_motor_title_province_last_month.fillna(0)\n",
    "# remind_car_title_area_last_month = remind_car_title_area_last_month[['cmt_type', 'Hà Nội', 'Tỉnh MB','TP. Hồ Chí Minh','Tỉnh MN','Miền Trung']]\n",
    "# remind_car_title_area_last_month = remind_car_title_area_last_month.append(need_remind_car_title_area_last_month)"
   ]
  },
  {
   "cell_type": "code",
   "execution_count": 106,
   "metadata": {},
   "outputs": [],
   "source": [
    "remind_motor_title_province = remind_motor_title_province.merge(need_remind_motor_title_province, on = 'Tỉnh/ Thành phố', how = 'left')"
   ]
  },
  {
   "cell_type": "code",
   "execution_count": 107,
   "metadata": {},
   "outputs": [],
   "source": [
    "remind_motor_title_province['early_remind_rate'] = remind_motor_title_province['2.early_remind']/remind_motor_title_province['pawnid']"
   ]
  },
  {
   "cell_type": "code",
   "execution_count": 108,
   "metadata": {},
   "outputs": [],
   "source": [
    "remind_motor_title_province_last_month = remind_motor_title_province_last_month.merge(need_remind_motor_title_province_last_month, on = 'Tỉnh/ Thành phố', how = 'left')"
   ]
  },
  {
   "cell_type": "code",
   "execution_count": 109,
   "metadata": {},
   "outputs": [],
   "source": [
    "remind_motor_title_province_last_month['early_remind_rate'] = remind_motor_title_province_last_month['2.early_remind']/remind_motor_title_province_last_month['pawnid']"
   ]
  },
  {
   "cell_type": "code",
   "execution_count": 110,
   "metadata": {},
   "outputs": [],
   "source": [
    "need_remind_car_title_province = remind_stats_car_title.groupby('Tỉnh/ Thành phố').agg({'pawnid':'nunique'}).reset_index()\n",
    "need_remind_car_title_province_last_month = remind_stats_car_title_last_month.groupby('Tỉnh/ Thành phố').agg({'pawnid':'nunique'}).reset_index()"
   ]
  },
  {
   "cell_type": "code",
   "execution_count": 111,
   "metadata": {},
   "outputs": [],
   "source": [
    "remind_car_title_province =remind_stats_car_title.pivot_table(index= 'Tỉnh/ Thành phố', columns='cmt_type',values='pawnid', aggfunc='nunique').reset_index()\n",
    "remind_car_title_province = remind_car_title_province.fillna(0)\n",
    "\n",
    "remind_car_title_province_last_month = remind_stats_car_title_last_month.pivot_table(index='Tỉnh/ Thành phố', columns='cmt_type',values='pawnid', aggfunc='nunique').reset_index()\n",
    "remind_car_title_province_last_month = remind_car_title_province_last_month.fillna(0)"
   ]
  },
  {
   "cell_type": "code",
   "execution_count": 112,
   "metadata": {},
   "outputs": [],
   "source": [
    "remind_car_title_province = remind_car_title_province.merge(need_remind_car_title_province, on = 'Tỉnh/ Thành phố', how = 'left')"
   ]
  },
  {
   "cell_type": "code",
   "execution_count": 113,
   "metadata": {},
   "outputs": [],
   "source": [
    "remind_car_title_province_last_month = remind_car_title_province_last_month.merge(need_remind_car_title_province_last_month, on = 'Tỉnh/ Thành phố', how = 'left')"
   ]
  },
  {
   "cell_type": "code",
   "execution_count": 114,
   "metadata": {},
   "outputs": [],
   "source": [
    "remind_car_title_province['early_remind_rate'] = remind_car_title_province['2.early_remind']/remind_car_title_province['pawnid']"
   ]
  },
  {
   "cell_type": "code",
   "execution_count": 115,
   "metadata": {},
   "outputs": [],
   "source": [
    "remind_car_title_province_last_month['early_remind_rate'] = remind_car_title_province_last_month['2.early_remind']/remind_car_title_province_last_month['pawnid']"
   ]
  },
  {
   "cell_type": "code",
   "execution_count": null,
   "metadata": {},
   "outputs": [],
   "source": []
  },
  {
   "cell_type": "code",
   "execution_count": null,
   "metadata": {},
   "outputs": [],
   "source": []
  },
  {
   "cell_type": "markdown",
   "metadata": {},
   "source": [
    "ADMIN REMIND"
   ]
  },
  {
   "cell_type": "code",
   "execution_count": 116,
   "metadata": {},
   "outputs": [],
   "source": [
    "# def no_admin_remind(fromdate, todate):\n",
    "#     admin_type1_str = \"\"\" Declare @fromdate date = '\"\"\"+fromdate+\"\"\"'\n",
    "# \tDeclare @todate date = '\"\"\"+todate+\"\"\"'\n",
    "#    select sdl.*,pa.codeno, cc.body, cc.cmtdate,pa.status,pa.closedate, \n",
    "#    case when cmtdate is not null and cmtdate>dateadd(d, -3, sdl.scheduletodate)\n",
    "#    and cmtdate<dateadd(d, 0, sdl.scheduletodate) then 't' else 'f' end t_f, pp.AdvanceMoney, pp.PayDate payment_date \n",
    "#    from (\n",
    "#    select pawnid,ScheduleToDate,InterestMoney, acc_sum, acc_sum_l1, PayDate\n",
    "#    from [dwh].[dbo].[pawnCarOverDue]\n",
    "#    where scheduletodate >= @fromdate\n",
    "#    and scheduletodate <= @todate\n",
    "#     and [MoneyInterest] like '%lai%') sdl\n",
    "# \tleft join [dwh].[dbo].pawnoverdue pod on pod.PawnID = sdl.PawnID\n",
    "#    left join (SELECT [PGD]\n",
    "#        ,[PawnID]\n",
    "#        ,[CodeNo]\n",
    "#         ,[Body]\n",
    "#         ,[CommentType] \n",
    "#        ,[CreatedDate]\n",
    "#         ,[cmtdate]\n",
    "#    FROM [dwh].[dbo].[CommentContract]\n",
    "#    where Nhóm like '%admin%' \n",
    "#     and cmtdate>=DATEADD(d, -15, @fromdate)) cc on cc.pawnid = sdl.pawnid \n",
    "#     left join [dwh].[dbo].pawn pa on pa.pawnid = sdl.pawnid\n",
    "# \tleft join [dwh].[dbo].[PawnPayment] pp on (pp.PawnID = sdl.PawnID and pp.ToDate = sdl.ScheduleToDate)\n",
    "# \twhere pod.CREATED = @todate\n",
    "# \tand pod.TuoiNo <=10\n",
    "# \t  and pa.status in (-1,1,14)\n",
    "# \t  and pp.PreAdvanceMoney <= 0 \n",
    "# \t  and pp.PayDate >= DATEADD(d, -2, sdl.ScheduleToDate)\n",
    "# \t  and (pa.CloseDate is null \n",
    "# \t  or pa.CloseDate<@fromdate)\"\"\"\n",
    "    \n",
    "#     admin_type2_str = \"\"\" Declare @fromdate date = '\"\"\"+fromdate+\"\"\"'\n",
    "# \tDeclare @todate date = '\"\"\"+todate+\"\"\"'\n",
    "#    select sdl.*,pa.codeno, cc.body, cc.cmtdate,pa.status,pa.closedate, \n",
    "#    case when cmtdate is not null and cmtdate>dateadd(d, -3, sdl.scheduletodate)\n",
    "#    and cmtdate<dateadd(d, 0, sdl.scheduletodate) then 't' else 'f' end t_f, pp.AdvanceMoney, pp.PayDate payment_date \n",
    "#    from (select pawnid,ScheduleToDate, PrincipalMoney InterestMoney, acc_sum, acc_sum_l1, PayDate from [dwh].[dbo].[PawnOverDuedetail]\n",
    "#    where scheduletodate >= @fromdate\n",
    "#    and scheduletodate <= @todate\n",
    "#     and [InterestMoney] like '%goc%'\n",
    "#    ) sdl\n",
    "# \tleft join [dwh].[dbo].pawnoverdue pod on pod.PawnID = sdl.PawnID\n",
    "#    left join (SELECT [PGD]\n",
    "#        ,[PawnID]\n",
    "#        ,[CodeNo]\n",
    "#         ,[Body]\n",
    "#         ,[CommentType]\n",
    "#        ,[CreatedDate]\n",
    "#         ,[cmtdate]\n",
    "#    FROM [dwh].[dbo].[CommentContract]\n",
    "#    where Nhóm like '%admin%' \n",
    "#     and cmtdate>=DATEADD(d, -2, @fromdate)) cc on cc.pawnid = sdl.pawnid \n",
    "#     left join [dwh].[dbo].pawn pa on pa.pawnid = sdl.pawnid\n",
    "# \tleft join [dwh].[dbo].[PawnPayment] pp on (pp.PawnID = sdl.PawnID and pp.ToDate = sdl.ScheduleToDate)\n",
    "# \twhere pod.CREATED = @todate\n",
    "# \tand pod.TuoiNo <=10\n",
    "# \t  and pa.status in (-1,1,14)\n",
    "# \t  and pp.PreAdvanceMoney <= 0 \n",
    "# \t  and pp.PayDate >= DATEADD(d, -2, sdl.ScheduleToDate)\n",
    "# \t  and (pa.CloseDate is null \n",
    "# \t  or pa.CloseDate<@fromdate)\"\"\"\n",
    "#     admin_type1 = pd.read_sql_query(admin_type1_str, db)\n",
    "#     admin_type2 = pd.read_sql_query(admin_type2_str, db)\n",
    "#     admin_all = admin_type1.append(admin_type2)\n",
    "#     return admin_all"
   ]
  },
  {
   "cell_type": "code",
   "execution_count": 117,
   "metadata": {},
   "outputs": [],
   "source": [
    "# admin_this_month = no_admin_remind(date_list[0][0],date_list[0][1])"
   ]
  },
  {
   "cell_type": "code",
   "execution_count": 118,
   "metadata": {},
   "outputs": [],
   "source": [
    "# admin_this_month.columns"
   ]
  },
  {
   "cell_type": "code",
   "execution_count": 119,
   "metadata": {},
   "outputs": [],
   "source": [
    "# admind_no_remind = admin_this_month.pivot_table(index = ['scheduletodate','codeno'], columns='t_f', values='pawnid', aggfunc= 'count').reset_index()"
   ]
  },
  {
   "cell_type": "code",
   "execution_count": 120,
   "metadata": {},
   "outputs": [],
   "source": [
    "# admind_no_remind = admind_no_remind[admind_no_remind['t'].isnull() == True]"
   ]
  },
  {
   "cell_type": "code",
   "execution_count": 121,
   "metadata": {},
   "outputs": [],
   "source": [
    "# admind_no_remind"
   ]
  },
  {
   "cell_type": "code",
   "execution_count": 122,
   "metadata": {},
   "outputs": [],
   "source": [
    "# admind_remind_summary = admin_this_month.pivot_table(index = 'scheduletodate', columns='admin_remind_yes_no', values='pawnid', aggfunc='nunique').reset_index()"
   ]
  },
  {
   "cell_type": "code",
   "execution_count": 123,
   "metadata": {},
   "outputs": [],
   "source": [
    "# admind_remind_summary = admind_remind_summary.fillna(0)"
   ]
  },
  {
   "cell_type": "code",
   "execution_count": 124,
   "metadata": {},
   "outputs": [],
   "source": [
    "# admind_remind_summary['all'] = admind_remind_summary['yes']+admind_remind_summary['no']\n",
    "# admind_remind_summary['no_admin_remind_rate'] = admind_remind_summary['no']/admind_remind_summary['all']"
   ]
  },
  {
   "cell_type": "code",
   "execution_count": 125,
   "metadata": {},
   "outputs": [],
   "source": [
    "# no_admin_remind_list_pawn = admin_this_month[admin_this_month['body'].isnull()== True]"
   ]
  },
  {
   "cell_type": "code",
   "execution_count": 126,
   "metadata": {},
   "outputs": [],
   "source": [
    "# no_admin_remind_list_pawn"
   ]
  },
  {
   "cell_type": "code",
   "execution_count": 127,
   "metadata": {},
   "outputs": [],
   "source": [
    "# # Comment on Pos\n",
    "# # Comment group\n",
    "# cmt_group_motor_title= remind_stats_motor_title.pivot_table(columns='commenttype', index = 'cmt_type', values='pawnid', aggfunc='nunique').reset_index()\n",
    "\n",
    "# cmt_group_car_title= remind_stats_car_title.pivot_table(columns='commenttype', index = 'cmt_type', values='pawnid', aggfunc='nunique').reset_index()\n"
   ]
  },
  {
   "cell_type": "code",
   "execution_count": 128,
   "metadata": {},
   "outputs": [],
   "source": [
    "# cmt_group_car_title.columns"
   ]
  },
  {
   "cell_type": "code",
   "execution_count": 129,
   "metadata": {},
   "outputs": [],
   "source": [
    "# cmt_group_motor_title.columns = ['cmt_type','KH KNM','SĐT Không ll được','KH hẹn chuyển khoản','KH hẹn thanh toán','Người nghe báo sai số','Kh chặn số','KH báo thanh lý','Admin','Khác']\n",
    "# cmt_group_car_title.columns = ['cmt_type','KH KNM','SĐT Không ll được','KH hẹn chuyển khoản','KH báo thanh lý','KH hẹn thanh toán','Admin','Khác']"
   ]
  },
  {
   "cell_type": "markdown",
   "metadata": {},
   "source": [
    "CLOSED PAWN"
   ]
  },
  {
   "cell_type": "code",
   "execution_count": 130,
   "metadata": {},
   "outputs": [],
   "source": [
    "# #  Active pawn at the beginning of this month\n",
    "# def closed_pawn_type_1(fromdate, todate):\n",
    "#     closed_type_1_str = \"\"\"Declare @start_date date ='\"\"\"+fromdate+\"\"\"'\n",
    "#     Declare @end_date date ='\"\"\"+todate+\"\"\"'\n",
    "# select pod.categoryname,pod.shopcode,pod.ShopName shopname,pod.contractcode, pod.pawnid pod_pawn,(pa2.LoanMoneyOrg - pa2.[InsurranceMoney])/1000000 all_cal_interest,\n",
    "# cast(left(pod.Interest,4) as int) interest, pa.net_disbur/1000000 closed_cal_interest, pa.*,\n",
    "# case  when pa.Pawnid is null then 0 else 1 end real_closed_pawn\n",
    "# from PawnOverdue pod\n",
    "# left join (select a.*, case when a.closedate < a.todate and (a.closedate<>a.following_fromdate or a.following_fromdate is null) then '1. early closed'\n",
    "# when  a.closedate = a.todate and (a.closedate<>a.following_fromdate or a.following_fromdate is null) then '2. ondue closed'\n",
    "# when a.closedate > a.todate and (a.closedate<>a.following_fromdate or a.following_fromdate is null) then '3. overdue_closed'\n",
    "#  when a.closedate=a.following_fromdate then '4.close to open new'\n",
    "#  else '5.just closed' end \"closed_type\", \n",
    "#  case when format(fromdate, 'yyyyMM') = format(closedate, 'yyyyMM') then  'oc same month'\n",
    "#  else 'oc diff month' end oc_month_compare,\n",
    "#  case when CategoryCode like '%17%' then\n",
    "# case when (a.foll_loan_org - a.foll_pawn_insurance) <= 3000000 then '0. <=3tr'\n",
    "# when (a.foll_loan_org - a.foll_pawn_insurance) <= 10000000 then '1. 3-10tr'\n",
    "# when (a.foll_loan_org - a.foll_pawn_insurance) <= 15000000 then '2. 10-15tr'\n",
    "# when (a.foll_loan_org - a.foll_pawn_insurance) <= 25000000 then '3. 15-25tr'\n",
    "# else '4. >25tr' end \n",
    "#   when CategoryCode like '%15%' then\n",
    "# case when (a.foll_loan_org - a.foll_pawn_insurance) <= 50000000 then '0. <=50tr'\n",
    "# when (a.foll_loan_org - a.foll_pawn_insurance) <= 100000000 then '2. 100-200tr'\n",
    "# when a.foll_pawn_package is not null and  (a.foll_loan_org - a.foll_pawn_insurance) > 200000000 then N'4. >200tr'\n",
    "# when a.foll_pawn_package is null and  (a.foll_loan_org - a.foll_pawn_insurance) <= 300000000 then '3. 200-300tr'\n",
    "# else N'4. >300tr' end \n",
    "#  end \"foll_package_money_range\", \n",
    "#  case when a.foll_pawn_frequency<= 30 then N'1. Kỳ hạn 1 tháng'\n",
    "#   when a.foll_pawn_frequency <= 90 then N'2. Kỳ hạn 3 tháng'\n",
    "#   when a.foll_pawn_frequency  <= 180 then N'3. Kỳ hạn 6 tháng'\n",
    "#   when a.foll_pawn_frequency  <= 270 then N'4. Kỳ hạn 9 tháng'\n",
    "#   when a.foll_pawn_frequency  <= 360 then N'5. Kỳ hạn 12 tháng'\n",
    "#   else N'6. >12 tháng' end foll_package_time_range, \n",
    "#   case when a.foll_pawn_package like '%VAY_NHANH%' then N'Vay nhanh' else N'Vay thường' end as foll_package_type\n",
    "# from (\n",
    "# select [CategoryCode], pawnid, fromdate, todate, closedate,  Lead (Pawnid) over (PARTITION BY customerid, [CategoryCode] ORDER BY fromdate asc) as following_pawn_id,\n",
    "#  Lead (fromdate) over (PARTITION BY customerid, [CategoryCode] ORDER BY fromdate asc) as following_fromdate,\n",
    "#  case when CategoryCode like '%17%' then\n",
    "# case when (LoanMoneyOrg - [InsurranceMoney]) <= 3000000 then '0. <=3tr'\n",
    "# when (LoanMoneyOrg - [InsurranceMoney]) <= 10000000 then '1. 3-10tr'\n",
    "# when (LoanMoneyOrg - [InsurranceMoney]) <= 15000000 then '2. 10-15tr'\n",
    "# when (LoanMoneyOrg - [InsurranceMoney]) <= 25000000 then '3. 15-25tr'\n",
    "# else '4. >25tr' end\n",
    "#   when CategoryCode like '%15%' then\n",
    "# case when (LoanMoneyOrg - [InsurranceMoney]) <= 50000000 then '0. <=50tr'\n",
    "# when (LoanMoneyOrg - [InsurranceMoney]) <= 100000000 then '2. 100-200tr'\n",
    "# when PackageCode is not null and  (LoanMoneyOrg - [InsurranceMoney]) > 200000000 then N'4. >200tr'\n",
    "# when PackageCode is null and  (LoanMoneyOrg - [InsurranceMoney]) <= 300000000 then '3. 200-300tr'\n",
    "# else N'4. >300tr' end \n",
    "#  end \"package_money_range\", case when frequency <= 30 then N'1. Kỳ hạn 1 tháng'\n",
    "#   when frequency <= 90 then N'2. Kỳ hạn 3 tháng'\n",
    "#   when frequency <= 180 then N'3. Kỳ hạn 6 tháng'\n",
    "#   when frequency <= 270 then N'4. Kỳ hạn 9 tháng'\n",
    "#   when frequency <= 360 then N'5. Kỳ hạn 12 tháng'\n",
    "#   else N'6. Ngoại lệ' end package_time_range,\n",
    "#   case when PackageCode like '%VAY_NHANH%' then N'Vay nhanh' else N'Vay thường' end as package_type,\n",
    "#   Lead(CodeNo) over (PARTITION BY customerid, CategoryCode ORDER BY fromdate asc) as foll_pawn, \n",
    "#   Lead(Pawnid) over (PARTITION BY customerid, CategoryCode ORDER BY fromdate asc) as foll_pawn_id,\n",
    "# Lead(InsurranceMoney) over (PARTITION BY customerid,CategoryCode  order by fromdate) as foll_pawn_insurance,\n",
    "# Lead(LoanMoneyOrg) over (PARTITION BY customerid, CategoryCode order by fromdate) as foll_loan_org,\n",
    "# Lead(PackageCode) over (PARTITION BY customerid, CategoryCode order by fromdate) foll_pawn_package,\n",
    "# Lead(Frequency) over (PARTITION BY customerid,CategoryCode  order by fromdate) as foll_pawn_frequency,\n",
    "# (LoanMoneyOrg - InsurranceMoney) net_disbur\n",
    "#  from pawn\n",
    "#  where closedate> @start_date\n",
    "#  and closedate<=@end_date) a) pa on pa.pawnid = pod.PawnID\n",
    "#  left join pawn pa2 on pa2.pawnid = pod.pawnid\n",
    "#  where pod.CREATED = @start_date\n",
    "#  and (pod.CategoryCode like '%15%'\n",
    "#  or pod.CategoryCode like '%17%')\n",
    "#  and pod.shopcode not like '%HS%' \n",
    "# and pod.shopcode not like '%TEST%'\n",
    "# and pod.TuoiNo<90\"\"\"\n",
    "#     closed_type_1 = pd.read_sql_query(closed_type_1_str,db)\n",
    "#     closed_type_1 = closed_type_1.merge(write_off_list, left_on='contractcode', right_on='pawn_code',how = 'left')\n",
    "#     closed_type_1 = closed_type_1[closed_type_1['pawn_code'].isnull()==True]\n",
    "#     closed_type_1 = closed_type_1.merge(shop_data, left_on='shopname', right_on = 'Tên PGD', how = 'left')\n",
    "#     closed_type_1['khu_vuc'] = np.where(closed_type_1['Tỉnh/ Thành phố'] == 'Hà Nội', 'Hà Nội', np.where(closed_type_1['Tỉnh/ Thành phố'] == 'TP. Hồ Chí Minh', 'TP. Hồ Chí Minh',np.where((closed_type_1['Tỉnh/ Thành phố'] != 'Hà Nội') & (closed_type_1['Vùng/Miền'] == 'Miền Bắc'), 'Tỉnh MB', np.where((closed_type_1['Tỉnh/ Thành phố'] != 'TP. Hồ Chí Minh') & (closed_type_1['Vùng/Miền'] == 'Miền Nam'), 'Tỉnh MN', 'Miền Trung'))))\n",
    "#     closed_type_1['expected_collect'] = closed_type_1['interest']*closed_type_1['all_cal_interest']\n",
    "#     closed_type_1['closed_amt'] = closed_type_1['interest']*closed_type_1['closed_cal_interest']\n",
    "#     return closed_type_1"
   ]
  },
  {
   "cell_type": "code",
   "execution_count": 131,
   "metadata": {},
   "outputs": [],
   "source": [
    "# closed_type_1 = closed_pawn_type_1(date_list[0][0], date_list[0][1])"
   ]
  },
  {
   "cell_type": "code",
   "execution_count": 132,
   "metadata": {},
   "outputs": [],
   "source": [
    "# closed_ty1_cate = closed_type_1.groupby('categoryname').agg({'pod_pawn':'nunique','real_closed_pawn':'sum', 'expected_collect':'sum', 'closed_amt':'sum'}).reset_index()"
   ]
  },
  {
   "cell_type": "code",
   "execution_count": 133,
   "metadata": {},
   "outputs": [],
   "source": [
    "# closed_ty1_openty = closed_type_1[closed_type_1['closed_type'].isnull() == False]\n",
    "\n",
    "# closed_ty1_openty = closed_ty1_openty.pivot_table(columns = 'closed_type', index = 'categoryname', values='pawnid', aggfunc = 'nunique').reset_index()\n",
    "\n",
    "# closed_ty1_overview = closed_ty1_cate.merge(closed_ty1_openty, on = 'categoryname', how = 'left')\n"
   ]
  },
  {
   "cell_type": "code",
   "execution_count": 134,
   "metadata": {},
   "outputs": [],
   "source": [
    "# closed_ty1_overview"
   ]
  },
  {
   "cell_type": "code",
   "execution_count": 135,
   "metadata": {},
   "outputs": [],
   "source": [
    "# closed_ty1_oc = closed_type_1[closed_type_1['pawnid'].isnull() == False]\n",
    "\n",
    "# closed_ty1_oc = closed_ty1_oc.pivot_table(index='categoryname', columns='oc_month_compare', values='pawnid', aggfunc= 'nunique')\n",
    "\n",
    "# closed_ty1_oc = closed_ty1_oc.reset_index()\n"
   ]
  },
  {
   "cell_type": "code",
   "execution_count": 136,
   "metadata": {},
   "outputs": [],
   "source": [
    "# closed_type_1_lm = closed_pawn_type_1(date_list[1][0], date_list[1][1])\n",
    "\n",
    "# closed_type_1_lm = closed_type_1_lm.fillna(0)\n",
    "\n",
    "# closed_ty1_cate_lm = closed_type_1_lm.groupby('categoryname').agg({'pod_pawn':'nunique','real_closed_pawn':'sum', 'expected_collect':'sum', 'closed_amt':'sum'})\n",
    "\n",
    "# closed_ty1_openty_lm = closed_type_1_lm[closed_type_1_lm['closed_type'].isnull() == False]\n",
    "\n",
    "# closed_ty1_openty_lm = closed_ty1_openty_lm.pivot_table(columns = 'closed_type', index = 'categoryname', values='pawnid', aggfunc = 'nunique').reset_index()\n",
    "\n",
    "# closed_ty1_overview_lm = closed_ty1_cate.merge(closed_ty1_openty_lm, on = 'categoryname', how = 'left')\n",
    "\n",
    "# closed_ty1_oc_lm = closed_type_1_lm[closed_type_1_lm['pawnid'].isnull() == False]\n",
    "\n",
    "# closed_ty1_oc_lm = closed_ty1_oc_lm.pivot_table(index='categoryname', columns='oc_month_compare', values='pawnid', aggfunc= 'nunique')\n",
    "\n",
    "# closed_ty1_oc_lm = closed_ty1_oc_lm.reset_index()"
   ]
  },
  {
   "cell_type": "code",
   "execution_count": 137,
   "metadata": {},
   "outputs": [],
   "source": [
    "# # Pawn open in this month:\n",
    "# def closed_pawn_type_2(fromdate,todate):\n",
    "#     closed_type_2_str = \"\"\"Declare @start_date date ='\"\"\"+fromdate+\"\"\"'\n",
    "# Declare @end_date date ='\"\"\"+todate+\"\"\"'\n",
    "# select a.*,cd.name categoryname, case when closedate is null then '0.still_open'\n",
    "# when closedate is not null and a.closedate < a.todate and (a.closedate<>a.following_fromdate or a.following_fromdate is null) then '1. early closed'\n",
    "# when closedate is not null and a.closedate = a.todate and (a.closedate<>a.following_fromdate or a.following_fromdate is null) then '2. ondue closed'\n",
    "# when closedate is not null and a.closedate > a.todate and (a.closedate<>a.following_fromdate or a.following_fromdate is null) then '3. overdue_closed'\n",
    "#  when closedate is not null and a.closedate=a.following_fromdate then '4.close to open new'\n",
    "#  else '4.just closed' end \"closed_type\", \n",
    "#  case when format(fromdate, 'yyyyMM') = format(closedate, 'yyyyMM') then  'oc same month'\n",
    "#  else 'oc diff month' end oc_month_compare,\n",
    "#  case when CategoryCode like '%17%' then\n",
    "# case when (a.foll_loan_org - a.foll_pawn_insurance) <= 3000000 then '0. <=3tr'\n",
    "# when (a.foll_loan_org - a.foll_pawn_insurance) <= 10000000 then '1. 3-10tr'\n",
    "# when (a.foll_loan_org - a.foll_pawn_insurance) <= 15000000 then '2. 10-15tr'\n",
    "# when (a.foll_loan_org - a.foll_pawn_insurance) <= 25000000 then '3. 15-25tr'\n",
    "# else '4. >25tr' end \n",
    "#   when CategoryCode like '%15%' then\n",
    "# case when (a.foll_loan_org - a.foll_pawn_insurance) <= 50000000 then '0. <=50tr'\n",
    "# when (a.foll_loan_org - a.foll_pawn_insurance) <= 100000000 then '2. 100-200tr'\n",
    "# when a.foll_pawn_package is not null and  (a.foll_loan_org - a.foll_pawn_insurance) > 200000000 then N'4. >200tr'\n",
    "# when a.foll_pawn_package is null and  (a.foll_loan_org - a.foll_pawn_insurance) <= 300000000 then '3. 200-300tr'\n",
    "# else N'4. >300tr' end \n",
    "#  end \"foll_package_money_range\", \n",
    "#  case when a.foll_pawn_frequency<= 30 then N'1. Kỳ hạn 1 tháng'\n",
    "#   when a.foll_pawn_frequency <= 90 then N'2. Kỳ hạn 3 tháng'\n",
    "#   when a.foll_pawn_frequency  <= 180 then N'3. Kỳ hạn 6 tháng'\n",
    "#   when a.foll_pawn_frequency  <= 270 then N'4. Kỳ hạn 9 tháng'\n",
    "#   when a.foll_pawn_frequency  <= 360 then N'5. Kỳ hạn 12 tháng'\n",
    "#   else N'6. >12 tháng' end foll_package_time_range, \n",
    "#   case when a.foll_pawn_package like '%VAY_NHANH%' then N'Vay nhanh' else N'Vay thường' end as foll_package_type,\n",
    "#   a.rate*1000*(a.LoanMoneyOrg - a.[InsurranceMoney]) expected_amt\n",
    "# from (\n",
    "# select shopcode, rate,[CategoryCode], pawnid, fromdate, todate, closedate,  LoanMoneyOrg,[InsurranceMoney],\n",
    "# Lead (Pawnid) over (PARTITION BY customerid, [CategoryCode] ORDER BY fromdate asc) as following_pawn_id,\n",
    "#  Lead (fromdate) over (PARTITION BY customerid, [CategoryCode] ORDER BY fromdate asc) as following_fromdate,\n",
    "#  case when CategoryCode like '%17%' then\n",
    "# case when (LoanMoneyOrg - [InsurranceMoney]) <= 3000000 then '0. <=3tr'\n",
    "# when (LoanMoneyOrg - [InsurranceMoney]) <= 10000000 then '1. 3-10tr'\n",
    "# when (LoanMoneyOrg - [InsurranceMoney]) <= 15000000 then '2. 10-15tr'\n",
    "# when (LoanMoneyOrg - [InsurranceMoney]) <= 25000000 then '3. 15-25tr'\n",
    "# else '4. >25tr' end\n",
    "#   when CategoryCode like '%15%' then\n",
    "# case when (LoanMoneyOrg - [InsurranceMoney]) <= 50000000 then '0. <=50tr'\n",
    "# when (LoanMoneyOrg - [InsurranceMoney]) <= 100000000 then '2. 100-200tr'\n",
    "# when PackageCode is not null and  (LoanMoneyOrg - [InsurranceMoney]) > 200000000 then N'4. >200tr'\n",
    "# when PackageCode is null and  (LoanMoneyOrg - [InsurranceMoney]) <= 300000000 then '3. 200-300tr'\n",
    "# else N'4. >300tr' end \n",
    "#  end \"package_money_range\", case when frequency <= 30 then N'1. Kỳ hạn 1 tháng'\n",
    "#   when frequency <= 90 then N'2. Kỳ hạn 3 tháng'\n",
    "#   when frequency <= 180 then N'3. Kỳ hạn 6 tháng'\n",
    "#   when frequency <= 270 then N'4. Kỳ hạn 9 tháng'\n",
    "#   when frequency <= 360 then N'5. Kỳ hạn 12 tháng'\n",
    "#   else N'6. Ngoại lệ' end package_time_range,\n",
    "#   case when PackageCode like '%VAY_NHANH%' then N'Vay nhanh' else N'Vay thường' end as package_type,\n",
    "#   Lead(CodeNo) over (PARTITION BY customerid, CategoryCode ORDER BY fromdate asc) as foll_pawn, \n",
    "#   Lead(Pawnid) over (PARTITION BY customerid, CategoryCode ORDER BY fromdate asc) as foll_pawn_id,\n",
    "# Lead(InsurranceMoney) over (PARTITION BY customerid,CategoryCode  order by fromdate) as foll_pawn_insurance,\n",
    "# Lead(LoanMoneyOrg) over (PARTITION BY customerid, CategoryCode order by fromdate) as foll_loan_org,\n",
    "# Lead(PackageCode) over (PARTITION BY customerid, CategoryCode order by fromdate) foll_pawn_package,\n",
    "# Lead(Frequency) over (PARTITION BY customerid,CategoryCode  order by fromdate) as foll_pawn_frequency\n",
    "#  from pawn\n",
    "#  where 1=1\n",
    "#  and fromdate> @start_date\n",
    "#  and fromdate<=@end_date\n",
    "#  and shopcode not like '%HS%' and \n",
    "# shopcode not like '%TEST%'\n",
    "# and (categorycode like '%17%'or categorycode like '%15%') \n",
    "# ) a\n",
    "#  left join W_CATEGORY_D cd on cd.CODE = a.CategoryCode\"\"\"\n",
    "#     closed_type_2 = pd.read_sql_query(closed_type_2_str, db)\n",
    "#     return closed_type_2"
   ]
  },
  {
   "cell_type": "code",
   "execution_count": 138,
   "metadata": {},
   "outputs": [],
   "source": [
    "# closed_type_2 = closed_pawn_type_2(date_list[0][0], date_list[0][1])\n",
    "\n",
    "# closed_ty2_overview = closed_type_2.pivot_table(index='categoryname', columns='closed_type', values='pawnid',aggfunc='nunique')\n",
    "# closed_ty2_overview = closed_ty2_overview.reset_index()\n",
    "# closed_ty2_overview_amt = closed_type_2.pivot_table(index='categoryname', columns='closed_type', values='expected_amt',aggfunc='sum')\n",
    "# closed_ty2_oc = closed_type_2.pivot_table(index=['categoryname', 'closed_type'], columns='oc_month_compare', values='pawnid', aggfunc='nunique')\n",
    "# closed_ty2_oc_amt = closed_type_2.pivot_table(indexA=['categoryname', 'closed_type'], columns='oc_month_compare', values='expected_amt', aggfunc='sum')"
   ]
  },
  {
   "cell_type": "code",
   "execution_count": 139,
   "metadata": {},
   "outputs": [],
   "source": [
    "# closed_type_2_lm = closed_pawn_type_2(date_list[1][0], date_list[1][1])\n",
    "\n",
    "# closed_ty2_overview_lm = closed_type_2_lm.pivot_table(index='categoryname', columns='closed_type', values='pawnid',aggfunc='nunique')\n",
    "# closed_ty2_overview_lm = closed_ty2_overview_lm.reset_index()\n",
    "# closed_ty2_overview_amt_lm = closed_type_2_lm.pivot_table(index='categoryname', columns='closed_type', values='expected_amt',aggfunc='sum')\n",
    "# closed_ty2_oc_lm = closed_type_2_lm.pivot_table(index=['categoryname', 'closed_type'], columns='oc_month_compare', values='pawnid', aggfunc='nunique')\n",
    "# closed_ty2_oc_amt_lm = closed_type_2_lm.pivot_table(index=['categoryname', 'closed_type'], columns='oc_month_compare', values='expected_amt', aggfunc='sum')"
   ]
  },
  {
   "cell_type": "code",
   "execution_count": 140,
   "metadata": {},
   "outputs": [],
   "source": [
    "# closed_ty2_overview_amt = closed_ty2_overview_amt.reset_index()\n",
    "\n",
    "# closed_ty2_oc = closed_ty2_oc.reset_index()\n",
    "\n",
    "# closed_ty2_oc_amt=closed_ty2_oc_amt.reset_index()\n",
    "\n",
    "# closed_ty2_overview_amt_lm = closed_ty2_overview_amt_lm.reset_index()\n",
    "\n",
    "# closed_ty2_oc_lm = closed_ty2_oc_lm.reset_index()\n",
    "\n",
    "# closed_ty2_oc_amt_lm = closed_ty2_oc_amt_lm.reset_index()"
   ]
  },
  {
   "cell_type": "code",
   "execution_count": 141,
   "metadata": {},
   "outputs": [],
   "source": [
    "client = pygsheets.authorize(service_account_file=r'D:\\F88\\Python code\\Immediate_warning\\service_account.json')\n",
    "\n",
    "dailyrp_wb_id = '1WZp4LcjNVnGJ4Fn5KIC8Fg0L4MymwynRxgkLTnLTWAA'\n",
    "# 1yapjrHmzWCEUr_CL94aUiNo7TLMKLPTyMefNiDZ8MmE\n",
    "sheet = client.open_by_key(dailyrp_wb_id)\n",
    "\n",
    "raw_sheet = sheet.worksheet_by_title('pivot_off_1')\n",
    "\n",
    "raw_sheet_2 = sheet.worksheet_by_title('pivot_off_2')\n",
    "raw_sheet_3 = sheet.worksheet_by_title('no_remind_list')"
   ]
  },
  {
   "cell_type": "code",
   "execution_count": 142,
   "metadata": {},
   "outputs": [],
   "source": [
    "raw_sheet.set_dataframe(ontime_overview_1, (3,2))"
   ]
  },
  {
   "cell_type": "code",
   "execution_count": 143,
   "metadata": {},
   "outputs": [],
   "source": [
    "raw_sheet.set_dataframe(ontime_overview_2, (15,2))"
   ]
  },
  {
   "cell_type": "code",
   "execution_count": 144,
   "metadata": {},
   "outputs": [],
   "source": [
    "raw_sheet.set_dataframe(ontime_overview_1_last_month, (30,2))"
   ]
  },
  {
   "cell_type": "code",
   "execution_count": 145,
   "metadata": {},
   "outputs": [],
   "source": [
    "raw_sheet.set_dataframe(ontime_overview_2_last_month, (45,2))"
   ]
  },
  {
   "cell_type": "code",
   "execution_count": 146,
   "metadata": {},
   "outputs": [],
   "source": [
    "raw_sheet.set_dataframe(ontime_khuvuc_1, (60,2))"
   ]
  },
  {
   "cell_type": "code",
   "execution_count": 147,
   "metadata": {},
   "outputs": [],
   "source": [
    "raw_sheet.set_dataframe(ontime_khuvuc_2, (75,2))"
   ]
  },
  {
   "cell_type": "code",
   "execution_count": 148,
   "metadata": {},
   "outputs": [],
   "source": [
    "raw_sheet.set_dataframe(ontime_khuvuc_1_last_month, (90,2))"
   ]
  },
  {
   "cell_type": "code",
   "execution_count": 149,
   "metadata": {},
   "outputs": [],
   "source": [
    "raw_sheet.set_dataframe(ontime_khuvuc_2_last_month, (105,2))"
   ]
  },
  {
   "cell_type": "code",
   "execution_count": 150,
   "metadata": {},
   "outputs": [],
   "source": [
    "raw_sheet.set_dataframe(ontime_khuvuc_package_1, (120,2))"
   ]
  },
  {
   "cell_type": "code",
   "execution_count": 151,
   "metadata": {},
   "outputs": [],
   "source": [
    "raw_sheet.set_dataframe(ontime_khuvuc_package_2, (140,2))"
   ]
  },
  {
   "cell_type": "code",
   "execution_count": 152,
   "metadata": {},
   "outputs": [],
   "source": [
    "raw_sheet.set_dataframe(ontime_khuvuc_package_1_last_month, (170,2))"
   ]
  },
  {
   "cell_type": "code",
   "execution_count": 153,
   "metadata": {},
   "outputs": [],
   "source": [
    "raw_sheet.set_dataframe(ontime_khuvuc_package_2_last_month, (190,2))"
   ]
  },
  {
   "cell_type": "code",
   "execution_count": 154,
   "metadata": {},
   "outputs": [],
   "source": [
    "raw_sheet_2.set_dataframe(ontime_pgd_motor_title, (3,2))"
   ]
  },
  {
   "cell_type": "code",
   "execution_count": 155,
   "metadata": {},
   "outputs": [],
   "source": [
    "raw_sheet_2.set_dataframe(ontime_pgd_motor_title_last_month, (503,2))"
   ]
  },
  {
   "cell_type": "code",
   "execution_count": 156,
   "metadata": {},
   "outputs": [],
   "source": [
    "raw_sheet_2.set_dataframe(ontime_pgd_car_title, (1003,2))"
   ]
  },
  {
   "cell_type": "code",
   "execution_count": 157,
   "metadata": {},
   "outputs": [],
   "source": [
    "raw_sheet_2.set_dataframe(ontime_pgd_car_title_last_month, (1503,2))"
   ]
  },
  {
   "cell_type": "code",
   "execution_count": 158,
   "metadata": {},
   "outputs": [],
   "source": [
    "raw_sheet_2.set_dataframe(ontime_qlkv_motor_title, (2003,2))"
   ]
  },
  {
   "cell_type": "code",
   "execution_count": 159,
   "metadata": {},
   "outputs": [],
   "source": [
    "raw_sheet_2.set_dataframe(ontime_qlkv_motor_title_last_month, (2103,2))"
   ]
  },
  {
   "cell_type": "code",
   "execution_count": 160,
   "metadata": {},
   "outputs": [],
   "source": [
    "raw_sheet_2.set_dataframe(ontime_qlkv_car_title, (2203,2))"
   ]
  },
  {
   "cell_type": "code",
   "execution_count": 161,
   "metadata": {},
   "outputs": [],
   "source": [
    "raw_sheet_2.set_dataframe(ontime_qlkv_car_title_last_month, (2303,2))"
   ]
  },
  {
   "cell_type": "code",
   "execution_count": 162,
   "metadata": {},
   "outputs": [],
   "source": [
    "raw_sheet_2.set_dataframe(ontime_province_motor_title, (2403,2))"
   ]
  },
  {
   "cell_type": "code",
   "execution_count": 163,
   "metadata": {},
   "outputs": [],
   "source": [
    "raw_sheet_2.set_dataframe(ontime_province_motor_title_last_month, (2503,2))"
   ]
  },
  {
   "cell_type": "code",
   "execution_count": 164,
   "metadata": {},
   "outputs": [],
   "source": [
    "raw_sheet_2.set_dataframe(ontime_province_car_title, (2603,2))"
   ]
  },
  {
   "cell_type": "code",
   "execution_count": 165,
   "metadata": {},
   "outputs": [],
   "source": [
    "raw_sheet_2.set_dataframe(ontime_province_car_title_last_month, (2703,2))"
   ]
  },
  {
   "cell_type": "code",
   "execution_count": 166,
   "metadata": {},
   "outputs": [],
   "source": [
    "raw_sheet.set_dataframe(ontime_schedule, (210,2))"
   ]
  },
  {
   "cell_type": "code",
   "execution_count": 167,
   "metadata": {},
   "outputs": [],
   "source": [
    "raw_sheet.set_dataframe(ontime_schedule_last_month, (260,2))"
   ]
  },
  {
   "cell_type": "code",
   "execution_count": 168,
   "metadata": {},
   "outputs": [],
   "source": [
    "raw_sheet.set_dataframe(ontime_by_day_category, (310,2))"
   ]
  },
  {
   "cell_type": "code",
   "execution_count": 169,
   "metadata": {},
   "outputs": [],
   "source": [
    "raw_sheet.set_dataframe(ontime_by_day_category_last_month, (360,2))"
   ]
  },
  {
   "cell_type": "code",
   "execution_count": 170,
   "metadata": {},
   "outputs": [],
   "source": [
    "raw_sheet.set_dataframe(ontime_schedule_area_motortitle, (410,2))"
   ]
  },
  {
   "cell_type": "code",
   "execution_count": 171,
   "metadata": {},
   "outputs": [],
   "source": [
    "raw_sheet.set_dataframe(ontime_schedule_area_motortitle_last_month, (450,2))"
   ]
  },
  {
   "cell_type": "code",
   "execution_count": 172,
   "metadata": {},
   "outputs": [],
   "source": [
    "raw_sheet.set_dataframe(ontime_schedule_area_cartitle, (500,2))"
   ]
  },
  {
   "cell_type": "code",
   "execution_count": 173,
   "metadata": {},
   "outputs": [],
   "source": [
    "raw_sheet.set_dataframe(ontime_schedule_area_cartitle_last_month, (550,2))"
   ]
  },
  {
   "cell_type": "code",
   "execution_count": 174,
   "metadata": {},
   "outputs": [],
   "source": [
    "raw_sheet.set_dataframe(vn_ontime_schedule_area_motortitle_package, (600,2))"
   ]
  },
  {
   "cell_type": "code",
   "execution_count": 175,
   "metadata": {},
   "outputs": [],
   "source": [
    "raw_sheet.set_dataframe(vt_ontime_schedule_area_motortitle_package, (650,2))"
   ]
  },
  {
   "cell_type": "code",
   "execution_count": 176,
   "metadata": {},
   "outputs": [],
   "source": [
    "raw_sheet.set_dataframe(vn_ontime_schedule_area_motortitle_package_last_month, (700,2))"
   ]
  },
  {
   "cell_type": "code",
   "execution_count": 177,
   "metadata": {},
   "outputs": [],
   "source": [
    "raw_sheet.set_dataframe(vt_ontime_schedule_area_motortitle_package_last_month, (750,2))"
   ]
  },
  {
   "cell_type": "code",
   "execution_count": 178,
   "metadata": {},
   "outputs": [],
   "source": [
    "raw_sheet.set_dataframe(vn_ontime_schedule_area_cartitle_package, (800,2))"
   ]
  },
  {
   "cell_type": "code",
   "execution_count": 179,
   "metadata": {},
   "outputs": [],
   "source": [
    "raw_sheet.set_dataframe(vt_ontime_schedule_area_cartitle_package, (850,2))"
   ]
  },
  {
   "cell_type": "code",
   "execution_count": 180,
   "metadata": {},
   "outputs": [],
   "source": [
    "raw_sheet.set_dataframe(vn_ontime_schedule_area_cartitle_package_last_month, (900,2))"
   ]
  },
  {
   "cell_type": "code",
   "execution_count": 181,
   "metadata": {},
   "outputs": [],
   "source": [
    "raw_sheet.set_dataframe(vt_ontime_schedule_area_cartitle_package_last_month, (950,2))"
   ]
  },
  {
   "cell_type": "code",
   "execution_count": 182,
   "metadata": {},
   "outputs": [],
   "source": [
    "raw_sheet_2.set_dataframe(ontime_brr_ym_overview_motor_title, (2803,2))"
   ]
  },
  {
   "cell_type": "code",
   "execution_count": 183,
   "metadata": {},
   "outputs": [],
   "source": [
    "raw_sheet_2.set_dataframe(ontime_brr_ym_overview_motor_title_last_month, (2853,2))"
   ]
  },
  {
   "cell_type": "code",
   "execution_count": 184,
   "metadata": {},
   "outputs": [],
   "source": [
    "raw_sheet_2.set_dataframe(ontime_brr_ym_overview_car_title, (2903,2))"
   ]
  },
  {
   "cell_type": "code",
   "execution_count": 185,
   "metadata": {},
   "outputs": [],
   "source": [
    "raw_sheet_2.set_dataframe(ontime_brr_ym_overview_car_title_last_month, (2953,2))"
   ]
  },
  {
   "cell_type": "code",
   "execution_count": 186,
   "metadata": {},
   "outputs": [],
   "source": [
    "raw_sheet_2.set_dataframe(ontime_category_brr_ym_package_motor_title, (3003,2))"
   ]
  },
  {
   "cell_type": "code",
   "execution_count": 187,
   "metadata": {},
   "outputs": [],
   "source": [
    "raw_sheet_2.set_dataframe(ontime_category_brr_ym_package_motor_title_last_month, (3053,2))"
   ]
  },
  {
   "cell_type": "code",
   "execution_count": 188,
   "metadata": {},
   "outputs": [],
   "source": [
    "raw_sheet_2.set_dataframe(ontime_category_brr_ym_package_car_title, (3103,2))"
   ]
  },
  {
   "cell_type": "code",
   "execution_count": 189,
   "metadata": {},
   "outputs": [],
   "source": [
    "raw_sheet_2.set_dataframe(ontime_category_brr_ym_package_car_title_last_month, (3153,2))"
   ]
  },
  {
   "cell_type": "code",
   "execution_count": 190,
   "metadata": {},
   "outputs": [],
   "source": [
    "raw_sheet.set_dataframe(ontime_money_range_package, (1000,2))"
   ]
  },
  {
   "cell_type": "code",
   "execution_count": 191,
   "metadata": {},
   "outputs": [],
   "source": [
    "raw_sheet.set_dataframe(ontime_money_range_package_last_month, (1030,2))"
   ]
  },
  {
   "cell_type": "code",
   "execution_count": 192,
   "metadata": {},
   "outputs": [],
   "source": [
    "raw_sheet.set_dataframe(ontime_time_range_package, (1060,2))"
   ]
  },
  {
   "cell_type": "code",
   "execution_count": 193,
   "metadata": {},
   "outputs": [],
   "source": [
    "raw_sheet.set_dataframe(ontime_time_range_package_last_month, (1090,2))"
   ]
  },
  {
   "cell_type": "code",
   "execution_count": 194,
   "metadata": {},
   "outputs": [],
   "source": [
    "raw_sheet.set_dataframe(ontime_money_range_package_area, (1115,2))"
   ]
  },
  {
   "cell_type": "code",
   "execution_count": 195,
   "metadata": {},
   "outputs": [],
   "source": [
    "raw_sheet.set_dataframe(ontime_money_range_package_area_last_month, (1140,2))"
   ]
  },
  {
   "cell_type": "code",
   "execution_count": 196,
   "metadata": {},
   "outputs": [],
   "source": [
    "raw_sheet.set_dataframe(ontime_time_range_package_area,(1165,2))"
   ]
  },
  {
   "cell_type": "code",
   "execution_count": 197,
   "metadata": {},
   "outputs": [],
   "source": [
    "raw_sheet.set_dataframe(ontime_time_range_package_area_last_month, (1190,2))"
   ]
  },
  {
   "cell_type": "code",
   "execution_count": 198,
   "metadata": {},
   "outputs": [],
   "source": [
    "raw_sheet.set_dataframe(ontime_money_time_range, (1215,2))"
   ]
  },
  {
   "cell_type": "code",
   "execution_count": 199,
   "metadata": {},
   "outputs": [],
   "source": [
    "raw_sheet.set_dataframe(ontime_money_time_range_last_month, (1240,2))"
   ]
  },
  {
   "cell_type": "code",
   "execution_count": 200,
   "metadata": {},
   "outputs": [],
   "source": [
    "raw_sheet.set_dataframe(ontime_cus_type_overview, (1265,2))"
   ]
  },
  {
   "cell_type": "code",
   "execution_count": 201,
   "metadata": {},
   "outputs": [],
   "source": [
    "raw_sheet.set_dataframe(ontime_cus_type_overview_last_month, (1270,2))"
   ]
  },
  {
   "cell_type": "code",
   "execution_count": 202,
   "metadata": {},
   "outputs": [],
   "source": [
    "raw_sheet.set_dataframe(ontime_custype_category, (1280,2))"
   ]
  },
  {
   "cell_type": "code",
   "execution_count": 203,
   "metadata": {},
   "outputs": [],
   "source": [
    "raw_sheet.set_dataframe(ontime_custype_category_last_month, (1290,2))"
   ]
  },
  {
   "cell_type": "code",
   "execution_count": 204,
   "metadata": {},
   "outputs": [],
   "source": [
    "raw_sheet.set_dataframe(ontime_custype_category_package, (1300,2))"
   ]
  },
  {
   "cell_type": "code",
   "execution_count": 205,
   "metadata": {},
   "outputs": [],
   "source": [
    "raw_sheet.set_dataframe(ontime_custype_category_package_last_month, (1315,2))"
   ]
  },
  {
   "cell_type": "code",
   "execution_count": 206,
   "metadata": {},
   "outputs": [],
   "source": [
    "raw_sheet.set_dataframe(ontime_custype_category_area, (1330,2))"
   ]
  },
  {
   "cell_type": "code",
   "execution_count": 207,
   "metadata": {},
   "outputs": [],
   "source": [
    "raw_sheet.set_dataframe(ontime_custype_category_area_last_month, (1340,2))"
   ]
  },
  {
   "cell_type": "code",
   "execution_count": 208,
   "metadata": {},
   "outputs": [],
   "source": [
    "raw_sheet.set_dataframe(ontime_time_measurement, (1350,2))"
   ]
  },
  {
   "cell_type": "code",
   "execution_count": 209,
   "metadata": {},
   "outputs": [],
   "source": [
    "raw_sheet.set_dataframe(ontime_time_measurement_last_month, (1370,2))"
   ]
  },
  {
   "cell_type": "code",
   "execution_count": 210,
   "metadata": {},
   "outputs": [],
   "source": [
    "raw_sheet.set_dataframe(remind_motor_title_area, (1390,2))"
   ]
  },
  {
   "cell_type": "code",
   "execution_count": 211,
   "metadata": {},
   "outputs": [],
   "source": [
    "raw_sheet.set_dataframe(remind_motor_title_area_last_month, (1400,2))"
   ]
  },
  {
   "cell_type": "code",
   "execution_count": 212,
   "metadata": {},
   "outputs": [],
   "source": [
    "raw_sheet_2.set_dataframe(remind_motor_title_shop, (3203,2))"
   ]
  },
  {
   "cell_type": "code",
   "execution_count": 213,
   "metadata": {},
   "outputs": [],
   "source": [
    "raw_sheet_2.set_dataframe(remind_motor_title_shop_last_month, (3703,2))"
   ]
  },
  {
   "cell_type": "code",
   "execution_count": 214,
   "metadata": {},
   "outputs": [],
   "source": [
    "raw_sheet.set_dataframe(remind_motor_title_schedule, (1410,2))"
   ]
  },
  {
   "cell_type": "code",
   "execution_count": 215,
   "metadata": {},
   "outputs": [],
   "source": [
    "raw_sheet.set_dataframe(remind_motor_title_schedule_last_month, (1460,2))"
   ]
  },
  {
   "cell_type": "code",
   "execution_count": 216,
   "metadata": {},
   "outputs": [],
   "source": [
    "raw_sheet.set_dataframe(remind_car_title_area, (1510,2))"
   ]
  },
  {
   "cell_type": "code",
   "execution_count": 217,
   "metadata": {},
   "outputs": [],
   "source": [
    "raw_sheet.set_dataframe(remind_car_title_area_last_month, (1520,2))"
   ]
  },
  {
   "cell_type": "code",
   "execution_count": 218,
   "metadata": {},
   "outputs": [],
   "source": [
    "raw_sheet_2.set_dataframe(remind_car_title_shop, (4203,2))"
   ]
  },
  {
   "cell_type": "code",
   "execution_count": 219,
   "metadata": {},
   "outputs": [],
   "source": [
    "raw_sheet_2.set_dataframe(remind_car_title_shop_last_month, (4703,2))"
   ]
  },
  {
   "cell_type": "code",
   "execution_count": 220,
   "metadata": {},
   "outputs": [],
   "source": [
    "raw_sheet_2.set_dataframe(remind_motor_title_asm, (5203,2))"
   ]
  },
  {
   "cell_type": "code",
   "execution_count": 221,
   "metadata": {},
   "outputs": [],
   "source": [
    "raw_sheet_2.set_dataframe(remind_motor_title_asm_last_month, (5303,2))"
   ]
  },
  {
   "cell_type": "code",
   "execution_count": 222,
   "metadata": {},
   "outputs": [],
   "source": [
    "raw_sheet_2.set_dataframe(remind_car_title_asm, (5403,2))"
   ]
  },
  {
   "cell_type": "code",
   "execution_count": 223,
   "metadata": {},
   "outputs": [],
   "source": [
    "raw_sheet_2.set_dataframe(remind_car_title_asm_last_month, (5503,2))"
   ]
  },
  {
   "cell_type": "code",
   "execution_count": 224,
   "metadata": {},
   "outputs": [],
   "source": [
    "raw_sheet.set_dataframe(remind_car_title_schedule, (1530,2))"
   ]
  },
  {
   "cell_type": "code",
   "execution_count": 225,
   "metadata": {},
   "outputs": [],
   "source": [
    "raw_sheet.set_dataframe(remind_car_title_schedule_last_month, (1580,2))"
   ]
  },
  {
   "cell_type": "code",
   "execution_count": 226,
   "metadata": {},
   "outputs": [],
   "source": [
    "# raw_sheet.set_dataframe(admind_remind_summary, (1630,2))"
   ]
  },
  {
   "cell_type": "code",
   "execution_count": 227,
   "metadata": {},
   "outputs": [],
   "source": [
    "# raw_sheet.set_dataframe(cmt_group_motor_title, (1680,2))"
   ]
  },
  {
   "cell_type": "code",
   "execution_count": 228,
   "metadata": {},
   "outputs": [],
   "source": [
    "# raw_sheet.set_dataframe(cmt_group_car_title, (1685,2))"
   ]
  },
  {
   "cell_type": "code",
   "execution_count": 229,
   "metadata": {},
   "outputs": [],
   "source": [
    "# raw_sheet.set_dataframe(closed_ty1_overview, (1690,2))"
   ]
  },
  {
   "cell_type": "code",
   "execution_count": 230,
   "metadata": {},
   "outputs": [],
   "source": [
    "# raw_sheet.set_dataframe(closed_ty1_oc, (1700,2))"
   ]
  },
  {
   "cell_type": "code",
   "execution_count": 231,
   "metadata": {},
   "outputs": [],
   "source": [
    "# raw_sheet.set_dataframe(closed_ty1_overview_lm, (1710,2))"
   ]
  },
  {
   "cell_type": "code",
   "execution_count": 232,
   "metadata": {},
   "outputs": [],
   "source": [
    "# raw_sheet.set_dataframe(closed_ty1_oc_lm, (1720,2))"
   ]
  },
  {
   "cell_type": "code",
   "execution_count": 233,
   "metadata": {},
   "outputs": [],
   "source": [
    "# raw_sheet.set_dataframe(closed_ty2_overview, (1730,2))"
   ]
  },
  {
   "cell_type": "code",
   "execution_count": 234,
   "metadata": {},
   "outputs": [],
   "source": [
    "# raw_sheet.set_dataframe(closed_ty2_overview_amt, (1740,2))"
   ]
  },
  {
   "cell_type": "code",
   "execution_count": 235,
   "metadata": {},
   "outputs": [],
   "source": [
    "# raw_sheet.set_dataframe(closed_ty2_oc, (1750,2))"
   ]
  },
  {
   "cell_type": "code",
   "execution_count": 236,
   "metadata": {},
   "outputs": [],
   "source": [
    "# raw_sheet.set_dataframe(closed_ty2_oc_amt, (1760,2))"
   ]
  },
  {
   "cell_type": "code",
   "execution_count": 237,
   "metadata": {},
   "outputs": [],
   "source": [
    "# raw_sheet.set_dataframe(closed_ty2_overview_lm, (1770,2))"
   ]
  },
  {
   "cell_type": "code",
   "execution_count": 238,
   "metadata": {},
   "outputs": [],
   "source": [
    "# raw_sheet.set_dataframe(closed_ty2_overview_amt_lm, (1780,2))"
   ]
  },
  {
   "cell_type": "code",
   "execution_count": 239,
   "metadata": {},
   "outputs": [],
   "source": [
    "# raw_sheet.set_dataframe(closed_ty2_oc_lm, (1790,2))"
   ]
  },
  {
   "cell_type": "code",
   "execution_count": 240,
   "metadata": {},
   "outputs": [],
   "source": [
    "# raw_sheet.set_dataframe(closed_ty2_oc_amt_lm, (1810,2))"
   ]
  },
  {
   "cell_type": "code",
   "execution_count": 241,
   "metadata": {},
   "outputs": [],
   "source": [
    "raw_sheet.set_dataframe(pmt_3days_by_day_cate, (1830,2))"
   ]
  },
  {
   "cell_type": "code",
   "execution_count": 242,
   "metadata": {},
   "outputs": [],
   "source": [
    "raw_sheet.set_dataframe(pmt_3days_by_day_cate_last_month, (1880,2))"
   ]
  },
  {
   "cell_type": "code",
   "execution_count": 243,
   "metadata": {},
   "outputs": [],
   "source": [
    "# raw_sheet_3.set_dataframe(admind_no_remind, (1,1))"
   ]
  },
  {
   "cell_type": "code",
   "execution_count": 244,
   "metadata": {},
   "outputs": [],
   "source": [
    "\n",
    "raw_sheet.set_dataframe(ontime_schedule_3, (1915,1))\n",
    "\n",
    "raw_sheet.set_dataframe(ontime_schedule_3_last_month, (1965,1))"
   ]
  },
  {
   "cell_type": "code",
   "execution_count": 245,
   "metadata": {},
   "outputs": [],
   "source": [
    "raw_sheet.set_dataframe(ontime_schedule_4_vaynhanh, (2005,2))"
   ]
  },
  {
   "cell_type": "code",
   "execution_count": 246,
   "metadata": {},
   "outputs": [],
   "source": [
    "raw_sheet.set_dataframe(ontime_schedule_4_vaythuong, (2040,2))"
   ]
  },
  {
   "cell_type": "code",
   "execution_count": 247,
   "metadata": {},
   "outputs": [],
   "source": [
    "raw_sheet.set_dataframe(ontime_schedule_4_vaynhanh_last_month, (2075,2))"
   ]
  },
  {
   "cell_type": "code",
   "execution_count": 248,
   "metadata": {},
   "outputs": [],
   "source": [
    "raw_sheet.set_dataframe(ontime_schedule_4_vaythuong_last_month, (2115,2))"
   ]
  },
  {
   "cell_type": "code",
   "execution_count": 249,
   "metadata": {},
   "outputs": [],
   "source": [
    "raw_sheet_2.set_dataframe(remind_motor_title_province, (5600,2))"
   ]
  },
  {
   "cell_type": "code",
   "execution_count": 250,
   "metadata": {},
   "outputs": [],
   "source": [
    "raw_sheet_2.set_dataframe(remind_motor_title_province_last_month, (5700,2))"
   ]
  },
  {
   "cell_type": "code",
   "execution_count": 251,
   "metadata": {},
   "outputs": [],
   "source": [
    "raw_sheet_2.set_dataframe(remind_car_title_province, (5800,2))"
   ]
  },
  {
   "cell_type": "code",
   "execution_count": 252,
   "metadata": {},
   "outputs": [],
   "source": [
    "raw_sheet_2.set_dataframe(remind_car_title_province_last_month, (5900,2))"
   ]
  },
  {
   "cell_type": "code",
   "execution_count": null,
   "metadata": {},
   "outputs": [],
   "source": []
  },
  {
   "cell_type": "code",
   "execution_count": 253,
   "metadata": {},
   "outputs": [],
   "source": [
    "shop_data.to_excel('shop_data.xlsx', index = False)"
   ]
  },
  {
   "cell_type": "code",
   "execution_count": 252,
   "metadata": {},
   "outputs": [],
   "source": [
    "import xlsxwriter\n",
    "writer = pd.ExcelWriter(r'ontime_raw_T12.xlsx', engine='xlsxwriter')\n",
    "ontime_spdk.to_excel(writer, sheet_name='ontime_spdk')\n",
    "ontime_spdk_last_month.to_excel(writer, sheet_name='ontime_spdk_last_month')\n",
    "# shop_infor.to_excel(writer, sheet_name = 'shop_infor')\n",
    "# full_tb_dkot.to_excel(writer, sheet_name = 'full_tb_dkot', index = False)\n",
    "# full_tb_dkxm.to_excel(writer, sheet_name = 'full_tb_dkxm', index = False)\n",
    "# ontime_spdk_last_month.to_excel(writer, sheet_name = 'ontime_spdk_last_month', index = False)\n",
    "# balance_pre_days.to_excel(writer, sheet_name= 'balance_pre_days_summ', index = False)\n",
    "writer.save()"
   ]
  },
  {
   "cell_type": "code",
   "execution_count": null,
   "metadata": {},
   "outputs": [],
   "source": [
    "import xlsxwriter\n",
    "writer3 = pd.ExcelWriter(r'ontime_dkxm_this_month_T12.xlsx', engine='xlsxwriter')\n",
    "ontime_dkxm_this_month.to_excel(writer3, sheet_name='ontime_dkxm_this_month')\n",
    "\n",
    "writer3.save()"
   ]
  },
  {
   "cell_type": "code",
   "execution_count": 86,
   "metadata": {},
   "outputs": [],
   "source": [
    "remind_stats_motor_title.to_excel('remind_stats_motor_title_T12.xlsx', index = False)"
   ]
  },
  {
   "cell_type": "code",
   "execution_count": 87,
   "metadata": {},
   "outputs": [],
   "source": [
    "remind_stats_car_title.to_excel('remind_stats_car_title_T12.xlsx', index = False)"
   ]
  },
  {
   "cell_type": "code",
   "execution_count": 242,
   "metadata": {},
   "outputs": [
    {
     "data": {
      "text/html": [
       "<div>\n",
       "<style scoped>\n",
       "    .dataframe tbody tr th:only-of-type {\n",
       "        vertical-align: middle;\n",
       "    }\n",
       "\n",
       "    .dataframe tbody tr th {\n",
       "        vertical-align: top;\n",
       "    }\n",
       "\n",
       "    .dataframe thead th {\n",
       "        text-align: right;\n",
       "    }\n",
       "</style>\n",
       "<table border=\"1\" class=\"dataframe\">\n",
       "  <thead>\n",
       "    <tr style=\"text-align: right;\">\n",
       "      <th></th>\n",
       "      <th>pawnid</th>\n",
       "      <th>dpd_yesterday</th>\n",
       "      <th>packagecode</th>\n",
       "      <th>shopname</th>\n",
       "      <th>shopcode</th>\n",
       "      <th>areaid</th>\n",
       "      <th>scheduletodate</th>\n",
       "      <th>paydate</th>\n",
       "      <th>acc_prin_payment</th>\n",
       "      <th>status</th>\n",
       "      <th>...</th>\n",
       "      <th>Shop ID</th>\n",
       "      <th>Vùng/Miền</th>\n",
       "      <th>Thời gian KT</th>\n",
       "      <th>Vùng</th>\n",
       "      <th>code</th>\n",
       "      <th>name</th>\n",
       "      <th>GĐM</th>\n",
       "      <th>TPK</th>\n",
       "      <th>QLKV</th>\n",
       "      <th>khu_vuc</th>\n",
       "    </tr>\n",
       "  </thead>\n",
       "  <tbody>\n",
       "    <tr>\n",
       "      <th>0</th>\n",
       "      <td>1264475</td>\n",
       "      <td>-1</td>\n",
       "      <td>None</td>\n",
       "      <td>F88 HCM - 128/1 Nguyễn Ảnh Thủ</td>\n",
       "      <td>SG2042</td>\n",
       "      <td>2.0</td>\n",
       "      <td>2020-12-04</td>\n",
       "      <td>2020-12-04</td>\n",
       "      <td>9872320.0</td>\n",
       "      <td>14</td>\n",
       "      <td>...</td>\n",
       "      <td>227</td>\n",
       "      <td>Miền Nam</td>\n",
       "      <td>2019 - 7</td>\n",
       "      <td>HCM</td>\n",
       "      <td>SG2042</td>\n",
       "      <td>F88 HCM - 128/1 Nguyễn Ảnh Thủ</td>\n",
       "      <td>Lê Ngọ</td>\n",
       "      <td>Trần Thanh Phú</td>\n",
       "      <td>Nguyễn Đình Nhật</td>\n",
       "      <td>TP. Hồ Chí Minh</td>\n",
       "    </tr>\n",
       "    <tr>\n",
       "      <th>1</th>\n",
       "      <td>1264475</td>\n",
       "      <td>-1</td>\n",
       "      <td>None</td>\n",
       "      <td>F88 HCM - 128/1 Nguyễn Ảnh Thủ</td>\n",
       "      <td>SG2042</td>\n",
       "      <td>2.0</td>\n",
       "      <td>2020-12-04</td>\n",
       "      <td>2020-12-04</td>\n",
       "      <td>9872320.0</td>\n",
       "      <td>14</td>\n",
       "      <td>...</td>\n",
       "      <td>227</td>\n",
       "      <td>Miền Nam</td>\n",
       "      <td>2019 - 7</td>\n",
       "      <td>HCM</td>\n",
       "      <td>SG2042</td>\n",
       "      <td>F88 HCM - 128/1 Nguyễn Ảnh Thủ</td>\n",
       "      <td>Lê Ngọ</td>\n",
       "      <td>Trần Thanh Phú</td>\n",
       "      <td>Nguyễn Đình Nhật</td>\n",
       "      <td>TP. Hồ Chí Minh</td>\n",
       "    </tr>\n",
       "    <tr>\n",
       "      <th>2</th>\n",
       "      <td>1264475</td>\n",
       "      <td>-1</td>\n",
       "      <td>None</td>\n",
       "      <td>F88 HCM - 128/1 Nguyễn Ảnh Thủ</td>\n",
       "      <td>SG2042</td>\n",
       "      <td>2.0</td>\n",
       "      <td>2020-12-04</td>\n",
       "      <td>2020-12-04</td>\n",
       "      <td>9872320.0</td>\n",
       "      <td>14</td>\n",
       "      <td>...</td>\n",
       "      <td>227</td>\n",
       "      <td>Miền Nam</td>\n",
       "      <td>2019 - 7</td>\n",
       "      <td>HCM</td>\n",
       "      <td>SG2042</td>\n",
       "      <td>F88 HCM - 128/1 Nguyễn Ảnh Thủ</td>\n",
       "      <td>Lê Ngọ</td>\n",
       "      <td>Trần Thanh Phú</td>\n",
       "      <td>Nguyễn Đình Nhật</td>\n",
       "      <td>TP. Hồ Chí Minh</td>\n",
       "    </tr>\n",
       "    <tr>\n",
       "      <th>3</th>\n",
       "      <td>1303996</td>\n",
       "      <td>-1</td>\n",
       "      <td>None</td>\n",
       "      <td>F88 HCM - 656 Lạc Long Quân</td>\n",
       "      <td>SG2003</td>\n",
       "      <td>2.0</td>\n",
       "      <td>2020-12-19</td>\n",
       "      <td>2020-12-19</td>\n",
       "      <td>119412050.0</td>\n",
       "      <td>14</td>\n",
       "      <td>...</td>\n",
       "      <td>183</td>\n",
       "      <td>Miền Nam</td>\n",
       "      <td>2018 - 11</td>\n",
       "      <td>HCM</td>\n",
       "      <td>SG2003</td>\n",
       "      <td>F88 HCM - 656 Lạc Long Quân</td>\n",
       "      <td>Lê Ngọ</td>\n",
       "      <td>Trần Thanh Phú</td>\n",
       "      <td>Lý Văn Đạt</td>\n",
       "      <td>TP. Hồ Chí Minh</td>\n",
       "    </tr>\n",
       "    <tr>\n",
       "      <th>4</th>\n",
       "      <td>1303996</td>\n",
       "      <td>-1</td>\n",
       "      <td>None</td>\n",
       "      <td>F88 HCM - 656 Lạc Long Quân</td>\n",
       "      <td>SG2003</td>\n",
       "      <td>2.0</td>\n",
       "      <td>2020-12-19</td>\n",
       "      <td>2020-12-19</td>\n",
       "      <td>119412050.0</td>\n",
       "      <td>14</td>\n",
       "      <td>...</td>\n",
       "      <td>183</td>\n",
       "      <td>Miền Nam</td>\n",
       "      <td>2018 - 11</td>\n",
       "      <td>HCM</td>\n",
       "      <td>SG2003</td>\n",
       "      <td>F88 HCM - 656 Lạc Long Quân</td>\n",
       "      <td>Lê Ngọ</td>\n",
       "      <td>Trần Thanh Phú</td>\n",
       "      <td>Lý Văn Đạt</td>\n",
       "      <td>TP. Hồ Chí Minh</td>\n",
       "    </tr>\n",
       "  </tbody>\n",
       "</table>\n",
       "<p>5 rows × 45 columns</p>\n",
       "</div>"
      ],
      "text/plain": [
       "    pawnid  dpd_yesterday packagecode                        shopname  \\\n",
       "0  1264475             -1        None  F88 HCM - 128/1 Nguyễn Ảnh Thủ   \n",
       "1  1264475             -1        None  F88 HCM - 128/1 Nguyễn Ảnh Thủ   \n",
       "2  1264475             -1        None  F88 HCM - 128/1 Nguyễn Ảnh Thủ   \n",
       "3  1303996             -1        None     F88 HCM - 656 Lạc Long Quân   \n",
       "4  1303996             -1        None     F88 HCM - 656 Lạc Long Quân   \n",
       "\n",
       "  shopcode  areaid scheduletodate     paydate  acc_prin_payment  status  \\\n",
       "0   SG2042     2.0     2020-12-04  2020-12-04         9872320.0      14   \n",
       "1   SG2042     2.0     2020-12-04  2020-12-04         9872320.0      14   \n",
       "2   SG2042     2.0     2020-12-04  2020-12-04         9872320.0      14   \n",
       "3   SG2003     2.0     2020-12-19  2020-12-19       119412050.0      14   \n",
       "4   SG2003     2.0     2020-12-19  2020-12-19       119412050.0      14   \n",
       "\n",
       "        ...        Shop ID Vùng/Miền Thời gian KT Vùng    code  \\\n",
       "0       ...            227  Miền Nam     2019 - 7  HCM  SG2042   \n",
       "1       ...            227  Miền Nam     2019 - 7  HCM  SG2042   \n",
       "2       ...            227  Miền Nam     2019 - 7  HCM  SG2042   \n",
       "3       ...            183  Miền Nam    2018 - 11  HCM  SG2003   \n",
       "4       ...            183  Miền Nam    2018 - 11  HCM  SG2003   \n",
       "\n",
       "                             name     GĐM             TPK              QLKV  \\\n",
       "0  F88 HCM - 128/1 Nguyễn Ảnh Thủ  Lê Ngọ  Trần Thanh Phú  Nguyễn Đình Nhật   \n",
       "1  F88 HCM - 128/1 Nguyễn Ảnh Thủ  Lê Ngọ  Trần Thanh Phú  Nguyễn Đình Nhật   \n",
       "2  F88 HCM - 128/1 Nguyễn Ảnh Thủ  Lê Ngọ  Trần Thanh Phú  Nguyễn Đình Nhật   \n",
       "3     F88 HCM - 656 Lạc Long Quân  Lê Ngọ  Trần Thanh Phú        Lý Văn Đạt   \n",
       "4     F88 HCM - 656 Lạc Long Quân  Lê Ngọ  Trần Thanh Phú        Lý Văn Đạt   \n",
       "\n",
       "           khu_vuc  \n",
       "0  TP. Hồ Chí Minh  \n",
       "1  TP. Hồ Chí Minh  \n",
       "2  TP. Hồ Chí Minh  \n",
       "3  TP. Hồ Chí Minh  \n",
       "4  TP. Hồ Chí Minh  \n",
       "\n",
       "[5 rows x 45 columns]"
      ]
     },
     "execution_count": 242,
     "metadata": {},
     "output_type": "execute_result"
    }
   ],
   "source": [
    "remind_stats_car_title.head(5)"
   ]
  },
  {
   "cell_type": "code",
   "execution_count": 240,
   "metadata": {},
   "outputs": [],
   "source": [
    "remind_stats_motor_title.to_excel('remind_stats_motor_title_T12.xlsx', index = False)\n",
    "# remind_stats_car_title.to_excel('remind_stats_car_title.xlsx', index = False)"
   ]
  },
  {
   "cell_type": "code",
   "execution_count": null,
   "metadata": {},
   "outputs": [],
   "source": []
  },
  {
   "cell_type": "code",
   "execution_count": null,
   "metadata": {},
   "outputs": [],
   "source": []
  },
  {
   "cell_type": "code",
   "execution_count": null,
   "metadata": {},
   "outputs": [],
   "source": []
  },
  {
   "cell_type": "code",
   "execution_count": 241,
   "metadata": {},
   "outputs": [
    {
     "ename": "SyntaxError",
     "evalue": "invalid syntax (<ipython-input-241-d9715a50f001>, line 1)",
     "output_type": "error",
     "traceback": [
      "\u001b[1;36m  File \u001b[1;32m\"<ipython-input-241-d9715a50f001>\"\u001b[1;36m, line \u001b[1;32m1\u001b[0m\n\u001b[1;33m    remind_stats_motor_title[].to_excel('remind_stats_motor_title_T11.xlsx', index = False)\u001b[0m\n\u001b[1;37m                             ^\u001b[0m\n\u001b[1;31mSyntaxError\u001b[0m\u001b[1;31m:\u001b[0m invalid syntax\n"
     ]
    }
   ],
   "source": [
    "remind_stats_motor_title[].to_excel('remind_stats_motor_title_T11.xlsx', index = False)\n",
    "# remind_stats_car_title.to_excel('remind_stats_car_title.xlsx', index = False)"
   ]
  },
  {
   "cell_type": "code",
   "execution_count": null,
   "metadata": {},
   "outputs": [],
   "source": [
    "remind_stats_motor_title.columns"
   ]
  },
  {
   "cell_type": "code",
   "execution_count": null,
   "metadata": {},
   "outputs": [],
   "source": [
    "remind_stats_motor_title['cmt_type'].unique()"
   ]
  },
  {
   "cell_type": "code",
   "execution_count": null,
   "metadata": {},
   "outputs": [],
   "source": [
    "# Comment on Pos\n",
    "# Comment group\n",
    "cmt_group_motor_title= remind_stats_motor_title[(remind_stats_motor_title['commenttype'] != 'Admin') & (remind_stats_motor_title['cmt_type'] == '2.early_remind')].pivot_table(columns='commenttype', index = 'shopname', values='pawnid', aggfunc='nunique').reset_index()\n",
    "\n",
    "cmt_group_car_title= remind_stats_car_title[(remind_stats_car_title['commenttype'] != 'Admin') & (remind_stats_motor_title['cmt_type'] == '2.early_remind')].pivot_table(columns='commenttype', index = 'shopname', values='pawnid', aggfunc='nunique').reset_index()\n"
   ]
  },
  {
   "cell_type": "code",
   "execution_count": null,
   "metadata": {},
   "outputs": [],
   "source": [
    "cmt_group_motor_title = cmt_group_motor_title.fillna(0)"
   ]
  },
  {
   "cell_type": "code",
   "execution_count": null,
   "metadata": {},
   "outputs": [],
   "source": [
    "cmt_group_car_title = cmt_group_car_title.fillna(0)"
   ]
  },
  {
   "cell_type": "code",
   "execution_count": null,
   "metadata": {},
   "outputs": [],
   "source": [
    "writer2 = pd.ExcelWriter(r'shop_comment_group.xlsx', engine='xlsxwriter')\n",
    "cmt_group_motor_title.to_excel(writer2, sheet_name='cmt_group_motor_title')\n",
    "cmt_group_car_title.to_excel(writer2, sheet_name='cmt_group_car_title')\n",
    "# shop_infor.to_excel(writer, sheet_name = 'shop_infor')\n",
    "# full_tb_dkot.to_excel(writer, sheet_name = 'full_tb_dkot', index = False)\n",
    "# full_tb_dkxm.to_excel(writer, sheet_name = 'full_tb_dkxm', index = False)\n",
    "# ontime_spdk_last_month.to_excel(writer, sheet_name = 'ontime_spdk_last_month', index = False)\n",
    "# balance_pre_days.to_excel(writer, sheet_name= 'balance_pre_days_summ', index = False)\n",
    "writer2.save()"
   ]
  },
  {
   "cell_type": "code",
   "execution_count": null,
   "metadata": {},
   "outputs": [],
   "source": [
    "cmt_group_car_title"
   ]
  },
  {
   "cell_type": "code",
   "execution_count": null,
   "metadata": {},
   "outputs": [],
   "source": []
  },
  {
   "cell_type": "code",
   "execution_count": null,
   "metadata": {},
   "outputs": [],
   "source": [
    "# Early remind rate trending\n",
    "check_date = '2020-11-12'"
   ]
  },
  {
   "cell_type": "code",
   "execution_count": null,
   "metadata": {},
   "outputs": [],
   "source": []
  },
  {
   "cell_type": "code",
   "execution_count": null,
   "metadata": {},
   "outputs": [],
   "source": []
  },
  {
   "cell_type": "code",
   "execution_count": null,
   "metadata": {},
   "outputs": [],
   "source": []
  },
  {
   "cell_type": "code",
   "execution_count": null,
   "metadata": {},
   "outputs": [],
   "source": []
  },
  {
   "cell_type": "code",
   "execution_count": null,
   "metadata": {},
   "outputs": [],
   "source": []
  },
  {
   "cell_type": "code",
   "execution_count": null,
   "metadata": {},
   "outputs": [],
   "source": []
  },
  {
   "cell_type": "code",
   "execution_count": null,
   "metadata": {},
   "outputs": [],
   "source": []
  },
  {
   "cell_type": "code",
   "execution_count": null,
   "metadata": {},
   "outputs": [],
   "source": []
  }
 ],
 "metadata": {
  "kernelspec": {
   "display_name": "Python 3",
   "language": "python",
   "name": "python3"
  },
  "language_info": {
   "codemirror_mode": {
    "name": "ipython",
    "version": 3
   },
   "file_extension": ".py",
   "mimetype": "text/x-python",
   "name": "python",
   "nbconvert_exporter": "python",
   "pygments_lexer": "ipython3",
   "version": "3.7.1"
  }
 },
 "nbformat": 4,
 "nbformat_minor": 2
}
